{
 "cells": [
  {
   "cell_type": "code",
   "execution_count": 1,
   "metadata": {},
   "outputs": [],
   "source": [
    "import pandas as pd\n",
    "import numpy as np\n",
    "import nltk"
   ]
  },
  {
   "cell_type": "code",
   "execution_count": 2,
   "metadata": {},
   "outputs": [
    {
     "name": "stderr",
     "output_type": "stream",
     "text": [
      "[nltk_data] Error loading word: Package 'word' not found in index\n"
     ]
    },
    {
     "data": {
      "text/plain": [
       "False"
      ]
     },
     "execution_count": 2,
     "metadata": {},
     "output_type": "execute_result"
    }
   ],
   "source": [
    "nltk.download('word')"
   ]
  },
  {
   "cell_type": "markdown",
   "metadata": {},
   "source": [
    "##### A function that reads csv files from the given path.\n",
    "##### Takes the file name with extension as a parameter"
   ]
  },
  {
   "cell_type": "code",
   "execution_count": 3,
   "metadata": {},
   "outputs": [],
   "source": [
    "def get_csv(filename):\n",
    "    filepath = \"../Dataset/\" + filename\n",
    "    return pd.read_csv(filepath)\n"
   ]
  },
  {
   "cell_type": "markdown",
   "metadata": {},
   "source": [
    "#### Read multiple csv files, and then extract unique words into a list. This list will be appended in the newly created dataframe which will go in the elastcisearch as the final dataset"
   ]
  },
  {
   "cell_type": "code",
   "execution_count": 4,
   "metadata": {},
   "outputs": [],
   "source": [
    "english_vocab = set(w.lower() for w in nltk.corpus.words.words())"
   ]
  },
  {
   "cell_type": "code",
   "execution_count": 5,
   "metadata": {},
   "outputs": [],
   "source": [
    "all_words = get_csv(\"all_words.csv\")\n",
    "hybrid_2010 = get_csv(\"hybrid_2010_tweets.csv\")\n",
    "hybrid_2020 = get_csv(\"hybrid_2020_tweets.csv\")\n",
    "nonslang_2010 = get_csv(\"nonslang_2010_tweets.csv\")\n",
    "nonslang_2020 = get_csv(\"nonslang_2020_tweets.csv\")\n",
    "slang_2010 = get_csv(\"slang_2010_tweets.csv\")\n",
    "slang_2020 = get_csv(\"slang_2020_tweets.csv\")\n",
    "slang = get_csv(\"slang.csv\")\n"
   ]
  },
  {
   "cell_type": "code",
   "execution_count": 6,
   "metadata": {},
   "outputs": [],
   "source": [
    "hybrid_2010_words = list(hybrid_2010[\"word\"].unique())\n",
    "hybrid_2020_words = list(hybrid_2020[\"word\"].unique())\n",
    "nonslang_2010_words = list(nonslang_2010[\"word\"].unique())\n",
    "nonslang_2020_words = list(nonslang_2020[\"word\"].unique())\n",
    "slang_2010_words = list(slang_2010[\"word\"].unique())\n",
    "slang_2020_words = list(slang_2020[\"word\"].unique())\n",
    "slang_words = list(slang[\"acronym\"].unique())"
   ]
  },
  {
   "cell_type": "code",
   "execution_count": 21,
   "metadata": {},
   "outputs": [
    {
     "data": {
      "text/html": [
       "<div>\n",
       "<style scoped>\n",
       "    .dataframe tbody tr th:only-of-type {\n",
       "        vertical-align: middle;\n",
       "    }\n",
       "\n",
       "    .dataframe tbody tr th {\n",
       "        vertical-align: top;\n",
       "    }\n",
       "\n",
       "    .dataframe thead th {\n",
       "        text-align: right;\n",
       "    }\n",
       "</style>\n",
       "<table border=\"1\" class=\"dataframe\">\n",
       "  <thead>\n",
       "    <tr style=\"text-align: right;\">\n",
       "      <th></th>\n",
       "      <th>word</th>\n",
       "      <th>type</th>\n",
       "    </tr>\n",
       "  </thead>\n",
       "  <tbody>\n",
       "    <tr>\n",
       "      <th>0</th>\n",
       "      <td>God</td>\n",
       "      <td>NaN</td>\n",
       "    </tr>\n",
       "    <tr>\n",
       "      <th>1</th>\n",
       "      <td>annihilated</td>\n",
       "      <td>NaN</td>\n",
       "    </tr>\n",
       "    <tr>\n",
       "      <th>2</th>\n",
       "      <td>balling</td>\n",
       "      <td>NaN</td>\n",
       "    </tr>\n",
       "    <tr>\n",
       "      <th>3</th>\n",
       "      <td>bastard</td>\n",
       "      <td>NaN</td>\n",
       "    </tr>\n",
       "    <tr>\n",
       "      <th>4</th>\n",
       "      <td>beef</td>\n",
       "      <td>NaN</td>\n",
       "    </tr>\n",
       "    <tr>\n",
       "      <th>...</th>\n",
       "      <td>...</td>\n",
       "      <td>...</td>\n",
       "    </tr>\n",
       "    <tr>\n",
       "      <th>3948</th>\n",
       "      <td>yum</td>\n",
       "      <td>NaN</td>\n",
       "    </tr>\n",
       "    <tr>\n",
       "      <th>3949</th>\n",
       "      <td>yvw</td>\n",
       "      <td>NaN</td>\n",
       "    </tr>\n",
       "    <tr>\n",
       "      <th>3950</th>\n",
       "      <td>ywca</td>\n",
       "      <td>NaN</td>\n",
       "    </tr>\n",
       "    <tr>\n",
       "      <th>3951</th>\n",
       "      <td>ywimc</td>\n",
       "      <td>NaN</td>\n",
       "    </tr>\n",
       "    <tr>\n",
       "      <th>3952</th>\n",
       "      <td>ywu</td>\n",
       "      <td>NaN</td>\n",
       "    </tr>\n",
       "  </tbody>\n",
       "</table>\n",
       "<p>3561 rows × 2 columns</p>\n",
       "</div>"
      ],
      "text/plain": [
       "             word  type\n",
       "0             God   NaN\n",
       "1     annihilated   NaN\n",
       "2         balling   NaN\n",
       "3         bastard   NaN\n",
       "4            beef   NaN\n",
       "...           ...   ...\n",
       "3948          yum   NaN\n",
       "3949          yvw   NaN\n",
       "3950         ywca   NaN\n",
       "3951        ywimc   NaN\n",
       "3952          ywu   NaN\n",
       "\n",
       "[3561 rows x 2 columns]"
      ]
     },
     "execution_count": 21,
     "metadata": {},
     "output_type": "execute_result"
    }
   ],
   "source": [
    "words_list = [hybrid_2010_words, hybrid_2020_words, nonslang_2010_words, nonslang_2020_words, slang_2010_words, slang_2020_words, slang_words]\n",
    "words = []\n",
    "for word_list in words_list:\n",
    "    for word in word_list:\n",
    "        words.append(word)\n",
    "\n",
    "df_word = pd.DataFrame(data=words, columns=[\"word\"])\n",
    "df_word = df_word.drop_duplicates()\n",
    "df_word.reindex(columns = [\"word\"  ,\"type\"])\n"
   ]
  },
  {
   "cell_type": "markdown",
   "metadata": {},
   "source": [
    "#### The df_word has all the words from the different csv files. Now we will check if it is in the all_slang data file and add type slang if it is found there. Otherwise not slang. \n",
    "### Problem : False Positive"
   ]
  },
  {
   "cell_type": "code",
   "execution_count": 27,
   "metadata": {},
   "outputs": [
    {
     "data": {
      "text/html": [
       "<div>\n",
       "<style scoped>\n",
       "    .dataframe tbody tr th:only-of-type {\n",
       "        vertical-align: middle;\n",
       "    }\n",
       "\n",
       "    .dataframe tbody tr th {\n",
       "        vertical-align: top;\n",
       "    }\n",
       "\n",
       "    .dataframe thead th {\n",
       "        text-align: right;\n",
       "    }\n",
       "</style>\n",
       "<table border=\"1\" class=\"dataframe\">\n",
       "  <thead>\n",
       "    <tr style=\"text-align: right;\">\n",
       "      <th></th>\n",
       "      <th>word</th>\n",
       "      <th>type</th>\n",
       "    </tr>\n",
       "  </thead>\n",
       "  <tbody>\n",
       "    <tr>\n",
       "      <th>0</th>\n",
       "      <td>God</td>\n",
       "      <td>nonslang</td>\n",
       "    </tr>\n",
       "    <tr>\n",
       "      <th>1</th>\n",
       "      <td>annihilated</td>\n",
       "      <td>nonslang</td>\n",
       "    </tr>\n",
       "    <tr>\n",
       "      <th>2</th>\n",
       "      <td>balling</td>\n",
       "      <td>nonslang</td>\n",
       "    </tr>\n",
       "    <tr>\n",
       "      <th>3</th>\n",
       "      <td>bastard</td>\n",
       "      <td>nonslang</td>\n",
       "    </tr>\n",
       "    <tr>\n",
       "      <th>4</th>\n",
       "      <td>beef</td>\n",
       "      <td>nonslang</td>\n",
       "    </tr>\n",
       "    <tr>\n",
       "      <th>...</th>\n",
       "      <td>...</td>\n",
       "      <td>...</td>\n",
       "    </tr>\n",
       "    <tr>\n",
       "      <th>3948</th>\n",
       "      <td>yum</td>\n",
       "      <td>slang</td>\n",
       "    </tr>\n",
       "    <tr>\n",
       "      <th>3949</th>\n",
       "      <td>yvw</td>\n",
       "      <td>slang</td>\n",
       "    </tr>\n",
       "    <tr>\n",
       "      <th>3950</th>\n",
       "      <td>ywca</td>\n",
       "      <td>slang</td>\n",
       "    </tr>\n",
       "    <tr>\n",
       "      <th>3951</th>\n",
       "      <td>ywimc</td>\n",
       "      <td>slang</td>\n",
       "    </tr>\n",
       "    <tr>\n",
       "      <th>3952</th>\n",
       "      <td>ywu</td>\n",
       "      <td>slang</td>\n",
       "    </tr>\n",
       "  </tbody>\n",
       "</table>\n",
       "<p>3561 rows × 2 columns</p>\n",
       "</div>"
      ],
      "text/plain": [
       "             word      type\n",
       "0             God  nonslang\n",
       "1     annihilated  nonslang\n",
       "2         balling  nonslang\n",
       "3         bastard  nonslang\n",
       "4            beef  nonslang\n",
       "...           ...       ...\n",
       "3948          yum     slang\n",
       "3949          yvw     slang\n",
       "3950         ywca     slang\n",
       "3951        ywimc     slang\n",
       "3952          ywu     slang\n",
       "\n",
       "[3561 rows x 2 columns]"
      ]
     },
     "execution_count": 27,
     "metadata": {},
     "output_type": "execute_result"
    }
   ],
   "source": [
    "df_word[\"type\"] = df_word.word.isin(slang.acronym).astype(int)\n",
    "df_word[\"type\"] = np.where(\n",
    "                    df_word[\"type\"] == 0, \"nonslang\", \"slang\"\n",
    "                )\n",
    "\n",
    "df_word"
   ]
  },
  {
   "cell_type": "code",
   "execution_count": null,
   "metadata": {},
   "outputs": [],
   "source": []
  },
  {
   "cell_type": "code",
   "execution_count": null,
   "metadata": {},
   "outputs": [],
   "source": []
  }
 ],
 "metadata": {
  "kernelspec": {
   "display_name": "Python 3.10.8 64-bit",
   "language": "python",
   "name": "python3"
  },
  "language_info": {
   "codemirror_mode": {
    "name": "ipython",
    "version": 3
   },
   "file_extension": ".py",
   "mimetype": "text/x-python",
   "name": "python",
   "nbconvert_exporter": "python",
   "pygments_lexer": "ipython3",
   "version": "3.10.8"
  },
  "orig_nbformat": 4,
  "vscode": {
   "interpreter": {
    "hash": "e8bba4f2be892cbd4f39a9f240acc2c7ebb8cef7264d56c87dbb8c6b0bcbe231"
   }
  }
 },
 "nbformat": 4,
 "nbformat_minor": 2
}
