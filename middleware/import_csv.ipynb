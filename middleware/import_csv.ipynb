{
 "cells": [
  {
   "cell_type": "code",
   "execution_count": 2,
   "metadata": {},
   "outputs": [
    {
     "name": "stdout",
     "output_type": "stream",
     "text": [
      "<Elasticsearch([{'host': 'localhost', 'port': 9200}])>\n"
     ]
    }
   ],
   "source": [
    "%pip install \"requests==2.28.1\"\n",
    "import sys\n",
    "from urllib.parse import urljoin\n",
    "import requests\n",
    "sys.path.insert(1, '/Users/anureddy/Desktop/Sem01/DataScience_for_text_analytics/Project1/slang-translator/Connection')\n",
    "\n",
    "from elastic_con import client \n",
    "import pandas as pd\n",
    "import csv\n",
    "from elasticsearch import Elasticsearch, helpers"
   ]
  },
  {
   "cell_type": "code",
   "execution_count": null,
   "metadata": {},
   "outputs": [],
   "source": [
    "data = pd.read_csv(\"/Users/anureddy/Desktop/Sem01/DataScience_for_text_analytics/Project1/Urban_dict/urbandict-word-defs.csv\", error_bad_lines=False)"
   ]
  },
  {
   "cell_type": "code",
   "execution_count": 5,
   "metadata": {},
   "outputs": [
    {
     "data": {
      "text/html": [
       "<div>\n",
       "<style scoped>\n",
       "    .dataframe tbody tr th:only-of-type {\n",
       "        vertical-align: middle;\n",
       "    }\n",
       "\n",
       "    .dataframe tbody tr th {\n",
       "        vertical-align: top;\n",
       "    }\n",
       "\n",
       "    .dataframe thead th {\n",
       "        text-align: right;\n",
       "    }\n",
       "</style>\n",
       "<table border=\"1\" class=\"dataframe\">\n",
       "  <thead>\n",
       "    <tr style=\"text-align: right;\">\n",
       "      <th></th>\n",
       "      <th>word_id</th>\n",
       "      <th>word</th>\n",
       "      <th>up_votes</th>\n",
       "      <th>down_votes</th>\n",
       "      <th>author</th>\n",
       "      <th>definition</th>\n",
       "    </tr>\n",
       "  </thead>\n",
       "  <tbody>\n",
       "    <tr>\n",
       "      <th>0</th>\n",
       "      <td>7</td>\n",
       "      <td>Janky</td>\n",
       "      <td>296</td>\n",
       "      <td>255</td>\n",
       "      <td>dc397b2f</td>\n",
       "      <td>Undesirable; less-than optimum.</td>\n",
       "    </tr>\n",
       "    <tr>\n",
       "      <th>1</th>\n",
       "      <td>8</td>\n",
       "      <td>slumpin'</td>\n",
       "      <td>16</td>\n",
       "      <td>37</td>\n",
       "      <td>dc397b2f</td>\n",
       "      <td>low down and funky, but [knee deep] enough to ...</td>\n",
       "    </tr>\n",
       "    <tr>\n",
       "      <th>2</th>\n",
       "      <td>9</td>\n",
       "      <td>yayeeyay</td>\n",
       "      <td>19</td>\n",
       "      <td>27</td>\n",
       "      <td>dc397b2f</td>\n",
       "      <td>affirmation; suggestion of encouragement, appr...</td>\n",
       "    </tr>\n",
       "    <tr>\n",
       "      <th>3</th>\n",
       "      <td>12</td>\n",
       "      <td>hard-core</td>\n",
       "      <td>162</td>\n",
       "      <td>96</td>\n",
       "      <td>d1610749</td>\n",
       "      <td>anything out of our league that can be good or...</td>\n",
       "    </tr>\n",
       "    <tr>\n",
       "      <th>4</th>\n",
       "      <td>13</td>\n",
       "      <td>brutal</td>\n",
       "      <td>12</td>\n",
       "      <td>45</td>\n",
       "      <td>40ece1ef</td>\n",
       "      <td>anything that makes you sweat</td>\n",
       "    </tr>\n",
       "    <tr>\n",
       "      <th>...</th>\n",
       "      <td>...</td>\n",
       "      <td>...</td>\n",
       "      <td>...</td>\n",
       "      <td>...</td>\n",
       "      <td>...</td>\n",
       "      <td>...</td>\n",
       "    </tr>\n",
       "    <tr>\n",
       "      <th>2580582</th>\n",
       "      <td>9043521</td>\n",
       "      <td>Wikipedia</td>\n",
       "      <td>0</td>\n",
       "      <td>0</td>\n",
       "      <td>44335ab6</td>\n",
       "      <td>An online encyclopedia. This site is often not...</td>\n",
       "    </tr>\n",
       "    <tr>\n",
       "      <th>2580583</th>\n",
       "      <td>9043525</td>\n",
       "      <td>Giuseppe</td>\n",
       "      <td>1</td>\n",
       "      <td>1</td>\n",
       "      <td>dc81c268</td>\n",
       "      <td>An annoying person but a good friend.</td>\n",
       "    </tr>\n",
       "    <tr>\n",
       "      <th>2580584</th>\n",
       "      <td>9043541</td>\n",
       "      <td>pacewhore</td>\n",
       "      <td>0</td>\n",
       "      <td>0</td>\n",
       "      <td>b5e3ec68</td>\n",
       "      <td>Very fit and loving cat with a huge tail</td>\n",
       "    </tr>\n",
       "    <tr>\n",
       "      <th>2580585</th>\n",
       "      <td>9043565</td>\n",
       "      <td>FML</td>\n",
       "      <td>1</td>\n",
       "      <td>0</td>\n",
       "      <td>bd352275</td>\n",
       "      <td>Short for: Forgive me Lord</td>\n",
       "    </tr>\n",
       "    <tr>\n",
       "      <th>2580586</th>\n",
       "      <td>9043586</td>\n",
       "      <td>Poptart</td>\n",
       "      <td>0</td>\n",
       "      <td>0</td>\n",
       "      <td>d6084af8</td>\n",
       "      <td>Someone who is sweet and nice on the outside a...</td>\n",
       "    </tr>\n",
       "  </tbody>\n",
       "</table>\n",
       "<p>2580587 rows × 6 columns</p>\n",
       "</div>"
      ],
      "text/plain": [
       "         word_id       word  up_votes  down_votes    author  \\\n",
       "0              7      Janky       296         255  dc397b2f   \n",
       "1              8   slumpin'        16          37  dc397b2f   \n",
       "2              9   yayeeyay        19          27  dc397b2f   \n",
       "3             12  hard-core       162          96  d1610749   \n",
       "4             13     brutal        12          45  40ece1ef   \n",
       "...          ...        ...       ...         ...       ...   \n",
       "2580582  9043521  Wikipedia         0           0  44335ab6   \n",
       "2580583  9043525   Giuseppe         1           1  dc81c268   \n",
       "2580584  9043541  pacewhore         0           0  b5e3ec68   \n",
       "2580585  9043565        FML         1           0  bd352275   \n",
       "2580586  9043586    Poptart         0           0  d6084af8   \n",
       "\n",
       "                                                definition  \n",
       "0                          Undesirable; less-than optimum.  \n",
       "1        low down and funky, but [knee deep] enough to ...  \n",
       "2        affirmation; suggestion of encouragement, appr...  \n",
       "3        anything out of our league that can be good or...  \n",
       "4                            anything that makes you sweat  \n",
       "...                                                    ...  \n",
       "2580582  An online encyclopedia. This site is often not...  \n",
       "2580583              An annoying person but a good friend.  \n",
       "2580584           Very fit and loving cat with a huge tail  \n",
       "2580585                         Short for: Forgive me Lord  \n",
       "2580586  Someone who is sweet and nice on the outside a...  \n",
       "\n",
       "[2580587 rows x 6 columns]"
      ]
     },
     "execution_count": 5,
     "metadata": {},
     "output_type": "execute_result"
    }
   ],
   "source": [
    "# pre-processing the dataset\n",
    "data\n"
   ]
  },
  {
   "cell_type": "code",
   "execution_count": 6,
   "metadata": {},
   "outputs": [
    {
     "data": {
      "text/html": [
       "<div>\n",
       "<style scoped>\n",
       "    .dataframe tbody tr th:only-of-type {\n",
       "        vertical-align: middle;\n",
       "    }\n",
       "\n",
       "    .dataframe tbody tr th {\n",
       "        vertical-align: top;\n",
       "    }\n",
       "\n",
       "    .dataframe thead th {\n",
       "        text-align: right;\n",
       "    }\n",
       "</style>\n",
       "<table border=\"1\" class=\"dataframe\">\n",
       "  <thead>\n",
       "    <tr style=\"text-align: right;\">\n",
       "      <th></th>\n",
       "      <th>word</th>\n",
       "      <th>definition</th>\n",
       "    </tr>\n",
       "  </thead>\n",
       "  <tbody>\n",
       "    <tr>\n",
       "      <th>0</th>\n",
       "      <td>Janky</td>\n",
       "      <td>Undesirable; less-than optimum.</td>\n",
       "    </tr>\n",
       "    <tr>\n",
       "      <th>1</th>\n",
       "      <td>slumpin'</td>\n",
       "      <td>low down and funky, but [knee deep] enough to ...</td>\n",
       "    </tr>\n",
       "    <tr>\n",
       "      <th>2</th>\n",
       "      <td>yayeeyay</td>\n",
       "      <td>affirmation; suggestion of encouragement, appr...</td>\n",
       "    </tr>\n",
       "    <tr>\n",
       "      <th>3</th>\n",
       "      <td>hard-core</td>\n",
       "      <td>anything out of our league that can be good or...</td>\n",
       "    </tr>\n",
       "    <tr>\n",
       "      <th>4</th>\n",
       "      <td>brutal</td>\n",
       "      <td>anything that makes you sweat</td>\n",
       "    </tr>\n",
       "    <tr>\n",
       "      <th>...</th>\n",
       "      <td>...</td>\n",
       "      <td>...</td>\n",
       "    </tr>\n",
       "    <tr>\n",
       "      <th>2580582</th>\n",
       "      <td>Wikipedia</td>\n",
       "      <td>An online encyclopedia. This site is often not...</td>\n",
       "    </tr>\n",
       "    <tr>\n",
       "      <th>2580583</th>\n",
       "      <td>Giuseppe</td>\n",
       "      <td>An annoying person but a good friend.</td>\n",
       "    </tr>\n",
       "    <tr>\n",
       "      <th>2580584</th>\n",
       "      <td>pacewhore</td>\n",
       "      <td>Very fit and loving cat with a huge tail</td>\n",
       "    </tr>\n",
       "    <tr>\n",
       "      <th>2580585</th>\n",
       "      <td>FML</td>\n",
       "      <td>Short for: Forgive me Lord</td>\n",
       "    </tr>\n",
       "    <tr>\n",
       "      <th>2580586</th>\n",
       "      <td>Poptart</td>\n",
       "      <td>Someone who is sweet and nice on the outside a...</td>\n",
       "    </tr>\n",
       "  </tbody>\n",
       "</table>\n",
       "<p>2580587 rows × 2 columns</p>\n",
       "</div>"
      ],
      "text/plain": [
       "              word                                         definition\n",
       "0            Janky                    Undesirable; less-than optimum.\n",
       "1         slumpin'  low down and funky, but [knee deep] enough to ...\n",
       "2         yayeeyay  affirmation; suggestion of encouragement, appr...\n",
       "3        hard-core  anything out of our league that can be good or...\n",
       "4           brutal                      anything that makes you sweat\n",
       "...            ...                                                ...\n",
       "2580582  Wikipedia  An online encyclopedia. This site is often not...\n",
       "2580583   Giuseppe              An annoying person but a good friend.\n",
       "2580584  pacewhore           Very fit and loving cat with a huge tail\n",
       "2580585        FML                         Short for: Forgive me Lord\n",
       "2580586    Poptart  Someone who is sweet and nice on the outside a...\n",
       "\n",
       "[2580587 rows x 2 columns]"
      ]
     },
     "execution_count": 6,
     "metadata": {},
     "output_type": "execute_result"
    }
   ],
   "source": [
    "#Keeping the required columns only (word and definition)\n",
    "df1 = data[['word','definition']]\n",
    "df1"
   ]
  },
  {
   "cell_type": "code",
   "execution_count": 7,
   "metadata": {},
   "outputs": [
    {
     "data": {
      "text/html": [
       "<div>\n",
       "<style scoped>\n",
       "    .dataframe tbody tr th:only-of-type {\n",
       "        vertical-align: middle;\n",
       "    }\n",
       "\n",
       "    .dataframe tbody tr th {\n",
       "        vertical-align: top;\n",
       "    }\n",
       "\n",
       "    .dataframe thead th {\n",
       "        text-align: right;\n",
       "    }\n",
       "</style>\n",
       "<table border=\"1\" class=\"dataframe\">\n",
       "  <thead>\n",
       "    <tr style=\"text-align: right;\">\n",
       "      <th></th>\n",
       "      <th>word</th>\n",
       "      <th>definition</th>\n",
       "    </tr>\n",
       "  </thead>\n",
       "  <tbody>\n",
       "    <tr>\n",
       "      <th>233</th>\n",
       "      <td>craptacular</td>\n",
       "      <td>NaN</td>\n",
       "    </tr>\n",
       "    <tr>\n",
       "      <th>477</th>\n",
       "      <td>blows</td>\n",
       "      <td>NaN</td>\n",
       "    </tr>\n",
       "    <tr>\n",
       "      <th>1605</th>\n",
       "      <td>wussy</td>\n",
       "      <td>NaN</td>\n",
       "    </tr>\n",
       "    <tr>\n",
       "      <th>1678</th>\n",
       "      <td>hinie</td>\n",
       "      <td>NaN</td>\n",
       "    </tr>\n",
       "    <tr>\n",
       "      <th>1781</th>\n",
       "      <td>smoove</td>\n",
       "      <td>NaN</td>\n",
       "    </tr>\n",
       "    <tr>\n",
       "      <th>...</th>\n",
       "      <td>...</td>\n",
       "      <td>...</td>\n",
       "    </tr>\n",
       "    <tr>\n",
       "      <th>1269237</th>\n",
       "      <td>NaN</td>\n",
       "      <td>NaN</td>\n",
       "    </tr>\n",
       "    <tr>\n",
       "      <th>1597691</th>\n",
       "      <td>NaN</td>\n",
       "      <td>meaning sick or disgusting</td>\n",
       "    </tr>\n",
       "    <tr>\n",
       "      <th>1698995</th>\n",
       "      <td>NaN</td>\n",
       "      <td>The term used quite relatively to shut someone...</td>\n",
       "    </tr>\n",
       "    <tr>\n",
       "      <th>1935979</th>\n",
       "      <td>NaN</td>\n",
       "      <td>1. Not-a-Number. These result from operations ...</td>\n",
       "    </tr>\n",
       "    <tr>\n",
       "      <th>2132726</th>\n",
       "      <td>NaN</td>\n",
       "      <td>nan: noun ;; nan is short for [nanny] which is...</td>\n",
       "    </tr>\n",
       "  </tbody>\n",
       "</table>\n",
       "<p>193 rows × 2 columns</p>\n",
       "</div>"
      ],
      "text/plain": [
       "                word                                         definition\n",
       "233      craptacular                                                NaN\n",
       "477            blows                                                NaN\n",
       "1605           wussy                                                NaN\n",
       "1678           hinie                                                NaN\n",
       "1781          smoove                                                NaN\n",
       "...              ...                                                ...\n",
       "1269237          NaN                                                NaN\n",
       "1597691          NaN                         meaning sick or disgusting\n",
       "1698995          NaN  The term used quite relatively to shut someone...\n",
       "1935979          NaN  1. Not-a-Number. These result from operations ...\n",
       "2132726          NaN  nan: noun ;; nan is short for [nanny] which is...\n",
       "\n",
       "[193 rows x 2 columns]"
      ]
     },
     "execution_count": 7,
     "metadata": {},
     "output_type": "execute_result"
    }
   ],
   "source": [
    "#checking the null values \n",
    "df1[df1.isna().any(axis=1)]"
   ]
  },
  {
   "cell_type": "code",
   "execution_count": 8,
   "metadata": {},
   "outputs": [
    {
     "name": "stderr",
     "output_type": "stream",
     "text": [
      "/Library/Frameworks/Python.framework/Versions/3.7/lib/python3.7/site-packages/pandas/util/_decorators.py:311: SettingWithCopyWarning: \n",
      "A value is trying to be set on a copy of a slice from a DataFrame\n",
      "\n",
      "See the caveats in the documentation: https://pandas.pydata.org/pandas-docs/stable/user_guide/indexing.html#returning-a-view-versus-a-copy\n",
      "  return func(*args, **kwargs)\n"
     ]
    }
   ],
   "source": [
    "# removing the null values\n",
    "df1.dropna(inplace=True)"
   ]
  },
  {
   "cell_type": "code",
   "execution_count": 9,
   "metadata": {},
   "outputs": [
    {
     "data": {
      "text/html": [
       "<div>\n",
       "<style scoped>\n",
       "    .dataframe tbody tr th:only-of-type {\n",
       "        vertical-align: middle;\n",
       "    }\n",
       "\n",
       "    .dataframe tbody tr th {\n",
       "        vertical-align: top;\n",
       "    }\n",
       "\n",
       "    .dataframe thead th {\n",
       "        text-align: right;\n",
       "    }\n",
       "</style>\n",
       "<table border=\"1\" class=\"dataframe\">\n",
       "  <thead>\n",
       "    <tr style=\"text-align: right;\">\n",
       "      <th></th>\n",
       "      <th>word</th>\n",
       "      <th>definition</th>\n",
       "    </tr>\n",
       "  </thead>\n",
       "  <tbody>\n",
       "  </tbody>\n",
       "</table>\n",
       "</div>"
      ],
      "text/plain": [
       "Empty DataFrame\n",
       "Columns: [word, definition]\n",
       "Index: []"
      ]
     },
     "execution_count": 9,
     "metadata": {},
     "output_type": "execute_result"
    }
   ],
   "source": [
    "#Verifying the removal\n",
    "df1[df1.isna().any(axis=1)]"
   ]
  },
  {
   "cell_type": "code",
   "execution_count": 10,
   "metadata": {},
   "outputs": [
    {
     "data": {
      "text/plain": [
       "(2580394, 2)"
      ]
     },
     "execution_count": 10,
     "metadata": {},
     "output_type": "execute_result"
    }
   ],
   "source": [
    "#Checking the shape of the dataset\n",
    "df1.shape"
   ]
  },
  {
   "cell_type": "code",
   "execution_count": 11,
   "metadata": {},
   "outputs": [
    {
     "name": "stdout",
     "output_type": "stream",
     "text": [
      "Shape of new dataframes - (1290197, 2) , (1290197, 2)\n"
     ]
    }
   ],
   "source": [
    "#Since the size of the dataset is huge, was not able to load the data (even with bulk load and failed iwth connection time-out error) and hence split the dataframe into 2 seperate dataframe and load them under the same index in ES\n",
    "df_1 = df1.iloc[:1290197,:]\n",
    "df_2 = df1.iloc[1290197:,:]\n",
    "print(\"Shape of new dataframes - {} , {}\".format(df_1.shape, df_2.shape))"
   ]
  },
  {
   "cell_type": "code",
   "execution_count": null,
   "metadata": {},
   "outputs": [],
   "source": [
    "#loading the 2 seperate files \n",
    "#df_1.to_csv('/Users/anureddy/Desktop/Sem01/DataScience_for_text_analytics/Project1/Urban_dict/urban_dict_updated1.csv')\n",
    "#df_2.to_csv('/Users/anureddy/Desktop/Sem01/DataScience_for_text_analytics/Project1/Urban_dict/urban_dict_updated2.csv')"
   ]
  },
  {
   "cell_type": "code",
   "execution_count": null,
   "metadata": {},
   "outputs": [],
   "source": [
    "with open('/Users/anureddy/Desktop/Sem01/DataScience_for_text_analytics/Project1/Urban_dict/urban_dict_updated1.csv') as f:\n",
    "    reader = csv.DictReader(f)\n",
    "    helpers.bulk(client, reader, index='urban_dict',raise_on_error=False)"
   ]
  },
  {
   "cell_type": "code",
   "execution_count": 12,
   "metadata": {},
   "outputs": [
    {
     "name": "stdout",
     "output_type": "stream",
     "text": [
      "[{'_index': 'urban_dict', '_type': '_doc', '_id': 'hLw8sIUBHHz02O8VY9tZ', '_score': 1.0, '_source': {'word': 'Janky', 'definition': 'Undesirable; less-than optimum.'}}, {'_index': 'urban_dict', '_type': '_doc', '_id': 'hbw8sIUBHHz02O8VY9tZ', '_score': 1.0, '_source': {'word': \"slumpin'\", 'definition': 'low down and funky, but [knee deep] enough to ride to.'}}, {'_index': 'urban_dict', '_type': '_doc', '_id': 'hrw8sIUBHHz02O8VY9tZ', '_score': 1.0, '_source': {'word': 'yayeeyay', 'definition': 'affirmation; suggestion of encouragement, approval, or interest.'}}, {'_index': 'urban_dict', '_type': '_doc', '_id': 'h7w8sIUBHHz02O8VY9tZ', '_score': 1.0, '_source': {'word': 'hard-core', 'definition': 'anything out of our league that can be good or bad.'}}, {'_index': 'urban_dict', '_type': '_doc', '_id': 'iLw8sIUBHHz02O8VY9tZ', '_score': 1.0, '_source': {'word': 'brutal', 'definition': 'anything that makes you sweat'}}, {'_index': 'urban_dict', '_type': '_doc', '_id': 'ibw8sIUBHHz02O8VY9tZ', '_score': 1.0, '_source': {'word': 'skanky', 'definition': 'Anything of or pertaining to a $10,000 hooker.'}}, {'_index': 'urban_dict', '_type': '_doc', '_id': 'irw8sIUBHHz02O8VY9tZ', '_score': 1.0, '_source': {'word': 'ho-bag', 'definition': \"a term of endearment, used affectionately for your roommate. First used in the schools' parking lot after an incident with the hall moniters.\"}}, {'_index': 'urban_dict', '_type': '_doc', '_id': 'i7w8sIUBHHz02O8VY9tZ', '_score': 1.0, '_source': {'word': 'massive', 'definition': 'really really good. excellently good.'}}, {'_index': 'urban_dict', '_type': '_doc', '_id': 'jLw8sIUBHHz02O8VY9tZ', '_score': 1.0, '_source': {'word': 'wtf', 'definition': 'what the fuck? ;; use it in place of expletives. a more polite alternative.'}}, {'_index': 'urban_dict', '_type': '_doc', '_id': 'jbw8sIUBHHz02O8VY9tZ', '_score': 1.0, '_source': {'word': 'Hazy', 'definition': \"A guys state of mind after he sees the girl of his dreams...He just can't believe it.\"}}, {'_index': 'urban_dict', '_type': '_doc', '_id': 'jrw8sIUBHHz02O8VY9tZ', '_score': 1.0, '_source': {'word': 'hork', 'definition': 'to steal'}}, {'_index': 'urban_dict', '_type': '_doc', '_id': 'j7w8sIUBHHz02O8VY9tZ', '_score': 1.0, '_source': {'word': 'hecka', 'definition': 'see synonyms at hella.'}}, {'_index': 'urban_dict', '_type': '_doc', '_id': 'kLw8sIUBHHz02O8VY9tZ', '_score': 1.0, '_source': {'word': 'hella', 'definition': 'see synonyms at [hecka].'}}, {'_index': 'urban_dict', '_type': '_doc', '_id': 'kbw8sIUBHHz02O8VY9tZ', '_score': 1.0, '_source': {'word': 'hecka', 'definition': 'a description of an excess of emotion, objects, or action. ;; First used by Horatio Alger in 1902 in the streets of Lowell.'}}, {'_index': 'urban_dict', '_type': '_doc', '_id': 'krw8sIUBHHz02O8VY9tZ', '_score': 1.0, '_source': {'word': 'wet wagons', 'definition': 'to smell bad'}}, {'_index': 'urban_dict', '_type': '_doc', '_id': 'k7w8sIUBHHz02O8VY9tZ', '_score': 1.0, '_source': {'word': 'twomp', 'definition': \"a twenty dollar bill. Jackson's on it. ;; 'tw' + 'awh' + 'mp'.\"}}, {'_index': 'urban_dict', '_type': '_doc', '_id': 'lLw8sIUBHHz02O8VY9tZ', '_score': 1.0, '_source': {'word': 'ducket', 'definition': 'a one dollar bill. $1. ;; equivalent to one hundred pennies or twenty nickels or ten dimes or four quarters.'}}, {'_index': 'urban_dict', '_type': '_doc', '_id': 'lbw8sIUBHHz02O8VY9tZ', '_score': 1.0, '_source': {'word': 'beefcake', 'definition': 'to become overweight or buff'}}, {'_index': 'urban_dict', '_type': '_doc', '_id': 'lrw8sIUBHHz02O8VY9tZ', '_score': 1.0, '_source': {'word': 'mad', 'definition': 'a multi-functional word: very/a lot/hard/etc. Accentuates any verb.'}}, {'_index': 'urban_dict', '_type': '_doc', '_id': 'l7w8sIUBHHz02O8VY9tZ', '_score': 1.0, '_source': {'word': 'A-hole', 'definition': 'Ass hole'}}, {'_index': 'urban_dict', '_type': '_doc', '_id': 'mLw8sIUBHHz02O8VY9tZ', '_score': 1.0, '_source': {'word': 'Ass Kisser', 'definition': 'The smart kind in the front of the class'}}, {'_index': 'urban_dict', '_type': '_doc', '_id': 'mbw8sIUBHHz02O8VY9tZ', '_score': 1.0, '_source': {'word': 'Bitch box', 'definition': 'a public address system loudspeaker'}}, {'_index': 'urban_dict', '_type': '_doc', '_id': 'mrw8sIUBHHz02O8VY9tZ', '_score': 1.0, '_source': {'word': 'bite the big one', 'definition': 'to perform oral sex on a male'}}, {'_index': 'urban_dict', '_type': '_doc', '_id': 'm7w8sIUBHHz02O8VY9tZ', '_score': 1.0, '_source': {'word': 'clap', 'definition': 'a case of gonorrhea'}}, {'_index': 'urban_dict', '_type': '_doc', '_id': 'nLw8sIUBHHz02O8VY9tZ', '_score': 1.0, '_source': {'word': 'cluster fuck', 'definition': 'A act of a group sex'}}, {'_index': 'urban_dict', '_type': '_doc', '_id': 'nbw8sIUBHHz02O8VY9tZ', '_score': 1.0, '_source': {'word': 'cob', 'definition': 'a sharp poke or goose in the anus'}}, {'_index': 'urban_dict', '_type': '_doc', '_id': 'nrw8sIUBHHz02O8VY9tZ', '_score': 1.0, '_source': {'word': 'Dry hump', 'definition': \"to rub one's genitals against someone without penetrating\"}}, {'_index': 'urban_dict', '_type': '_doc', '_id': 'n7w8sIUBHHz02O8VY9tZ', '_score': 1.0, '_source': {'word': 'No Shit', 'definition': 'you are kidding!'}}, {'_index': 'urban_dict', '_type': '_doc', '_id': 'oLw8sIUBHHz02O8VY9tZ', '_score': 1.0, '_source': {'word': 'puke', 'definition': 'to vomit'}}, {'_index': 'urban_dict', '_type': '_doc', '_id': 'obw8sIUBHHz02O8VY9tZ', '_score': 1.0, '_source': {'word': 'folks', 'definition': 'p. noun: People, not necessarily related, to whom you are close.'}}, {'_index': 'urban_dict', '_type': '_doc', '_id': 'orw8sIUBHHz02O8VY9tZ', '_score': 1.0, '_source': {'word': 'holla', 'definition': 'v. to contact or communicate with, esp. after a long absence of communication'}}, {'_index': 'urban_dict', '_type': '_doc', '_id': 'o7w8sIUBHHz02O8VY9tZ', '_score': 1.0, '_source': {'word': 'dog', 'definition': 'n. friend of the same sex, usually male. Derived from the members of the Dogg Pound. pl.: dogs'}}, {'_index': 'urban_dict', '_type': '_doc', '_id': 'pLw8sIUBHHz02O8VY9tZ', '_score': 1.0, '_source': {'word': 'freak-out', 'definition': 'to experience illogical thoughts or emotions after a specific event or ocurance. ;; First used by Townsend Jones.'}}, {'_index': 'urban_dict', '_type': '_doc', '_id': 'pbw8sIUBHHz02O8VY9tZ', '_score': 1.0, '_source': {'word': 'raunchy', 'definition': 'distasteful, obscene, and or just plain gross'}}, {'_index': 'urban_dict', '_type': '_doc', '_id': 'prw8sIUBHHz02O8VY9tZ', '_score': 1.0, '_source': {'word': 'ENERGY', 'definition': 'can be converted from one form to another, but it cannot be created or destroyed.'}}, {'_index': 'urban_dict', '_type': '_doc', '_id': 'p7w8sIUBHHz02O8VY9tZ', '_score': 1.0, '_source': {'word': 'Toss salid', 'definition': 'To eat ass out with jelley or other type of dressing'}}, {'_index': 'urban_dict', '_type': '_doc', '_id': 'qLw8sIUBHHz02O8VY9tZ', '_score': 1.0, '_source': {'word': 'Rental', 'definition': 'means of transportaion that damage is totally irrelevant'}}, {'_index': 'urban_dict', '_type': '_doc', '_id': 'qbw8sIUBHHz02O8VY9tZ', '_score': 1.0, '_source': {'word': 'cassette', 'definition': 'ancient form of storring audio'}}, {'_index': 'urban_dict', '_type': '_doc', '_id': 'qrw8sIUBHHz02O8VY9tZ', '_score': 1.0, '_source': {'word': 'no way', 'definition': \"impossible. I really can't imagine how that could be true.\"}}, {'_index': 'urban_dict', '_type': '_doc', '_id': 'q7w8sIUBHHz02O8VY9tZ', '_score': 1.0, '_source': {'word': 'Goat Ass', 'definition': 'A goats ass'}}, {'_index': 'urban_dict', '_type': '_doc', '_id': 'rLw8sIUBHHz02O8VY9tZ', '_score': 1.0, '_source': {'word': 'raw', 'definition': 'syn pure, unadulterated, hard core, serious, no kidding, no shit'}}, {'_index': 'urban_dict', '_type': '_doc', '_id': 'rbw8sIUBHHz02O8VY9tZ', '_score': 1.0, '_source': {'word': 'Pockit Pool', 'definition': 'male using him self to knock the balls in the hole'}}, {'_index': 'urban_dict', '_type': '_doc', '_id': 'rrw8sIUBHHz02O8VY9tZ', '_score': 1.0, '_source': {'word': 'AIM', 'definition': 'digital for of communication'}}, {'_index': 'urban_dict', '_type': '_doc', '_id': 'r7w8sIUBHHz02O8VY9tZ', '_score': 1.0, '_source': {'word': 'ASS', 'definition': '1.Somthing that you yell out when you score or want to make other member feel like shit ;; 2.The place where Mr hankey (see Mr hankey) comes from'}}, {'_index': 'urban_dict', '_type': '_doc', '_id': 'sLw8sIUBHHz02O8VY9tZ', '_score': 1.0, '_source': {'word': '187', 'definition': 'code used by law informent to identify (murder death kill) ;; code used by others on pagers to signify appreciation/concern'}}, {'_index': 'urban_dict', '_type': '_doc', '_id': 'sbw8sIUBHHz02O8VY9tZ', '_score': 1.0, '_source': {'word': 'mission', 'definition': 'an excursion/field trip taken at an un-announced time, necer during daylight with a purpose know to only those involved with it'}}, {'_index': 'urban_dict', '_type': '_doc', '_id': 'srw8sIUBHHz02O8VY9tZ', '_score': 1.0, '_source': {'word': 'flower run', 'definition': 'delivery of flower or flowers to an individual, never during daylight'}}, {'_index': 'urban_dict', '_type': '_doc', '_id': 's7w8sIUBHHz02O8VY9tZ', '_score': 1.0, '_source': {'word': 'tofu', 'definition': 'one level above styrafoam, one level below cardboard'}}, {'_index': 'urban_dict', '_type': '_doc', '_id': 'tLw8sIUBHHz02O8VY9tZ', '_score': 1.0, '_source': {'word': 'rim job', 'definition': 'thats when you have someone lick yo ass'}}, {'_index': 'urban_dict', '_type': '_doc', '_id': 'tbw8sIUBHHz02O8VY9tZ', '_score': 1.0, '_source': {'word': \"'bout it\", 'definition': 'to be hardcore'}}, {'_index': 'urban_dict', '_type': '_doc', '_id': 'trw8sIUBHHz02O8VY9tZ', '_score': 1.0, '_source': {'word': 'dude', 'definition': 'term of endearment ;; used to express affection. brotherhood'}}, {'_index': 'urban_dict', '_type': '_doc', '_id': 't7w8sIUBHHz02O8VY9tZ', '_score': 1.0, '_source': {'word': 'connected', 'definition': 'term used to identify that one is carrying cellular eqiupment, i.e. cell phone / pager'}}, {'_index': 'urban_dict', '_type': '_doc', '_id': 'uLw8sIUBHHz02O8VY9tZ', '_score': 1.0, '_source': {'word': 'boxster', 'definition': 'German car made by porche, that is capable of doing 0 - 62 in 6.6 seconds'}}, {'_index': 'urban_dict', '_type': '_doc', '_id': 'ubw8sIUBHHz02O8VY9tZ', '_score': 1.0, '_source': {'word': 'bitches', 'definition': '1 a group of hos beging for money ;; 2 lots of muttleys ;; 3 group of po woman'}}, {'_index': 'urban_dict', '_type': '_doc', '_id': 'urw8sIUBHHz02O8VY9tZ', '_score': 1.0, '_source': {'word': 'pool', 'definition': 'a time honored tradition only able to be participated in by those who have great skill'}}, {'_index': 'urban_dict', '_type': '_doc', '_id': 'u7w8sIUBHHz02O8VY9tZ', '_score': 1.0, '_source': {'word': 'nub', 'definition': 'term used to identify anything that cannot be placed into any definte catagoy'}}, {'_index': 'urban_dict', '_type': '_doc', '_id': 'vLw8sIUBHHz02O8VY9tZ', '_score': 1.0, '_source': {'word': 'telephone toughguy', 'definition': 'term to identify one who talks the talk , and walks the walk when using a telephone'}}, {'_index': 'urban_dict', '_type': '_doc', '_id': 'vbw8sIUBHHz02O8VY9tZ', '_score': 1.0, '_source': {'word': 'riiiiiiight', 'definition': 'word used to accept the statement of another'}}, {'_index': 'urban_dict', '_type': '_doc', '_id': 'vrw8sIUBHHz02O8VY9tZ', '_score': 1.0, '_source': {'word': 'buck wild', 'definition': '1 crazy, insane, loooney ;; 2 females during sex'}}, {'_index': 'urban_dict', '_type': '_doc', '_id': 'v7w8sIUBHHz02O8VY9tZ', '_score': 1.0, '_source': {'word': 'Division 78', 'definition': 'C-L-A-S-S-I-F-I-E-D'}}, {'_index': 'urban_dict', '_type': '_doc', '_id': 'wLw8sIUBHHz02O8VY9tZ', '_score': 1.0, '_source': {'word': 'tiiight', 'definition': 'word used to defie the level of coolness or acceptance'}}, {'_index': 'urban_dict', '_type': '_doc', '_id': 'wbw8sIUBHHz02O8VY9tZ', '_score': 1.0, '_source': {'word': 'o.g.', 'definition': 'o.g. : original gangsta ;; a retired gangster who sits on the porch in the ghetto and preaches to the youngsters.'}}, {'_index': 'urban_dict', '_type': '_doc', '_id': 'wrw8sIUBHHz02O8VY9tZ', '_score': 1.0, '_source': {'word': 'back that azz up', 'definition': 'when a big woman puts her ass in your face'}}, {'_index': 'urban_dict', '_type': '_doc', '_id': 'w7w8sIUBHHz02O8VY9tZ', '_score': 1.0, '_source': {'word': 'OG', 'definition': 'a descriptive characteristic, to be old fashioned, traditional in any sense, can be used for a person or object.'}}, {'_index': 'urban_dict', '_type': '_doc', '_id': 'xLw8sIUBHHz02O8VY9tZ', '_score': 1.0, '_source': {'word': 'king prawn', 'definition': \"king prawn named Pepe that co-stars in 'muppets from space'\"}}, {'_index': 'urban_dict', '_type': '_doc', '_id': 'xbw8sIUBHHz02O8VY9tZ', '_score': 1.0, '_source': {'word': 'panty', 'definition': 'what men wear to make themselves feel pretty'}}, {'_index': 'urban_dict', '_type': '_doc', '_id': 'xrw8sIUBHHz02O8VY9tZ', '_score': 1.0, '_source': {'word': 'tweeks coffee', 'definition': 'a brand of coffe made in southpark, colorado'}}, {'_index': 'urban_dict', '_type': '_doc', '_id': 'x7w8sIUBHHz02O8VY9tZ', '_score': 1.0, '_source': {'word': 'flipside', 'definition': \"1 the opposite of something ;; 2 when the circumstances have changed ;; 3 tomorrow ;; 4 sometimes spelled 'phlippside'\"}}, {'_index': 'urban_dict', '_type': '_doc', '_id': 'yLw8sIUBHHz02O8VY9tZ', '_score': 1.0, '_source': {'word': 'issues', 'definition': 'word that is used to descirbe your feelings that someone should be seeking help in the mental sence'}}, {'_index': 'urban_dict', '_type': '_doc', '_id': 'ybw8sIUBHHz02O8VY9tZ', '_score': 1.0, '_source': {'word': 'jock', 'definition': '1 the strap that football players wear to protect their family jewels ;; 2 sports player ;; 3 what bitches get up on'}}, {'_index': 'urban_dict', '_type': '_doc', '_id': 'yrw8sIUBHHz02O8VY9tZ', '_score': 1.0, '_source': {'word': 'booty-call', 'definition': 'the term used to express ones need for sex.'}}, {'_index': 'urban_dict', '_type': '_doc', '_id': 'y7w8sIUBHHz02O8VY9tZ', '_score': 1.0, '_source': {'word': 'whooped', 'definition': 'ultimately under the control of an external source. put in check.'}}, {'_index': 'urban_dict', '_type': '_doc', '_id': 'zLw8sIUBHHz02O8VY9tZ', '_score': 1.0, '_source': {'word': 'hippy', 'definition': 'tree loving, flower picking, huggin fool'}}, {'_index': 'urban_dict', '_type': '_doc', '_id': 'zbw8sIUBHHz02O8VY9tZ', '_score': 1.0, '_source': {'word': 'tra la la', 'definition': 'phrase that is used by people who go on picnics, or like to make thier computers wear pink scaves; also used to identify those types of people'}}, {'_index': 'urban_dict', '_type': '_doc', '_id': 'zrw8sIUBHHz02O8VY9tZ', '_score': 1.0, '_source': {'word': 'gaff tape', 'definition': 'magical substance that can answer or fix almost any problem that may arise'}}, {'_index': 'urban_dict', '_type': '_doc', '_id': 'z7w8sIUBHHz02O8VY9tZ', '_score': 1.0, '_source': {'word': 'yo', 'definition': \"to identify someone ;; you use it to address someone whose name you don't know. you could also say 'dude.'\"}}, {'_index': 'urban_dict', '_type': '_doc', '_id': '0Lw8sIUBHHz02O8VY9tZ', '_score': 1.0, '_source': {'word': 'Lyons', 'definition': 'a franchise of fine dinning, located in many cities'}}, {'_index': 'urban_dict', '_type': '_doc', '_id': '0bw8sIUBHHz02O8VY9tZ', '_score': 1.0, '_source': {'word': 'talent', 'definition': 'word to describe a females level of cutness/sex appeal/attractiveness ;; also used to identify a girl that is appealing to lok at'}}, {'_index': 'urban_dict', '_type': '_doc', '_id': '0rw8sIUBHHz02O8VY9tZ', '_score': 1.0, '_source': {'word': 'bounce', 'definition': 'to leave a place, relocate to another'}}, {'_index': 'urban_dict', '_type': '_doc', '_id': '07w8sIUBHHz02O8VY9tZ', '_score': 1.0, '_source': {'word': 'mind control', 'definition': 'knowing you have the upper hand over someone, or being able to manipulate them, despite any truthfulness to that situation'}}, {'_index': 'urban_dict', '_type': '_doc', '_id': '1Lw8sIUBHHz02O8VY9tZ', '_score': 1.0, '_source': {'word': 'skilz', 'definition': 'word that sugests that someone has special talents in a certain field'}}, {'_index': 'urban_dict', '_type': '_doc', '_id': '1bw8sIUBHHz02O8VY9tZ', '_score': 1.0, '_source': {'word': 'the game', 'definition': 'the act of getting all the action you can'}}, {'_index': 'urban_dict', '_type': '_doc', '_id': '1rw8sIUBHHz02O8VY9tZ', '_score': 1.0, '_source': {'word': 'player', 'definition': 'guy who is sustaining supposedly exclusive relationships with multiple girls simultaneously'}}, {'_index': 'urban_dict', '_type': '_doc', '_id': '17w8sIUBHHz02O8VY9tZ', '_score': 1.0, '_source': {'word': 'shag', 'definition': 'to have sex, or get your fuck on, to score, get some, hit it, tap it, do it'}}, {'_index': 'urban_dict', '_type': '_doc', '_id': '2Lw8sIUBHHz02O8VY9tZ', '_score': 1.0, '_source': {'word': 'sweet', 'definition': 'reflects joy, a good outcome, pleaseure,'}}, {'_index': 'urban_dict', '_type': '_doc', '_id': '2bw8sIUBHHz02O8VY9tZ', '_score': 1.0, '_source': {'word': 'real men', 'definition': '1. guys with chest hair ;; 2. guys who thig they are tough ;; 3. guys with big feet ;; 4. women with big feet ;; 5 women with mustaches'}}, {'_index': 'urban_dict', '_type': '_doc', '_id': '2rw8sIUBHHz02O8VY9tZ', '_score': 1.0, '_source': {'word': 'watchers', 'definition': '1. A group of individuals who monitor the common everday person ;; 2. Someone who knows more than they should know ;; 3. The people who are watching you right now, and know what you are doing.'}}, {'_index': 'urban_dict', '_type': '_doc', '_id': '27w8sIUBHHz02O8VY9tZ', '_score': 1.0, '_source': {'word': 'dsl', 'definition': \"1. high speed connection to the internet ;; 2. an abreviatin to indentify a woman who has very nice lips. (full, soft, pouty) ;; 3. dik suckin'lips\"}}, {'_index': 'urban_dict', '_type': '_doc', '_id': '3Lw8sIUBHHz02O8VY9tZ', '_score': 1.0, '_source': {'word': 'warn', 'definition': '1.an action that is taken on the internet to put someone in check! ;; 2.to put someone in their place electronically ;; 3.to inform one that they are not cool'}}, {'_index': 'urban_dict', '_type': '_doc', '_id': '3bw8sIUBHHz02O8VY9tZ', '_score': 1.0, '_source': {'word': 'check', 'definition': '1.to put someone in their place ;; 2.to realize your current position in any of many situations ;; 3.paper money you write'}}, {'_index': 'urban_dict', '_type': '_doc', '_id': '3rw8sIUBHHz02O8VY9tZ', '_score': 1.0, '_source': {'word': 'velcro', 'definition': '1. a person who is very slow ;; 2. a household appliance and the answer to everything.'}}, {'_index': 'urban_dict', '_type': '_doc', '_id': '37w8sIUBHHz02O8VY9tZ', '_score': 1.0, '_source': {'word': 'peeps', 'definition': 'your regular group of friends, your crew'}}, {'_index': 'urban_dict', '_type': '_doc', '_id': '4Lw8sIUBHHz02O8VY9tZ', '_score': 1.0, '_source': {'word': 'mah', 'definition': \"a word that can be added to any sentence in place of 'my.'\"}}, {'_index': 'urban_dict', '_type': '_doc', '_id': '4bw8sIUBHHz02O8VY9tZ', '_score': 1.0, '_source': {'word': 'Lets get started  shall we?', 'definition': 'A phrase that can proceed any sentence or set of sentences.'}}, {'_index': 'urban_dict', '_type': '_doc', '_id': '4rw8sIUBHHz02O8VY9tZ', '_score': 1.0, '_source': {'word': 'dealio', 'definition': 'to inquire what is going on'}}, {'_index': 'urban_dict', '_type': '_doc', '_id': '47w8sIUBHHz02O8VY9tZ', '_score': 1.0, '_source': {'word': 'fits', 'definition': 'to describe an individualos clothes'}}, {'_index': 'urban_dict', '_type': '_doc', '_id': '5Lw8sIUBHHz02O8VY9tZ', '_score': 1.0, '_source': {'word': 'Young', 'definition': 'describes an article of clothing that is too small.'}}, {'_index': 'urban_dict', '_type': '_doc', '_id': '5bw8sIUBHHz02O8VY9tZ', '_score': 1.0, '_source': {'word': 'grill', 'definition': \"1. One's personal business ;; 2. One's teeth/smile\"}}, {'_index': 'urban_dict', '_type': '_doc', '_id': '5rw8sIUBHHz02O8VY9tZ', '_score': 1.0, '_source': {'word': 'scrilla', 'definition': 'cash money'}}, {'_index': 'urban_dict', '_type': '_doc', '_id': '57w8sIUBHHz02O8VY9tZ', '_score': 1.0, '_source': {'word': 'chedda', 'definition': 'cash money, synonymous with scrilla'}}]\n"
     ]
    },
    {
     "name": "stderr",
     "output_type": "stream",
     "text": [
      "/Users/anureddy/Library/Python/3.7/lib/python/site-packages/ipykernel_launcher.py:4: DeprecationWarning: The 'body' parameter is deprecated for the 'search' API and will be removed in a future version. Instead use API parameters directly. See https://github.com/elastic/elasticsearch-py/issues/1698 for more information\n",
      "  after removing the cwd from sys.path.\n",
      "/Library/Frameworks/Python.framework/Versions/3.7/lib/python3.7/site-packages/elasticsearch/connection/base.py:200: ElasticsearchWarning: Elasticsearch built-in security features are not enabled. Without authentication, your cluster could be accessible to anyone. See https://www.elastic.co/guide/en/elasticsearch/reference/7.17/security-minimal-setup.html to enable security.\n",
      "  warnings.warn(message, category=ElasticsearchWarning)\n"
     ]
    }
   ],
   "source": [
    "# ES search query to fetch all the data \n",
    "index_name = \"urban_dict\"\n",
    "request = '''{\"query\": {\"match_all\": {}}}'''\n",
    "results = client.search(index=index_name, body=request,size = 100)['hits']['hits']\n",
    "print(results)"
   ]
  }
 ],
 "metadata": {
  "kernelspec": {
   "display_name": "Python 3",
   "language": "python",
   "name": "python3"
  },
  "language_info": {
   "codemirror_mode": {
    "name": "ipython",
    "version": 3
   },
   "file_extension": ".py",
   "mimetype": "text/x-python",
   "name": "python",
   "nbconvert_exporter": "python",
   "pygments_lexer": "ipython3",
   "version": "3.7.7rc1"
  },
  "orig_nbformat": 4,
  "vscode": {
   "interpreter": {
    "hash": "aee8b7b246df8f9039afb4144a1f6fd8d2ca17a180786b69acc140d282b71a49"
   }
  }
 },
 "nbformat": 4,
 "nbformat_minor": 2
}
