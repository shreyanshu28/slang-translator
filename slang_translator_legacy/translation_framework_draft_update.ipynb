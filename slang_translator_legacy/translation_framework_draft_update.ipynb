{
 "cells": [
  {
   "cell_type": "code",
   "execution_count": null,
   "id": "a6c388e7",
   "metadata": {},
   "outputs": [],
   "source": [
    "\"\"\"Please keep in mind that this whole document is only\n",
    "to give a general idea of what to implement. \n",
    "These are not functioning codes.\"\"\""
   ]
  },
  {
   "cell_type": "code",
   "execution_count": null,
   "id": "86810ac3",
   "metadata": {},
   "outputs": [],
   "source": [
    "%pip install \"requests==2.28.1\""
   ]
  },
  {
   "cell_type": "code",
   "execution_count": null,
   "id": "0165a2a2",
   "metadata": {},
   "outputs": [],
   "source": []
  },
  {
   "cell_type": "code",
   "execution_count": 1,
   "id": "835c43af",
   "metadata": {},
   "outputs": [
    {
     "name": "stdout",
     "output_type": "stream",
     "text": [
      "<Elasticsearch([{'host': 'localhost', 'port': 9200}])>\n"
     ]
    }
   ],
   "source": [
    "import sys\n",
    "from urllib.parse import urljoin\n",
    "import requests\n",
    "sys.path.insert(1, '/Users/anureddy/Desktop/Sem01/DataScience_for_text_analytics/slang-translator/Connection')\n",
    "    \n",
    "from elastic_con import client \n",
    "import nltk"
   ]
  },
  {
   "cell_type": "code",
   "execution_count": 63,
   "id": "3d30e923",
   "metadata": {},
   "outputs": [],
   "source": [
    "import nltk"
   ]
  },
  {
   "cell_type": "code",
   "execution_count": 73,
   "id": "cce41787",
   "metadata": {},
   "outputs": [
    {
     "data": {
      "text/plain": [
       "<spacy.lang.en.English at 0x7fc9e9ec8090>"
      ]
     },
     "execution_count": 73,
     "metadata": {},
     "output_type": "execute_result"
    }
   ],
   "source": [
    "import spacy\n",
    "spacy.load(\"en_core_web_sm\")"
   ]
  },
  {
   "cell_type": "code",
   "execution_count": 3,
   "id": "f61d564b",
   "metadata": {},
   "outputs": [],
   "source": [
    "from gensim.parsing.preprocessing import remove_stopwords"
   ]
  },
  {
   "cell_type": "code",
   "execution_count": 65,
   "id": "8684d643",
   "metadata": {},
   "outputs": [],
   "source": [
    "from spacy.matcher import Matcher\n",
    "from spacy.util import filter_spans"
   ]
  },
  {
   "cell_type": "code",
   "execution_count": 5,
   "id": "e1acc6e3",
   "metadata": {},
   "outputs": [],
   "source": [
    "from elasticsearch import Elasticsearch"
   ]
  },
  {
   "cell_type": "code",
   "execution_count": 74,
   "id": "4c3f9b18",
   "metadata": {},
   "outputs": [],
   "source": [
    "nlp = spacy.load(\"en_core_web_sm\")"
   ]
  },
  {
   "cell_type": "code",
   "execution_count": null,
   "id": "f17772a8",
   "metadata": {},
   "outputs": [],
   "source": []
  },
  {
   "cell_type": "code",
   "execution_count": 7,
   "id": "438e3dcd",
   "metadata": {},
   "outputs": [],
   "source": [
    "# draft : implementation step\n",
    "######################################\n",
    "# translate regular sentence to slang#\n",
    "######################################\n",
    "\n",
    "input_str = \"Thanks for taking the time to post. It appears the making of a nation is missing.\""
   ]
  },
  {
   "cell_type": "code",
   "execution_count": 8,
   "id": "af7b81bc",
   "metadata": {},
   "outputs": [],
   "source": [
    "str_doc = nlp(input_str)"
   ]
  },
  {
   "cell_type": "code",
   "execution_count": 69,
   "id": "8d412e76",
   "metadata": {},
   "outputs": [
    {
     "data": {
      "text/plain": [
       "18"
      ]
     },
     "execution_count": 69,
     "metadata": {},
     "output_type": "execute_result"
    }
   ],
   "source": [
    "len(str_doc)"
   ]
  },
  {
   "cell_type": "code",
   "execution_count": 70,
   "id": "4daa32f2",
   "metadata": {},
   "outputs": [
    {
     "name": "stdout",
     "output_type": "stream",
     "text": [
      "[Thanks, the time, It, the making, a nation]\n"
     ]
    }
   ],
   "source": [
    "print(str(list(str_doc.noun_chunks)))"
   ]
  },
  {
   "cell_type": "code",
   "execution_count": 77,
   "id": "3e631bc7",
   "metadata": {},
   "outputs": [],
   "source": [
    "def noun_phrases_extract(nlp_result):\n",
    "    # NOTE: the results of spacy for eg\n",
    "    # .noun_chunks is constituted of elements \n",
    "    # rather than simple strings \n",
    "    noun_lst = nlp_result.noun_chunks\n",
    "    return list(noun_lst)"
   ]
  },
  {
   "cell_type": "code",
   "execution_count": 78,
   "id": "8c91386a",
   "metadata": {},
   "outputs": [],
   "source": [
    "def verb_phrases_extract(nlp_result):\n",
    "    # under a different scheme\n",
    "    # acknowledgement: \n",
    "    # https://stackoverflow.com/questions/47856247/extract-verb-phrases-using-spacy\n",
    "    pattern = [[{'POS': 'VERB', 'OP': '?'},{'POS': 'ADV', 'OP': '*'}, # additional wildcard - match any text in between\n",
    "               {'POS': 'VERB', 'OP': '+'}]]\n",
    "    print(type(pattern))\n",
    "    matcher = Matcher(nlp.vocab)\n",
    "    matcher.add(\"Verb phrase\", pattern)\n",
    "    matches = matcher(nlp_result)\n",
    "    spans = [nlp_result[start:end] for _, start, end in matches]\n",
    "    return filter_spans(spans)\n",
    "    # preserve the parsed positions of words so that the -ing forms\n",
    "    # won't get messed up"
   ]
  },
  {
   "cell_type": "code",
   "execution_count": 79,
   "id": "e88e96c5",
   "metadata": {},
   "outputs": [
    {
     "data": {
      "text/plain": [
       "[I, need, a break]"
      ]
     },
     "execution_count": 79,
     "metadata": {},
     "output_type": "execute_result"
    }
   ],
   "source": [
    "noun_phrases_extract(nlp(\"I am really in need of a break.\"))"
   ]
  },
  {
   "cell_type": "code",
   "execution_count": null,
   "id": "2da42841",
   "metadata": {},
   "outputs": [],
   "source": [
    "\"\"\" kopfschmerzen: how to translate \"I am really in need of a break\" to \n",
    "\" I rnab\" for eg if rnab=really need a break is some kind of legal slang. \n",
    "IDK if fuzzy search can do that and I hope urban dic has abbreviations 2\"\"\""
   ]
  },
  {
   "cell_type": "code",
   "execution_count": 62,
   "id": "98239da7",
   "metadata": {},
   "outputs": [],
   "source": [
    "# NOTE: not finished.\n",
    "def phrase_extraction(nlp_result):\n",
    "    # lemmatize first, extract phrases later\n",
    "    lst_sentence = []\n",
    "    for token in nlp_result:\n",
    "        print(token.pos_)\n",
    "        word = token.lemma_\n",
    "        lst_sentence.append(word)\n",
    "    sentence = \" \".join(lst_sentence)\n",
    "    nlp_result = nlp(sentence)\n",
    "    print(nlp_result)\n",
    "    noun_list = noun_phrases_extract(nlp_result)\n",
    "    verb_list = verb_phrases_extract(nlp_result)\n",
    "    lst_phrase_temp = noun_list+verb_list\n",
    "    return lst_phrase_temp"
   ]
  },
  {
   "cell_type": "code",
   "execution_count": 80,
   "id": "694bd361",
   "metadata": {},
   "outputs": [],
   "source": [
    "\n",
    "st1 = 'i will laugh out really loud or i told her never ever to give up'\n",
    "s1 = nlp(st1)"
   ]
  },
  {
   "cell_type": "code",
   "execution_count": 81,
   "id": "b7d04fe5",
   "metadata": {},
   "outputs": [
    {
     "name": "stdout",
     "output_type": "stream",
     "text": [
      "PRON\n",
      "AUX\n",
      "VERB\n",
      "ADP\n",
      "ADV\n",
      "ADV\n",
      "CCONJ\n",
      "PRON\n",
      "VERB\n",
      "PRON\n",
      "ADV\n",
      "ADV\n",
      "PART\n",
      "VERB\n",
      "ADP\n",
      "I will laugh out really loud or I tell she never ever to give up\n",
      "<class 'list'>\n"
     ]
    },
    {
     "data": {
      "text/plain": [
       "[I, I, she, laugh, tell, give]"
      ]
     },
     "execution_count": 81,
     "metadata": {},
     "output_type": "execute_result"
    }
   ],
   "source": [
    "phrase_extraction(s1)\n",
    "# doing an adequate job but can be better"
   ]
  },
  {
   "cell_type": "code",
   "execution_count": 66,
   "id": "dad3262a",
   "metadata": {},
   "outputs": [
    {
     "data": {
      "text/plain": [
       "['I', 'love']"
      ]
     },
     "execution_count": 66,
     "metadata": {},
     "output_type": "execute_result"
    }
   ],
   "source": [
    "\"I love\".split(\" \")"
   ]
  },
  {
   "cell_type": "code",
   "execution_count": 64,
   "id": "64af0c54",
   "metadata": {},
   "outputs": [
    {
     "name": "stdout",
     "output_type": "stream",
     "text": [
      "<class 'list'>\n"
     ]
    },
    {
     "data": {
      "text/plain": [
       "'taking'"
      ]
     },
     "execution_count": 64,
     "metadata": {},
     "output_type": "execute_result"
    }
   ],
   "source": [
    "verb_phrases_extract(str_doc)[0]\n",
    "# NOTE: theres room for improvement in accuracy"
   ]
  },
  {
   "cell_type": "code",
   "execution_count": null,
   "id": "3ea59a7b",
   "metadata": {},
   "outputs": [],
   "source": [
    "\"\"\"To find and return subject of a preprocessed sentence.\"\"\"\n",
    "# I wrote the function based on which one may\n",
    "# omit the subject of a sentence with a possibility. \n",
    "# This is not used now, as I still don't\n",
    "# know how to calculate the weight of such omission.\n",
    "def subject_find(doc):\n",
    "    for token in doc:\n",
    "        if \"subj\" in token.dep_:\n",
    "            subtree = list(token.subtree)\n",
    "            start = subtree[0].i\n",
    "            end = subtree[-1].i + 1\n",
    "            return doc[start:end]"
   ]
  },
  {
   "cell_type": "code",
   "execution_count": null,
   "id": "42ed3720",
   "metadata": {},
   "outputs": [],
   "source": [
    "# do slang dictionary query with part of the input sentence\n",
    "\"\"\"returns all possible k-word-shingle for the input sentence.\n",
    "form: list, [[1-shingle][2-shingle]...[k-shingle]]\"\"\" \n",
    "def multiple_shingle(doc_str):\n",
    "    doc = doc_str.split(\" \")\n",
    "    shingle_lst=[]\n",
    "    for k in range(0,len(doc)):\n",
    "        shingle_lst_temp = []\n",
    "        for i in range(len(doc)-k):\n",
    "            shingle_lst_temp.append(doc[i:k+i+1])\n",
    "        shingle_lst.append(shingle_lst_temp)\n",
    "    return shingle_lst"
   ]
  },
  {
   "cell_type": "code",
   "execution_count": null,
   "id": "da4259fb",
   "metadata": {},
   "outputs": [
    {
     "data": {
      "text/plain": [
       "[[['I'], ['have'], ['something'], ['to'], ['say']],\n",
       " [['I', 'have'], ['have', 'something'], ['something', 'to'], ['to', 'say']],\n",
       " [['I', 'have', 'something'],\n",
       "  ['have', 'something', 'to'],\n",
       "  ['something', 'to', 'say']],\n",
       " [['I', 'have', 'something', 'to'], ['have', 'something', 'to', 'say']],\n",
       " [['I', 'have', 'something', 'to', 'say']]]"
      ]
     },
     "execution_count": 24,
     "metadata": {},
     "output_type": "execute_result"
    }
   ],
   "source": [
    "multiple_shingle(input_str)"
   ]
  },
  {
   "cell_type": "code",
   "execution_count": null,
   "id": "61adc656",
   "metadata": {},
   "outputs": [],
   "source": [
    "# TODO: perform lemmatization to all the shingles with POS tag"
   ]
  },
  {
   "cell_type": "code",
   "execution_count": 8,
   "id": "d26d6125",
   "metadata": {},
   "outputs": [
    {
     "name": "stdout",
     "output_type": "stream",
     "text": [
      "[{'_index': 'slang-demo-json', '_type': '_doc', '_id': '0', '_score': 1.0, '_source': {'id': 0, 'acronym': '2day', 'meaning': 'today'}}, {'_index': 'slang-demo-json', '_type': '_doc', '_id': '1', '_score': 1.0, '_source': {'id': 1, 'acronym': '2m2h', 'meaning': 'too much too handle'}}, {'_index': 'slang-demo-json', '_type': '_doc', '_id': '2', '_score': 1.0, '_source': {'id': 2, 'acronym': '2moro', 'meaning': 'tomorrow'}}, {'_index': 'slang-demo-json', '_type': '_doc', '_id': '3', '_score': 1.0, '_source': {'id': 3, 'acronym': '2nite', 'meaning': 'tonight'}}, {'_index': 'slang-demo-json', '_type': '_doc', '_id': '4', '_score': 1.0, '_source': {'id': 4, 'acronym': '4eae', 'meaning': 'for ever and ever'}}, {'_index': 'slang-demo-json', '_type': '_doc', '_id': '5', '_score': 1.0, '_source': {'id': 5, 'acronym': 'aaf', 'meaning': 'always and forever'}}, {'_index': 'slang-demo-json', '_type': '_doc', '_id': '6', '_score': 1.0, '_source': {'id': 6, 'acronym': 'aar', 'meaning': 'at any rate'}}, {'_index': 'slang-demo-json', '_type': '_doc', '_id': '7', '_score': 1.0, '_source': {'id': 7, 'acronym': 'aayf', 'meaning': 'as always your friend'}}, {'_index': 'slang-demo-json', '_type': '_doc', '_id': '8', '_score': 1.0, '_source': {'id': 8, 'acronym': 'abd', 'meaning': 'already been done'}}, {'_index': 'slang-demo-json', '_type': '_doc', '_id': '9', '_score': 1.0, '_source': {'id': 9, 'acronym': 'ack', 'meaning': 'acknowledge'}}, {'_index': 'slang-demo-json', '_type': '_doc', '_id': '10', '_score': 1.0, '_source': {'id': 10, 'acronym': 'adih', 'meaning': 'another day in hell'}}, {'_index': 'slang-demo-json', '_type': '_doc', '_id': '11', '_score': 1.0, '_source': {'id': 11, 'acronym': 'adn', 'meaning': 'any day now'}}, {'_index': 'slang-demo-json', '_type': '_doc', '_id': '12', '_score': 1.0, '_source': {'id': 12, 'acronym': 'adr', 'meaning': 'all due respect'}}, {'_index': 'slang-demo-json', '_type': '_doc', '_id': '13', '_score': 1.0, '_source': {'id': 13, 'acronym': 'aeap', 'meaning': 'as early as possible'}}, {'_index': 'slang-demo-json', '_type': '_doc', '_id': '14', '_score': 1.0, '_source': {'id': 14, 'acronym': 'afaic', 'meaning': 'as far as i am concerned'}}, {'_index': 'slang-demo-json', '_type': '_doc', '_id': '15', '_score': 1.0, '_source': {'id': 15, 'acronym': 'afaik', 'meaning': 'as far as i know'}}, {'_index': 'slang-demo-json', '_type': '_doc', '_id': '16', '_score': 1.0, '_source': {'id': 16, 'acronym': 'aka', 'meaning': 'also known as'}}, {'_index': 'slang-demo-json', '_type': '_doc', '_id': '17', '_score': 1.0, '_source': {'id': 17, 'acronym': 'ama', 'meaning': 'ask me anything against medical advice'}}, {'_index': 'slang-demo-json', '_type': '_doc', '_id': '18', '_score': 1.0, '_source': {'id': 18, 'acronym': 'ambw', 'meaning': 'all my best wishes'}}, {'_index': 'slang-demo-json', '_type': '_doc', '_id': '19', '_score': 1.0, '_source': {'id': 19, 'acronym': 'aml', 'meaning': 'all my love'}}, {'_index': 'slang-demo-json', '_type': '_doc', '_id': '20', '_score': 1.0, '_source': {'id': 20, 'acronym': 'aota', 'meaning': 'all of the above'}}, {'_index': 'slang-demo-json', '_type': '_doc', '_id': '21', '_score': 1.0, '_source': {'id': 21, 'acronym': 'asap', 'meaning': 'as soon as possible'}}, {'_index': 'slang-demo-json', '_type': '_doc', '_id': '22', '_score': 1.0, '_source': {'id': 22, 'acronym': 'atb', 'meaning': 'all the best'}}, {'_index': 'slang-demo-json', '_type': '_doc', '_id': '23', '_score': 1.0, '_source': {'id': 23, 'acronym': 'ateotd', 'meaning': 'at the end of the day'}}, {'_index': 'slang-demo-json', '_type': '_doc', '_id': '24', '_score': 1.0, '_source': {'id': 24, 'acronym': 'atm', 'meaning': 'at the moment automated teller machine '}}, {'_index': 'slang-demo-json', '_type': '_doc', '_id': '25', '_score': 1.0, '_source': {'id': 25, 'acronym': 'awol', 'meaning': 'absent without leave'}}, {'_index': 'slang-demo-json', '_type': '_doc', '_id': '26', '_score': 1.0, '_source': {'id': 26, 'acronym': 'aydy', 'meaning': 'are you done yet'}}, {'_index': 'slang-demo-json', '_type': '_doc', '_id': '27', '_score': 1.0, '_source': {'id': 27, 'acronym': 'ayec', 'meaning': 'at your earliest convenience'}}, {'_index': 'slang-demo-json', '_type': '_doc', '_id': '28', '_score': 1.0, '_source': {'id': 28, 'acronym': 'ayor', 'meaning': 'at your own risk'}}, {'_index': 'slang-demo-json', '_type': '_doc', '_id': '29', '_score': 1.0, '_source': {'id': 29, 'acronym': 'ays', 'meaning': 'are you serious'}}, {'_index': 'slang-demo-json', '_type': '_doc', '_id': '30', '_score': 1.0, '_source': {'id': 30, 'acronym': 'aysos', 'meaning': 'are you stupid or something'}}, {'_index': 'slang-demo-json', '_type': '_doc', '_id': '31', '_score': 1.0, '_source': {'id': 31, 'acronym': 'ayt', 'meaning': 'are you there'}}, {'_index': 'slang-demo-json', '_type': '_doc', '_id': '32', '_score': 1.0, '_source': {'id': 32, 'acronym': 'b/c', 'meaning': 'because'}}, {'_index': 'slang-demo-json', '_type': '_doc', '_id': '33', '_score': 1.0, '_source': {'id': 33, 'acronym': 'b4', 'meaning': 'before'}}, {'_index': 'slang-demo-json', '_type': '_doc', '_id': '34', '_score': 1.0, '_source': {'id': 34, 'acronym': 'b4n', 'meaning': 'bye for now'}}, {'_index': 'slang-demo-json', '_type': '_doc', '_id': '35', '_score': 1.0, '_source': {'id': 35, 'acronym': 'bau', 'meaning': 'business as usual'}}, {'_index': 'slang-demo-json', '_type': '_doc', '_id': '36', '_score': 1.0, '_source': {'id': 36, 'acronym': 'bbiaf', 'meaning': 'be back in a few'}}, {'_index': 'slang-demo-json', '_type': '_doc', '_id': '37', '_score': 1.0, '_source': {'id': 37, 'acronym': 'bbiam', 'meaning': 'be back in a minute'}}, {'_index': 'slang-demo-json', '_type': '_doc', '_id': '38', '_score': 1.0, '_source': {'id': 38, 'acronym': 'bbias', 'meaning': 'be back in a sec'}}, {'_index': 'slang-demo-json', '_type': '_doc', '_id': '39', '_score': 1.0, '_source': {'id': 39, 'acronym': 'bbs', 'meaning': 'be back soon bulletin board system'}}, {'_index': 'slang-demo-json', '_type': '_doc', '_id': '40', '_score': 1.0, '_source': {'id': 40, 'acronym': 'bbt', 'meaning': 'be back tomorrow'}}, {'_index': 'slang-demo-json', '_type': '_doc', '_id': '41', '_score': 1.0, '_source': {'id': 41, 'acronym': 'bcnu', 'meaning': 'be seeing you'}}, {'_index': 'slang-demo-json', '_type': '_doc', '_id': '42', '_score': 1.0, '_source': {'id': 42, 'acronym': 'bcoy', 'meaning': 'big crush on you'}}, {'_index': 'slang-demo-json', '_type': '_doc', '_id': '43', '_score': 1.0, '_source': {'id': 43, 'acronym': 'bd', 'meaning': 'big deal'}}, {'_index': 'slang-demo-json', '_type': '_doc', '_id': '44', '_score': 1.0, '_source': {'id': 44, 'acronym': 'bf', 'meaning': 'boy friend'}}, {'_index': 'slang-demo-json', '_type': '_doc', '_id': '45', '_score': 1.0, '_source': {'id': 45, 'acronym': 'bfaw', 'meaning': 'best friend at work'}}, {'_index': 'slang-demo-json', '_type': '_doc', '_id': '46', '_score': 1.0, '_source': {'id': 46, 'acronym': 'bfd', 'meaning': 'big freaking deal'}}, {'_index': 'slang-demo-json', '_type': '_doc', '_id': '47', '_score': 1.0, '_source': {'id': 47, 'acronym': 'bff', 'meaning': 'best friends forever'}}, {'_index': 'slang-demo-json', '_type': '_doc', '_id': '48', '_score': 1.0, '_source': {'id': 48, 'acronym': 'bffn', 'meaning': 'best friend for now'}}, {'_index': 'slang-demo-json', '_type': '_doc', '_id': '49', '_score': 1.0, '_source': {'id': 49, 'acronym': 'bfn', 'meaning': 'bye for now'}}, {'_index': 'slang-demo-json', '_type': '_doc', '_id': '50', '_score': 1.0, '_source': {'id': 50, 'acronym': 'bg', 'meaning': 'bad game baby gangster'}}, {'_index': 'slang-demo-json', '_type': '_doc', '_id': '51', '_score': 1.0, '_source': {'id': 51, 'acronym': 'bgwm', 'meaning': 'be gentle with me'}}, {'_index': 'slang-demo-json', '_type': '_doc', '_id': '52', '_score': 1.0, '_source': {'id': 52, 'acronym': 'bhl8', 'meaning': 'be home late'}}, {'_index': 'slang-demo-json', '_type': '_doc', '_id': '53', '_score': 1.0, '_source': {'id': 53, 'acronym': 'bib', 'meaning': 'boss is back'}}, {'_index': 'slang-demo-json', '_type': '_doc', '_id': '54', '_score': 1.0, '_source': {'id': 54, 'acronym': 'bn', 'meaning': 'bad news'}}, {'_index': 'slang-demo-json', '_type': '_doc', '_id': '55', '_score': 1.0, '_source': {'id': 55, 'acronym': 'bol', 'meaning': 'be on later'}}, {'_index': 'slang-demo-json', '_type': '_doc', '_id': '56', '_score': 1.0, '_source': {'id': 56, 'acronym': 'bot', 'meaning': 'back on topic'}}, {'_index': 'slang-demo-json', '_type': '_doc', '_id': '57', '_score': 1.0, '_source': {'id': 57, 'acronym': 'boyf', 'meaning': 'boyfriend'}}, {'_index': 'slang-demo-json', '_type': '_doc', '_id': '58', '_score': 1.0, '_source': {'id': 58, 'acronym': 'brb', 'meaning': 'be right back'}}, {'_index': 'slang-demo-json', '_type': '_doc', '_id': '59', '_score': 1.0, '_source': {'id': 59, 'acronym': 'brh', 'meaning': 'be right here'}}, {'_index': 'slang-demo-json', '_type': '_doc', '_id': '60', '_score': 1.0, '_source': {'id': 60, 'acronym': 'bro', 'meaning': 'brother'}}, {'_index': 'slang-demo-json', '_type': '_doc', '_id': '61', '_score': 1.0, '_source': {'id': 61, 'acronym': 'brt', 'meaning': 'be right there'}}, {'_index': 'slang-demo-json', '_type': '_doc', '_id': '62', '_score': 1.0, '_source': {'id': 62, 'acronym': 'bt', 'meaning': 'but'}}, {'_index': 'slang-demo-json', '_type': '_doc', '_id': '63', '_score': 1.0, '_source': {'id': 63, 'acronym': 'btw', 'meaning': 'by the way'}}, {'_index': 'slang-demo-json', '_type': '_doc', '_id': '64', '_score': 1.0, '_source': {'id': 64, 'acronym': 'byoc', 'meaning': 'bring your own computer'}}, {'_index': 'slang-demo-json', '_type': '_doc', '_id': '65', '_score': 1.0, '_source': {'id': 65, 'acronym': 'cmb', 'meaning': 'call me back'}}, {'_index': 'slang-demo-json', '_type': '_doc', '_id': '66', '_score': 1.0, '_source': {'id': 66, 'acronym': 'cmiiw', 'meaning': 'correct me if i am wrong'}}, {'_index': 'slang-demo-json', '_type': '_doc', '_id': '67', '_score': 1.0, '_source': {'id': 67, 'acronym': 'cob', 'meaning': 'close of business'}}, {'_index': 'slang-demo-json', '_type': '_doc', '_id': '68', '_score': 1.0, '_source': {'id': 68, 'acronym': 'csl', 'meaning': 'cannot stop laughing'}}, {'_index': 'slang-demo-json', '_type': '_doc', '_id': '69', '_score': 1.0, '_source': {'id': 69, 'acronym': 'cu', 'meaning': 'see you'}}, {'_index': 'slang-demo-json', '_type': '_doc', '_id': '70', '_score': 1.0, '_source': {'id': 70, 'acronym': 'cua', 'meaning': 'see you around'}}, {'_index': 'slang-demo-json', '_type': '_doc', '_id': '71', '_score': 1.0, '_source': {'id': 71, 'acronym': 'cul', 'meaning': 'see you later'}}, {'_index': 'slang-demo-json', '_type': '_doc', '_id': '72', '_score': 1.0, '_source': {'id': 72, 'acronym': 'cwyl', 'meaning': 'chat with you later'}}, {'_index': 'slang-demo-json', '_type': '_doc', '_id': '73', '_score': 1.0, '_source': {'id': 73, 'acronym': 'cya', 'meaning': 'cover your ass'}}, {'_index': 'slang-demo-json', '_type': '_doc', '_id': '74', '_score': 1.0, '_source': {'id': 74, 'acronym': 'cye', 'meaning': 'check your email'}}, {'_index': 'slang-demo-json', '_type': '_doc', '_id': '75', '_score': 1.0, '_source': {'id': 75, 'acronym': 'cyo', 'meaning': 'see you online'}}, {'_index': 'slang-demo-json', '_type': '_doc', '_id': '76', '_score': 1.0, '_source': {'id': 76, 'acronym': 'dkdc', 'meaning': 'do not know do not care'}}, {'_index': 'slang-demo-json', '_type': '_doc', '_id': '77', '_score': 1.0, '_source': {'id': 77, 'acronym': 'dm', 'meaning': 'do not mind does not matter direct message'}}, {'_index': 'slang-demo-json', '_type': '_doc', '_id': '78', '_score': 1.0, '_source': {'id': 78, 'acronym': 'dts', 'meaning': 'down the shore down to snuggle'}}, {'_index': 'slang-demo-json', '_type': '_doc', '_id': '79', '_score': 1.0, '_source': {'id': 79, 'acronym': 'dur', 'meaning': 'do you remember'}}, {'_index': 'slang-demo-json', '_type': '_doc', '_id': '80', '_score': 1.0, '_source': {'id': 80, 'acronym': 'dwbh', 'meaning': 'do not worry be happy'}}, {'_index': 'slang-demo-json', '_type': '_doc', '_id': '81', '_score': 1.0, '_source': {'id': 81, 'acronym': 'e1', 'meaning': 'everyone'}}, {'_index': 'slang-demo-json', '_type': '_doc', '_id': '82', '_score': 1.0, '_source': {'id': 82, 'acronym': 'ef4t', 'meaning': 'effort'}}, {'_index': 'slang-demo-json', '_type': '_doc', '_id': '83', '_score': 1.0, '_source': {'id': 83, 'acronym': 'eod', 'meaning': 'end of discussion'}}, {'_index': 'slang-demo-json', '_type': '_doc', '_id': '84', '_score': 1.0, '_source': {'id': 84, 'acronym': 'f2f', 'meaning': 'face to face'}}, {'_index': 'slang-demo-json', '_type': '_doc', '_id': '85', '_score': 1.0, '_source': {'id': 85, 'acronym': 'ftf', 'meaning': 'face to face'}}, {'_index': 'slang-demo-json', '_type': '_doc', '_id': '86', '_score': 1.0, '_source': {'id': 86, 'acronym': 'faq', 'meaning': 'frequently asked questions'}}, {'_index': 'slang-demo-json', '_type': '_doc', '_id': '87', '_score': 1.0, '_source': {'id': 87, 'acronym': 'fb', 'meaning': 'facebook'}}, {'_index': 'slang-demo-json', '_type': '_doc', '_id': '88', '_score': 1.0, '_source': {'id': 88, 'acronym': 'ff', 'meaning': 'follow friday'}}, {'_index': 'slang-demo-json', '_type': '_doc', '_id': '89', '_score': 1.0, '_source': {'id': 89, 'acronym': 'fish', 'meaning': 'first in still here'}}, {'_index': 'slang-demo-json', '_type': '_doc', '_id': '90', '_score': 1.0, '_source': {'id': 90, 'acronym': 'fitb', 'meaning': 'fill in the blank'}}, {'_index': 'slang-demo-json', '_type': '_doc', '_id': '91', '_score': 1.0, '_source': {'id': 91, 'acronym': 'ftbomh', 'meaning': 'from the bottom of my heart'}}, {'_index': 'slang-demo-json', '_type': '_doc', '_id': '92', '_score': 1.0, '_source': {'id': 92, 'acronym': 'ftl', 'meaning': 'for the loss'}}, {'_index': 'slang-demo-json', '_type': '_doc', '_id': '93', '_score': 1.0, '_source': {'id': 93, 'acronym': 'ftw', 'meaning': 'for the win'}}, {'_index': 'slang-demo-json', '_type': '_doc', '_id': '94', '_score': 1.0, '_source': {'id': 94, 'acronym': 'fwb', 'meaning': 'friend with benefits'}}, {'_index': 'slang-demo-json', '_type': '_doc', '_id': '95', '_score': 1.0, '_source': {'id': 95, 'acronym': 'fwiw', 'meaning': 'for what it is worth'}}, {'_index': 'slang-demo-json', '_type': '_doc', '_id': '96', '_score': 1.0, '_source': {'id': 96, 'acronym': 'fyeo', 'meaning': 'for your eyes only'}}, {'_index': 'slang-demo-json', '_type': '_doc', '_id': '97', '_score': 1.0, '_source': {'id': 97, 'acronym': 'fyi', 'meaning': 'for your information'}}, {'_index': 'slang-demo-json', '_type': '_doc', '_id': '98', '_score': 1.0, '_source': {'id': 98, 'acronym': 'g4c', 'meaning': 'going for coffee'}}, {'_index': 'slang-demo-json', '_type': '_doc', '_id': '99', '_score': 1.0, '_source': {'id': 99, 'acronym': 'ga', 'meaning': 'go ahead'}}]\n"
     ]
    },
    {
     "name": "stderr",
     "output_type": "stream",
     "text": [
      "/Users/anureddy/Library/Python/3.7/lib/python/site-packages/ipykernel_launcher.py:3: DeprecationWarning: The 'body' parameter is deprecated for the 'search' API and will be removed in a future version. Instead use API parameters directly. See https://github.com/elastic/elasticsearch-py/issues/1698 for more information\n",
      "  This is separate from the ipykernel package so we can avoid doing imports until\n"
     ]
    }
   ],
   "source": [
    "index_name = \"slang-demo-json\"\n",
    "request = '''{\"query\": {\"match_all\": {}}}'''\n",
    "results = client.search(index=index_name, body=request,size = 100)['hits']['hits']\n",
    "print(results)"
   ]
  },
  {
   "cell_type": "code",
   "execution_count": 9,
   "id": "72b6a827",
   "metadata": {},
   "outputs": [
    {
     "name": "stdout",
     "output_type": "stream",
     "text": [
      "[{'_index': 'slang-demo-json', '_type': '_doc', '_id': '1181', '_score': 11.119665, '_source': {'id': 1181, 'acronym': 'inah', 'meaning': 'i need a hug'}}, {'_index': 'slang-demo-json', '_type': '_doc', '_id': '769', '_score': 9.979803, '_source': {'id': 769, 'acronym': 'gmab', 'meaning': 'give me a break'}}, {'_index': 'slang-demo-json', '_type': '_doc', '_id': '1785', '_score': 9.746098, '_source': {'id': 1785, 'acronym': 'nal', 'meaning': 'need a life'}}, {'_index': 'slang-demo-json', '_type': '_doc', '_id': '1192', '_score': 8.772346, '_source': {'id': 1192, 'acronym': 'iny', 'meaning': 'i need you'}}, {'_index': 'slang-demo-json', '_type': '_doc', '_id': '1170', '_score': 8.5358715, '_source': {'id': 1170, 'acronym': 'imr', 'meaning': 'i mean really'}}, {'_index': 'slang-demo-json', '_type': '_doc', '_id': '1188', '_score': 7.854871, '_source': {'id': 1188, 'acronym': 'intk', 'meaning': 'i need to know'}}, {'_index': 'slang-demo-json', '_type': '_doc', '_id': '1875', '_score': 7.854871, '_source': {'id': 1875, 'acronym': 'nism', 'meaning': 'need i say more'}}, {'_index': 'slang-demo-json', '_type': '_doc', '_id': '1216', '_score': 7.6431293, '_source': {'id': 1216, 'acronym': 'irly', 'meaning': 'i really like you'}}, {'_index': 'slang-demo-json', '_type': '_doc', '_id': '845', '_score': 7.4993434, '_source': {'id': 845, 'acronym': 'hbk', 'meaning': 'heart break kid'}}, {'_index': 'slang-demo-json', '_type': '_doc', '_id': '2055', '_score': 7.4993434, '_source': {'id': 2055, 'acronym': 'omb', 'meaning': 'on my break'}}, {'_index': 'slang-demo-json', '_type': '_doc', '_id': '1037', '_score': 6.919444, '_source': {'id': 1037, 'acronym': 'idrc', 'meaning': 'i do not really care'}}, {'_index': 'slang-demo-json', '_type': '_doc', '_id': '1038', '_score': 6.919444, '_source': {'id': 1038, 'acronym': 'idrk', 'meaning': 'i do not really know'}}, {'_index': 'slang-demo-json', '_type': '_doc', '_id': '1214', '_score': 6.919444, '_source': {'id': 1214, 'acronym': 'irdc', 'meaning': 'i really do not care'}}, {'_index': 'slang-demo-json', '_type': '_doc', '_id': '1215', '_score': 6.919444, '_source': {'id': 1215, 'acronym': 'irdk', 'meaning': 'i really do not know'}}, {'_index': 'slang-demo-json', '_type': '_doc', '_id': '190', '_score': 6.6389403, '_source': {'id': 190, 'acronym': 'orly', 'meaning': 'oh really'}}, {'_index': 'slang-demo-json', '_type': '_doc', '_id': '1894', '_score': 6.099964, '_source': {'id': 1894, 'acronym': 'nmi', 'meaning': 'need more info'}}, {'_index': 'slang-demo-json', '_type': '_doc', '_id': '1958', '_score': 6.099964, '_source': {'id': 1958, 'acronym': 'ntk', 'meaning': 'need to know'}}, {'_index': 'slang-demo-json', '_type': '_doc', '_id': '528', '_score': 5.8634906, '_source': {'id': 528, 'acronym': 'bnr', 'meaning': 'but not really'}}, {'_index': 'slang-demo-json', '_type': '_doc', '_id': '1545', '_score': 5.8634906, '_source': {'id': 1545, 'acronym': 'lrl', 'meaning': 'laughing really loud'}}, {'_index': 'slang-demo-json', '_type': '_doc', '_id': '1604', '_score': 5.8634906, '_source': {'id': 1604, 'acronym': 'lyr', 'meaning': 'love you really'}}, {'_index': 'slang-demo-json', '_type': '_doc', '_id': '2277', '_score': 5.8634906, '_source': {'id': 2277, 'acronym': 'psr', 'meaning': 'pretty standard really'}}, {'_index': 'slang-demo-json', '_type': '_doc', '_id': '2383', '_score': 5.8634906, '_source': {'id': 2383, 'acronym': 'rog', 'meaning': 'really old git'}}, {'_index': 'slang-demo-json', '_type': '_doc', '_id': '1067', '_score': 5.6576786, '_source': {'id': 1067, 'acronym': 'ihac', 'meaning': 'i have a customer'}}, {'_index': 'slang-demo-json', '_type': '_doc', '_id': '1910', '_score': 5.461986, '_source': {'id': 1910, 'acronym': 'nnto', 'meaning': 'no need to open'}}, {'_index': 'slang-demo-json', '_type': '_doc', '_id': '1912', '_score': 5.461986, '_source': {'id': 1912, 'acronym': 'nntr', 'meaning': 'no need to reply'}}, {'_index': 'slang-demo-json', '_type': '_doc', '_id': '2980', '_score': 5.461986, '_source': {'id': 2980, 'acronym': 'wntt', 'meaning': 'we need to talk'}}, {'_index': 'slang-demo-json', '_type': '_doc', '_id': '1527', '_score': 5.2502446, '_source': {'id': 1527, 'acronym': 'lorl', 'meaning': 'laugh out really loud'}}, {'_index': 'slang-demo-json', '_type': '_doc', '_id': '2343', '_score': 5.2502446, '_source': {'id': 2343, 'acronym': 'rdc', 'meaning': 'really do not care'}}, {'_index': 'slang-demo-json', '_type': '_doc', '_id': '129', '_score': 5.1219854, '_source': {'id': 129, 'acronym': 'ianal', 'meaning': 'i am not a lawyer '}}, {'_index': 'slang-demo-json', '_type': '_doc', '_id': '967', '_score': 5.1219854, '_source': {'id': 967, 'acronym': 'ianad', 'meaning': 'i am not a doctor'}}, {'_index': 'slang-demo-json', '_type': '_doc', '_id': '1193', '_score': 5.1219854, '_source': {'id': 1193, 'acronym': 'ioab', 'meaning': 'i am on a boat'}}, {'_index': 'slang-demo-json', '_type': '_doc', '_id': '618', '_score': 4.9448214, '_source': {'id': 618, 'acronym': 'dntk', 'meaning': 'do not need to know'}}, {'_index': 'slang-demo-json', '_type': '_doc', '_id': '350', '_score': 4.678961, '_source': {'id': 350, 'acronym': 'alihal', 'meaning': 'at least i have a life'}}, {'_index': 'slang-demo-json', '_type': '_doc', '_id': '1017', '_score': 4.678961, '_source': {'id': 1017, 'acronym': 'idgad', 'meaning': 'i do not give a damn'}}, {'_index': 'slang-demo-json', '_type': '_doc', '_id': '1020', '_score': 4.678961, '_source': {'id': 1020, 'acronym': 'idhac', 'meaning': 'i do not have a clue'}}, {'_index': 'slang-demo-json', '_type': '_doc', '_id': '1133', '_score': 4.678961, '_source': {'id': 1133, 'acronym': 'ilyaaf', 'meaning': 'i love you as a friend'}}, {'_index': 'slang-demo-json', '_type': '_doc', '_id': '1134', '_score': 4.678961, '_source': {'id': 1134, 'acronym': 'ilyam', 'meaning': 'i love you as a mate'}}, {'_index': 'slang-demo-json', '_type': '_doc', '_id': '1140', '_score': 4.678961, '_source': {'id': 1140, 'acronym': 'ilylas', 'meaning': 'i love you like a sister'}}, {'_index': 'slang-demo-json', '_type': '_doc', '_id': '1908', '_score': 4.517121, '_source': {'id': 1908, 'acronym': 'nn', 'meaning': 'night night no need not nice'}}, {'_index': 'slang-demo-json', '_type': '_doc', '_id': '2410', '_score': 4.342008, '_source': {'id': 2410, 'acronym': 'rss', 'meaning': 'rich site summary really simple syndication'}}, {'_index': 'slang-demo-json', '_type': '_doc', '_id': '253', '_score': 3.9415643, '_source': {'id': 253, 'acronym': 'wam', 'meaning': 'wait a minute what a mess'}}, {'_index': 'slang-demo-json', '_type': '_doc', '_id': '1782', '_score': 3.9415643, '_source': {'id': 1782, 'acronym': 'nac', 'meaning': 'not a chance not a chain '}}, {'_index': 'slang-demo-json', '_type': '_doc', '_id': '279', '_score': 3.6461332, '_source': {'id': 279, 'acronym': 'aap', 'meaning': 'always a pleasure'}}, {'_index': 'slang-demo-json', '_type': '_doc', '_id': '318', '_score': 3.6461332, '_source': {'id': 318, 'acronym': 'afi', 'meaning': 'a fire inside '}}, {'_index': 'slang-demo-json', '_type': '_doc', '_id': '968', '_score': 3.6461332, '_source': {'id': 968, 'acronym': 'ias', 'meaning': 'in a second'}}, {'_index': 'slang-demo-json', '_type': '_doc', '_id': '1289', '_score': 3.6461332, '_source': {'id': 1289, 'acronym': 'jaf', 'meaning': 'just a friend'}}, {'_index': 'slang-demo-json', '_type': '_doc', '_id': '1292', '_score': 3.6461332, '_source': {'id': 1292, 'acronym': 'jas', 'meaning': 'just a second'}}, {'_index': 'slang-demo-json', '_type': '_doc', '_id': '1293', '_score': 3.6461332, '_source': {'id': 1293, 'acronym': 'jat', 'meaning': 'just a thought'}}, {'_index': 'slang-demo-json', '_type': '_doc', '_id': '1790', '_score': 3.6461332, '_source': {'id': 1790, 'acronym': 'nap', 'meaning': 'not a problem'}}, {'_index': 'slang-demo-json', '_type': '_doc', '_id': '2441', '_score': 3.6461332, '_source': {'id': 2441, 'acronym': 'sab', 'meaning': 'smoking a blunt'}}, {'_index': 'slang-demo-json', '_type': '_doc', '_id': '2883', '_score': 3.6461332, '_source': {'id': 2883, 'acronym': 'waj', 'meaning': 'what a joke'}}, {'_index': 'slang-demo-json', '_type': '_doc', '_id': '2885', '_score': 3.6461332, '_source': {'id': 2885, 'acronym': 'wal', 'meaning': 'what a loser'}}, {'_index': 'slang-demo-json', '_type': '_doc', '_id': '470', '_score': 3.4996703, '_source': {'id': 470, 'acronym': 'bfab', 'meaning': 'born from a boombox back for a bit'}}, {'_index': 'slang-demo-json', '_type': '_doc', '_id': '2987', '_score': 3.4996703, '_source': {'id': 2987, 'acronym': 'wog', 'meaning': 'offensive term for a black person a foreigner'}}, {'_index': 'slang-demo-json', '_type': '_doc', '_id': '1087', '_score': 3.476252, '_source': {'id': 1087, 'acronym': 'iituwutmas', 'meaning': 'if i tell you will you tell me a secret'}}, {'_index': 'slang-demo-json', '_type': '_doc', '_id': '1092', '_score': 3.476252, '_source': {'id': 1092, 'acronym': 'iitywybmad', 'meaning': 'if i tell you will you buy me a drink'}}, {'_index': 'slang-demo-json', '_type': '_doc', '_id': '1267', '_score': 3.306404, '_source': {'id': 1267, 'acronym': 'iwik', 'meaning': 'i wish i knew'}}, {'_index': 'slang-demo-json', '_type': '_doc', '_id': '116', '_score': 3.2647943, '_source': {'id': 116, 'acronym': 'hag1', 'meaning': 'have a good one'}}, {'_index': 'slang-demo-json', '_type': '_doc', '_id': '117', '_score': 3.2647943, '_source': {'id': 117, 'acronym': 'hagn', 'meaning': 'have a good night'}}, {'_index': 'slang-demo-json', '_type': '_doc', '_id': '118', '_score': 3.2647943, '_source': {'id': 118, 'acronym': 'hand', 'meaning': 'have a nice day'}}, {'_index': 'slang-demo-json', '_type': '_doc', '_id': '122', '_score': 3.2647943, '_source': {'id': 122, 'acronym': 'hoas', 'meaning': 'hold on a second'}}, {'_index': 'slang-demo-json', '_type': '_doc', '_id': '176', '_score': 3.2647943, '_source': {'id': 176, 'acronym': 'nagi', 'meaning': 'not a good idea'}}, {'_index': 'slang-demo-json', '_type': '_doc', '_id': '224', '_score': 3.2647943, '_source': {'id': 224, 'acronym': 'swak', 'meaning': 'sealed  with a kiss'}}, {'_index': 'slang-demo-json', '_type': '_doc', '_id': '306', '_score': 3.2647943, '_source': {'id': 306, 'acronym': 'adtr', 'meaning': 'a day to remember '}}, {'_index': 'slang-demo-json', '_type': '_doc', '_id': '433', '_score': 3.2647943, '_source': {'id': 433, 'acronym': 'bagl', 'meaning': 'bust a gut laughing'}}, {'_index': 'slang-demo-json', '_type': '_doc', '_id': '496', '_score': 3.2647943, '_source': {'id': 496, 'acronym': 'biab', 'meaning': 'back in a bit'}}, {'_index': 'slang-demo-json', '_type': '_doc', '_id': '504', '_score': 3.2647943, '_source': {'id': 504, 'acronym': 'bmak', 'meaning': 'blow me a kiss'}}, {'_index': 'slang-demo-json', '_type': '_doc', '_id': '553', '_score': 3.2647943, '_source': {'id': 553, 'acronym': 'cmar', 'meaning': 'cry me a river'}}, {'_index': 'slang-demo-json', '_type': '_doc', '_id': '589', '_score': 3.2647943, '_source': {'id': 589, 'acronym': 'dmal', 'meaning': 'drop me a line'}}, {'_index': 'slang-demo-json', '_type': '_doc', '_id': '729', '_score': 3.2647943, '_source': {'id': 729, 'acronym': 'gfak', 'meaning': 'go fly a kite'}}, {'_index': 'slang-demo-json', '_type': '_doc', '_id': '760', '_score': 3.2647943, '_source': {'id': 760, 'acronym': 'glag', 'meaning': 'giggling like a girl'}}, {'_index': 'slang-demo-json', '_type': '_doc', '_id': '819', '_score': 3.2647943, '_source': {'id': 819, 'acronym': 'gwas', 'meaning': 'game was a success'}}, {'_index': 'slang-demo-json', '_type': '_doc', '_id': '834', '_score': 3.2647943, '_source': {'id': 834, 'acronym': 'hagd', 'meaning': 'have a good day'}}, {'_index': 'slang-demo-json', '_type': '_doc', '_id': '835', '_score': 3.2647943, '_source': {'id': 835, 'acronym': 'hage', 'meaning': 'have a good evening'}}, {'_index': 'slang-demo-json', '_type': '_doc', '_id': '836', '_score': 3.2647943, '_source': {'id': 836, 'acronym': 'hagl', 'meaning': 'have a good life'}}, {'_index': 'slang-demo-json', '_type': '_doc', '_id': '837', '_score': 3.2647943, '_source': {'id': 837, 'acronym': 'hago', 'meaning': 'have a good one'}}, {'_index': 'slang-demo-json', '_type': '_doc', '_id': '838', '_score': 3.2647943, '_source': {'id': 838, 'acronym': 'hags', 'meaning': 'have a great summer'}}, {'_index': 'slang-demo-json', '_type': '_doc', '_id': '839', '_score': 3.2647943, '_source': {'id': 839, 'acronym': 'hagt', 'meaning': 'have a great time'}}, {'_index': 'slang-demo-json', '_type': '_doc', '_id': '960', '_score': 3.2647943, '_source': {'id': 960, 'acronym': 'iabw', 'meaning': 'in a bad way'}}, {'_index': 'slang-demo-json', '_type': '_doc', '_id': '1356', '_score': 3.2647943, '_source': {'id': 1356, 'acronym': 'jwg', 'meaning': 'just a wild guess'}}, {'_index': 'slang-demo-json', '_type': '_doc', '_id': '1416', '_score': 3.2647943, '_source': {'id': 1416, 'acronym': 'lalb', 'meaning': 'laughing a little bit'}}, {'_index': 'slang-demo-json', '_type': '_doc', '_id': '1417', '_score': 3.2647943, '_source': {'id': 1417, 'acronym': 'lam', 'meaning': 'leave a message run'}}, {'_index': 'slang-demo-json', '_type': '_doc', '_id': '1499', '_score': 3.2647943, '_source': {'id': 1499, 'acronym': 'lmam', 'meaning': 'leave me a message'}}, {'_index': 'slang-demo-json', '_type': '_doc', '_id': '1699', '_score': 3.2647943, '_source': {'id': 1699, 'acronym': 'moam', 'meaning': 'man on a mission'}}, {'_index': 'slang-demo-json', '_type': '_doc', '_id': '1781', '_score': 3.2647943, '_source': {'id': 1781, 'acronym': 'nabd', 'meaning': 'not a big deal'}}, {'_index': 'slang-demo-json', '_type': '_doc', '_id': '1783', '_score': 3.2647943, '_source': {'id': 1783, 'acronym': 'nagl', 'meaning': 'not a good look'}}, {'_index': 'slang-demo-json', '_type': '_doc', '_id': '1792', '_score': 3.2647943, '_source': {'id': 1792, 'acronym': 'naru', 'meaning': 'not a registered user'}}, {'_index': 'slang-demo-json', '_type': '_doc', '_id': '1943', '_score': 3.2647943, '_source': {'id': 1943, 'acronym': 'nsaw', 'meaning': 'not saying a word'}}, {'_index': 'slang-demo-json', '_type': '_doc', '_id': '2079', '_score': 3.2647943, '_source': {'id': 2079, 'acronym': 'ooak', 'meaning': 'one of a kind'}}, {'_index': 'slang-demo-json', '_type': '_doc', '_id': '2132', '_score': 3.2647943, '_source': {'id': 2132, 'acronym': 'ouat', 'meaning': 'once upon a time'}}, {'_index': 'slang-demo-json', '_type': '_doc', '_id': '2365', '_score': 3.2647943, '_source': {'id': 2365, 'acronym': 'rlab', 'meaning': 'roll like a buffalo'}}, {'_index': 'slang-demo-json', '_type': '_doc', '_id': '2517', '_score': 3.2647943, '_source': {'id': 2517, 'acronym': 'soad', 'meaning': 'system of a down '}}, {'_index': 'slang-demo-json', '_type': '_doc', '_id': '2518', '_score': 3.2647943, '_source': {'id': 2518, 'acronym': 'soag', 'meaning': 'son of a gun'}}, {'_index': 'slang-demo-json', '_type': '_doc', '_id': '1241', '_score': 3.083592, '_source': {'id': 1241, 'acronym': 'itiky', 'meaning': 'i think i know you'}}, {'_index': 'slang-demo-json', '_type': '_doc', '_id': '1242', '_score': 3.083592, '_source': {'id': 1242, 'acronym': 'itilu', 'meaning': 'i think i love you'}}, {'_index': 'slang-demo-json', '_type': '_doc', '_id': '1243', '_score': 3.083592, '_source': {'id': 1243, 'acronym': 'itily', 'meaning': 'i think i love you'}}, {'_index': 'slang-demo-json', '_type': '_doc', '_id': '1268', '_score': 3.083592, '_source': {'id': 1268, 'acronym': 'iwiwt', 'meaning': 'i wish i were there'}}, {'_index': 'slang-demo-json', '_type': '_doc', '_id': '131', '_score': 3.0258055, '_source': {'id': 131, 'acronym': 'ic', 'meaning': 'i see'}}, {'_index': 'slang-demo-json', '_type': '_doc', '_id': '958', '_score': 3.0258055, '_source': {'id': 958, 'acronym': 'ia', 'meaning': 'i agree'}}, {'_index': 'slang-demo-json', '_type': '_doc', '_id': '1105', '_score': 3.0258055, '_source': {'id': 1105, 'acronym': 'ik', 'meaning': 'i know'}}]\n"
     ]
    },
    {
     "name": "stderr",
     "output_type": "stream",
     "text": [
      "/Users/anureddy/Library/Python/3.7/lib/python/site-packages/ipykernel_launcher.py:2: DeprecationWarning: The 'body' parameter is deprecated for the 'search' API and will be removed in a future version. Instead use API parameters directly. See https://github.com/elastic/elasticsearch-py/issues/1698 for more information\n",
      "  \n"
     ]
    }
   ],
   "source": [
    "request = '''{\"query\": {\"match\": { \"meaning\":\"i really need a break!\"}}}'''\n",
    "results = client.search(index=index_name, body=request,size = 100)['hits']['hits']\n",
    "print(results)"
   ]
  },
  {
   "cell_type": "code",
   "execution_count": 17,
   "id": "6b2f9490",
   "metadata": {},
   "outputs": [],
   "source": [
    "s1 = 'i really need a break!'"
   ]
  },
  {
   "cell_type": "code",
   "execution_count": 59,
   "id": "5d63f22a",
   "metadata": {},
   "outputs": [
    {
     "data": {
      "text/plain": [
       "' \\'\\'\\'{\"query\": {\"match\": { \"meaning\": i really need a break! }}}\\'\\'\\''"
      ]
     },
     "execution_count": 59,
     "metadata": {},
     "output_type": "execute_result"
    }
   ],
   "source": [
    "testvar = '''{\"query\": {\"match\": { \"meaning\": }}}'''\n",
    "testvar = \"\"\" '''{\\\"query\\\": {\\\"match\\\": { \\\"meaning\\\": \"\"\" + s1 + \"\"\" }}}'''\"\"\"\n",
    "testvar\n",
    "\n",
    "#testvar = '''{\"query\": {\"match\": { \"meaning\": }}}'''\n",
    "\n",
    "# request = '''{\"query\": {\"match\": { \"meaning\": }}}'''\n",
    "#results = client.search(index=index_name, body=testvar,size = 100)['hits']['hits']"
   ]
  },
  {
   "cell_type": "code",
   "execution_count": 16,
   "id": "d30e63e9",
   "metadata": {},
   "outputs": [
    {
     "name": "stdout",
     "output_type": "stream",
     "text": [
      "inah --> i need a hug\n",
      "gmab --> give me a break\n",
      "nal --> need a life\n",
      "iny --> i need you\n",
      "imr --> i mean really\n",
      "intk --> i need to know\n",
      "nism --> need i say more\n",
      "irly --> i really like you\n",
      "hbk --> heart break kid\n",
      "omb --> on my break\n",
      "idrc --> i do not really care\n",
      "idrk --> i do not really know\n",
      "irdc --> i really do not care\n",
      "irdk --> i really do not know\n",
      "orly --> oh really\n",
      "nmi --> need more info\n",
      "ntk --> need to know\n",
      "bnr --> but not really\n",
      "lrl --> laughing really loud\n",
      "lyr --> love you really\n",
      "psr --> pretty standard really\n",
      "rog --> really old git\n",
      "ihac --> i have a customer\n",
      "nnto --> no need to open\n",
      "nntr --> no need to reply\n",
      "wntt --> we need to talk\n",
      "lorl --> laugh out really loud\n",
      "rdc --> really do not care\n",
      "ianal --> i am not a lawyer \n",
      "ianad --> i am not a doctor\n",
      "ioab --> i am on a boat\n",
      "dntk --> do not need to know\n",
      "alihal --> at least i have a life\n",
      "idgad --> i do not give a damn\n",
      "idhac --> i do not have a clue\n",
      "ilyaaf --> i love you as a friend\n",
      "ilyam --> i love you as a mate\n",
      "ilylas --> i love you like a sister\n",
      "nn --> night night no need not nice\n",
      "rss --> rich site summary really simple syndication\n",
      "wam --> wait a minute what a mess\n",
      "nac --> not a chance not a chain \n",
      "aap --> always a pleasure\n",
      "afi --> a fire inside \n",
      "ias --> in a second\n",
      "jaf --> just a friend\n",
      "jas --> just a second\n",
      "jat --> just a thought\n",
      "nap --> not a problem\n",
      "sab --> smoking a blunt\n",
      "waj --> what a joke\n",
      "wal --> what a loser\n",
      "bfab --> born from a boombox back for a bit\n",
      "wog --> offensive term for a black person a foreigner\n",
      "iituwutmas --> if i tell you will you tell me a secret\n",
      "iitywybmad --> if i tell you will you buy me a drink\n",
      "iwik --> i wish i knew\n",
      "hag1 --> have a good one\n",
      "hagn --> have a good night\n",
      "hand --> have a nice day\n",
      "hoas --> hold on a second\n",
      "nagi --> not a good idea\n",
      "swak --> sealed  with a kiss\n",
      "adtr --> a day to remember \n",
      "bagl --> bust a gut laughing\n",
      "biab --> back in a bit\n",
      "bmak --> blow me a kiss\n",
      "cmar --> cry me a river\n",
      "dmal --> drop me a line\n",
      "gfak --> go fly a kite\n",
      "glag --> giggling like a girl\n",
      "gwas --> game was a success\n",
      "hagd --> have a good day\n",
      "hage --> have a good evening\n",
      "hagl --> have a good life\n",
      "hago --> have a good one\n",
      "hags --> have a great summer\n",
      "hagt --> have a great time\n",
      "iabw --> in a bad way\n",
      "jwg --> just a wild guess\n",
      "lalb --> laughing a little bit\n",
      "lam --> leave a message run\n",
      "lmam --> leave me a message\n",
      "moam --> man on a mission\n",
      "nabd --> not a big deal\n",
      "nagl --> not a good look\n",
      "naru --> not a registered user\n",
      "nsaw --> not saying a word\n",
      "ooak --> one of a kind\n",
      "ouat --> once upon a time\n",
      "rlab --> roll like a buffalo\n",
      "soad --> system of a down \n",
      "soag --> son of a gun\n",
      "itiky --> i think i know you\n",
      "itilu --> i think i love you\n",
      "itily --> i think i love you\n",
      "iwiwt --> i wish i were there\n",
      "ic --> i see\n",
      "ia --> i agree\n",
      "ik --> i know\n"
     ]
    }
   ],
   "source": [
    "for d in results:\n",
    "    print(d['_source']['acronym'],'-->',d['_source']['meaning'])"
   ]
  },
  {
   "cell_type": "code",
   "execution_count": null,
   "id": "1f4cd8b1",
   "metadata": {},
   "outputs": [],
   "source": [
    "# TODO: ES search function on searching abbreviation of phrases\n",
    "\"\"\" \n",
    "\"\"\"\n",
    "def search_es_abbreviation(list_words):\n",
    "    \n",
    "    return abbreviation->str"
   ]
  },
  {
   "cell_type": "code",
   "execution_count": null,
   "id": "9a9b5f08",
   "metadata": {},
   "outputs": [],
   "source": [
    "\"\"\"search in abbreviation database based on shingles,\n",
    "return slang and the corresponding shingle.\"\"\"\n",
    "\n",
    "def abbreviation_search(shingle_lst):\n",
    "    lst_search_result = []\n",
    "    for i in range(len(shingle_lst)):\n",
    "        list_temp = shingle_lst[i]\n",
    "        for j in range(len(list_temp)):\n",
    "            word_temp = list_temp[j]\n",
    "            search_result = search_es_abbreviation(word_temp)\n",
    "            # TODO: make it a fuzzy search\n",
    "            if search_result: # when search result non empty\n",
    "                # give list of paired (word, search result)\n",
    "                lst_search_result.append((word_temp, search_result))\n",
    "    return lst_search_result"
   ]
  },
  {
   "cell_type": "code",
   "execution_count": null,
   "id": "51acc02c",
   "metadata": {},
   "outputs": [],
   "source": [
    "\"\"\" use Urban dictionary to perform fuzzy search.\n",
    "TODO\n",
    "NOTE: another possible way is to bring the word to the phrase,\n",
    "namely extract keyword from urban dictionary&match it with the phrase.\"\"\"\n",
    "def UD_slang_search(phrase_list):\n",
    "    return slang_list\n",
    "    # formulation of slang_list: [(slang, word/phrase)]"
   ]
  },
  {
   "cell_type": "code",
   "execution_count": null,
   "id": "2780697a",
   "metadata": {},
   "outputs": [],
   "source": [
    "\"\"\"search in UD database based on phrases,\n",
    "return slang and the corresponding phrase.\"\"\"\n",
    "\n",
    "def slang_search(phrase_lst):\n",
    "    lst_search_result = []\n",
    "    for i in range(len(phrase_lst)):\n",
    "        list_temp = phrase_lst[i]\n",
    "        for j in range(len(list_temp)):\n",
    "            word_temp = list_temp[j]\n",
    "            search_result = UD_slang_search(word_temp)\n",
    "            # TODO: make it a fuzzy search\n",
    "            if search_result: # when search result non empty\n",
    "                # give list of paired (word, search result)\n",
    "                lst_search_result.append((word_temp, search_result))\n",
    "    return lst_search_result"
   ]
  },
  {
   "cell_type": "code",
   "execution_count": null,
   "id": "07ff6ed5",
   "metadata": {},
   "outputs": [],
   "source": []
  },
  {
   "cell_type": "code",
   "execution_count": 4,
   "id": "5adce292",
   "metadata": {},
   "outputs": [
    {
     "name": "stdout",
     "output_type": "stream",
     "text": [
      "[{'_index': 'emo31', '_type': 'emojis', '_id': 'nr2sFYUBDqVhmJIZoIO7', '_score': 1.0, '_source': {'index': {'_index': 'emo31'}}}, {'_index': 'emo31', '_type': 'emojis', '_id': 'n72sFYUBDqVhmJIZoIO7', '_score': 1.0, '_source': {'id': 0, 'emoji': '😀', 'meaning': ['grinning_face', 'face', 'smile', 'happy', 'joy', ':D', 'grin']}}, {'_index': 'emo31', '_type': 'emojis', '_id': 'oL2sFYUBDqVhmJIZoIO7', '_score': 1.0, '_source': {'index': {'_index': 'emo31'}}}, {'_index': 'emo31', '_type': 'emojis', '_id': 'ob2sFYUBDqVhmJIZoIO7', '_score': 1.0, '_source': {'id': 1, 'emoji': '😃', 'meaning': ['grinning_face_with_big_eyes', 'face', 'happy', 'joy', 'haha', ':D', ':)', 'smile', 'funny']}}, {'_index': 'emo31', '_type': 'emojis', '_id': 'or2sFYUBDqVhmJIZoIO7', '_score': 1.0, '_source': {'index': {'_index': 'emo31'}}}, {'_index': 'emo31', '_type': 'emojis', '_id': 'o72sFYUBDqVhmJIZoIO7', '_score': 1.0, '_source': {'id': 2, 'emoji': '😄', 'meaning': ['grinning_face_with_smiling_eyes', 'face', 'happy', 'joy', 'funny', 'haha', 'laugh', 'like', ':D', ':)', 'smile']}}, {'_index': 'emo31', '_type': 'emojis', '_id': 'pL2sFYUBDqVhmJIZoIO7', '_score': 1.0, '_source': {'index': {'_index': 'emo31'}}}, {'_index': 'emo31', '_type': 'emojis', '_id': 'pb2sFYUBDqVhmJIZoIO7', '_score': 1.0, '_source': {'id': 3, 'emoji': '😁', 'meaning': ['beaming_face_with_smiling_eyes', 'face', 'happy', 'smile', 'joy', 'kawaii']}}, {'_index': 'emo31', '_type': 'emojis', '_id': 'pr2sFYUBDqVhmJIZoIO7', '_score': 1.0, '_source': {'index': {'_index': 'emo31'}}}, {'_index': 'emo31', '_type': 'emojis', '_id': 'p72sFYUBDqVhmJIZoIO7', '_score': 1.0, '_source': {'id': 4, 'emoji': '😆', 'meaning': ['grinning_squinting_face', 'happy', 'joy', 'lol', 'satisfied', 'haha', 'face', 'glad', 'XD', 'laugh']}}, {'_index': 'emo31', '_type': 'emojis', '_id': 'qL2sFYUBDqVhmJIZoIO7', '_score': 1.0, '_source': {'index': {'_index': 'emo31'}}}, {'_index': 'emo31', '_type': 'emojis', '_id': 'qb2sFYUBDqVhmJIZoIO7', '_score': 1.0, '_source': {'id': 5, 'emoji': '😅', 'meaning': ['grinning_face_with_sweat', 'face', 'hot', 'happy', 'laugh', 'sweat', 'smile', 'relief']}}, {'_index': 'emo31', '_type': 'emojis', '_id': 'qr2sFYUBDqVhmJIZoIO7', '_score': 1.0, '_source': {'index': {'_index': 'emo31'}}}, {'_index': 'emo31', '_type': 'emojis', '_id': 'q72sFYUBDqVhmJIZoIO7', '_score': 1.0, '_source': {'id': 6, 'emoji': '🤣', 'meaning': ['rolling_on_the_floor_laughing', 'face', 'rolling', 'floor', 'laughing', 'lol', 'haha', 'rofl']}}, {'_index': 'emo31', '_type': 'emojis', '_id': 'rL2sFYUBDqVhmJIZoIO7', '_score': 1.0, '_source': {'index': {'_index': 'emo31'}}}, {'_index': 'emo31', '_type': 'emojis', '_id': 'rb2sFYUBDqVhmJIZoIO7', '_score': 1.0, '_source': {'id': 7, 'emoji': '😂', 'meaning': ['face_with_tears_of_joy', 'face', 'cry', 'tears', 'weep', 'happy', 'happytears', 'haha']}}, {'_index': 'emo31', '_type': 'emojis', '_id': 'rr2sFYUBDqVhmJIZoIO7', '_score': 1.0, '_source': {'index': {'_index': 'emo31'}}}, {'_index': 'emo31', '_type': 'emojis', '_id': 'r72sFYUBDqVhmJIZoIO7', '_score': 1.0, '_source': {'id': 8, 'emoji': '🙂', 'meaning': ['slightly_smiling_face', 'face', 'smile']}}, {'_index': 'emo31', '_type': 'emojis', '_id': 'sL2sFYUBDqVhmJIZoIO7', '_score': 1.0, '_source': {'index': {'_index': 'emo31'}}}, {'_index': 'emo31', '_type': 'emojis', '_id': 'sb2sFYUBDqVhmJIZoIO7', '_score': 1.0, '_source': {'id': 9, 'emoji': '🙃', 'meaning': ['upside_down_face', 'face', 'flipped', 'silly', 'smile']}}, {'_index': 'emo31', '_type': 'emojis', '_id': 'sr2sFYUBDqVhmJIZoIO7', '_score': 1.0, '_source': {'index': {'_index': 'emo31'}}}, {'_index': 'emo31', '_type': 'emojis', '_id': 's72sFYUBDqVhmJIZoIO7', '_score': 1.0, '_source': {'id': 10, 'emoji': '😉', 'meaning': ['winking_face', 'face', 'happy', 'mischievous', 'secret', ';)', 'smile', 'eye']}}, {'_index': 'emo31', '_type': 'emojis', '_id': 'tL2sFYUBDqVhmJIZoIO7', '_score': 1.0, '_source': {'index': {'_index': 'emo31'}}}, {'_index': 'emo31', '_type': 'emojis', '_id': 'tb2sFYUBDqVhmJIZoIO7', '_score': 1.0, '_source': {'id': 11, 'emoji': '😊', 'meaning': ['smiling_face_with_smiling_eyes', 'face', 'smile', 'happy', 'flushed', 'crush', 'embarrassed', 'shy', 'joy']}}, {'_index': 'emo31', '_type': 'emojis', '_id': 'tr2sFYUBDqVhmJIZoIO7', '_score': 1.0, '_source': {'index': {'_index': 'emo31'}}}, {'_index': 'emo31', '_type': 'emojis', '_id': 't72sFYUBDqVhmJIZoIO7', '_score': 1.0, '_source': {'id': 12, 'emoji': '😇', 'meaning': ['smiling_face_with_halo', 'face', 'angel', 'heaven', 'halo', 'innocent']}}, {'_index': 'emo31', '_type': 'emojis', '_id': 'uL2sFYUBDqVhmJIZoIO7', '_score': 1.0, '_source': {'index': {'_index': 'emo31'}}}, {'_index': 'emo31', '_type': 'emojis', '_id': 'ub2sFYUBDqVhmJIZoIO7', '_score': 1.0, '_source': {'id': 13, 'emoji': '🥰', 'meaning': ['smiling_face_with_hearts', 'face', 'love', 'like', 'affection', 'valentines', 'infatuation', 'crush', 'hearts', 'adore']}}, {'_index': 'emo31', '_type': 'emojis', '_id': 'ur2sFYUBDqVhmJIZoIO7', '_score': 1.0, '_source': {'index': {'_index': 'emo31'}}}, {'_index': 'emo31', '_type': 'emojis', '_id': 'u72sFYUBDqVhmJIZoIO7', '_score': 1.0, '_source': {'id': 14, 'emoji': '😍', 'meaning': ['smiling_face_with_heart_eyes', 'face', 'love', 'like', 'affection', 'valentines', 'infatuation', 'crush', 'heart']}}, {'_index': 'emo31', '_type': 'emojis', '_id': 'vL2sFYUBDqVhmJIZoIO7', '_score': 1.0, '_source': {'index': {'_index': 'emo31'}}}, {'_index': 'emo31', '_type': 'emojis', '_id': 'vb2sFYUBDqVhmJIZoIO7', '_score': 1.0, '_source': {'id': 15, 'emoji': '🤩', 'meaning': ['star_struck', 'face', 'smile', 'starry', 'eyes', 'grinning']}}, {'_index': 'emo31', '_type': 'emojis', '_id': 'vr2sFYUBDqVhmJIZoIO7', '_score': 1.0, '_source': {'index': {'_index': 'emo31'}}}, {'_index': 'emo31', '_type': 'emojis', '_id': 'v72sFYUBDqVhmJIZoIO7', '_score': 1.0, '_source': {'id': 16, 'emoji': '😘', 'meaning': ['face_blowing_a_kiss', 'face', 'love', 'like', 'affection', 'valentines', 'infatuation', 'kiss']}}, {'_index': 'emo31', '_type': 'emojis', '_id': 'wL2sFYUBDqVhmJIZoIO7', '_score': 1.0, '_source': {'index': {'_index': 'emo31'}}}, {'_index': 'emo31', '_type': 'emojis', '_id': 'wb2sFYUBDqVhmJIZoIO7', '_score': 1.0, '_source': {'id': 17, 'emoji': '😗', 'meaning': ['kissing_face', 'love', 'like', 'face', '3', 'valentines', 'infatuation', 'kiss']}}, {'_index': 'emo31', '_type': 'emojis', '_id': 'wr2sFYUBDqVhmJIZoIO7', '_score': 1.0, '_source': {'index': {'_index': 'emo31'}}}, {'_index': 'emo31', '_type': 'emojis', '_id': 'w72sFYUBDqVhmJIZoIO7', '_score': 1.0, '_source': {'id': 18, 'emoji': '☺️', 'meaning': ['smiling_face', 'face', 'blush', 'massage', 'happiness']}}, {'_index': 'emo31', '_type': 'emojis', '_id': 'xL2sFYUBDqVhmJIZoIO7', '_score': 1.0, '_source': {'index': {'_index': 'emo31'}}}, {'_index': 'emo31', '_type': 'emojis', '_id': 'xb2sFYUBDqVhmJIZoIO7', '_score': 1.0, '_source': {'id': 19, 'emoji': '😚', 'meaning': ['kissing_face_with_closed_eyes', 'face', 'love', 'like', 'affection', 'valentines', 'infatuation', 'kiss']}}, {'_index': 'emo31', '_type': 'emojis', '_id': 'xr2sFYUBDqVhmJIZoIO7', '_score': 1.0, '_source': {'index': {'_index': 'emo31'}}}, {'_index': 'emo31', '_type': 'emojis', '_id': 'x72sFYUBDqVhmJIZoIO7', '_score': 1.0, '_source': {'id': 20, 'emoji': '😙', 'meaning': ['kissing_face_with_smiling_eyes', 'face', 'affection', 'valentines', 'infatuation', 'kiss']}}, {'_index': 'emo31', '_type': 'emojis', '_id': 'yL2sFYUBDqVhmJIZoIO7', '_score': 1.0, '_source': {'index': {'_index': 'emo31'}}}, {'_index': 'emo31', '_type': 'emojis', '_id': 'yb2sFYUBDqVhmJIZoIO7', '_score': 1.0, '_source': {'id': 21, 'emoji': '😋', 'meaning': ['face_savoring_food', 'happy', 'joy', 'tongue', 'smile', 'face', 'silly', 'yummy', 'nom', 'delicious', 'savouring']}}, {'_index': 'emo31', '_type': 'emojis', '_id': 'yr2sFYUBDqVhmJIZoIO7', '_score': 1.0, '_source': {'index': {'_index': 'emo31'}}}, {'_index': 'emo31', '_type': 'emojis', '_id': 'y72sFYUBDqVhmJIZoIO7', '_score': 1.0, '_source': {'id': 22, 'emoji': '😛', 'meaning': ['face_with_tongue', 'face', 'prank', 'childish', 'playful', 'mischievous', 'smile', 'tongue']}}, {'_index': 'emo31', '_type': 'emojis', '_id': 'zL2sFYUBDqVhmJIZoIO7', '_score': 1.0, '_source': {'index': {'_index': 'emo31'}}}, {'_index': 'emo31', '_type': 'emojis', '_id': 'zb2sFYUBDqVhmJIZoIO7', '_score': 1.0, '_source': {'id': 23, 'emoji': '😜', 'meaning': ['winking_face_with_tongue', 'face', 'prank', 'childish', 'playful', 'mischievous', 'smile', 'wink', 'tongue']}}, {'_index': 'emo31', '_type': 'emojis', '_id': 'zr2sFYUBDqVhmJIZoIO7', '_score': 1.0, '_source': {'index': {'_index': 'emo31'}}}, {'_index': 'emo31', '_type': 'emojis', '_id': 'z72sFYUBDqVhmJIZoIO7', '_score': 1.0, '_source': {'id': 24, 'emoji': '🤪', 'meaning': ['zany_face', 'face', 'goofy', 'crazy']}}, {'_index': 'emo31', '_type': 'emojis', '_id': '0L2sFYUBDqVhmJIZoIO7', '_score': 1.0, '_source': {'index': {'_index': 'emo31'}}}, {'_index': 'emo31', '_type': 'emojis', '_id': '0b2sFYUBDqVhmJIZoIO7', '_score': 1.0, '_source': {'id': 25, 'emoji': '😝', 'meaning': ['squinting_face_with_tongue', 'face', 'prank', 'playful', 'mischievous', 'smile', 'tongue']}}, {'_index': 'emo31', '_type': 'emojis', '_id': '0r2sFYUBDqVhmJIZoIO7', '_score': 1.0, '_source': {'index': {'_index': 'emo31'}}}, {'_index': 'emo31', '_type': 'emojis', '_id': '072sFYUBDqVhmJIZoIO7', '_score': 1.0, '_source': {'id': 26, 'emoji': '🤑', 'meaning': ['money_mouth_face', 'face', 'rich', 'dollar', 'money']}}, {'_index': 'emo31', '_type': 'emojis', '_id': '1L2sFYUBDqVhmJIZoIO7', '_score': 1.0, '_source': {'index': {'_index': 'emo31'}}}, {'_index': 'emo31', '_type': 'emojis', '_id': '1b2sFYUBDqVhmJIZoIO7', '_score': 1.0, '_source': {'id': 27, 'emoji': '🤗', 'meaning': ['hugging_face', 'face', 'smile', 'hug']}}, {'_index': 'emo31', '_type': 'emojis', '_id': '1r2sFYUBDqVhmJIZoIO7', '_score': 1.0, '_source': {'index': {'_index': 'emo31'}}}, {'_index': 'emo31', '_type': 'emojis', '_id': '172sFYUBDqVhmJIZoIO7', '_score': 1.0, '_source': {'id': 28, 'emoji': '🤭', 'meaning': ['face_with_hand_over_mouth', 'face', 'whoops', 'shock', 'surprise']}}, {'_index': 'emo31', '_type': 'emojis', '_id': '2L2sFYUBDqVhmJIZoIO7', '_score': 1.0, '_source': {'index': {'_index': 'emo31'}}}, {'_index': 'emo31', '_type': 'emojis', '_id': '2b2sFYUBDqVhmJIZoIO7', '_score': 1.0, '_source': {'id': 29, 'emoji': '🤫', 'meaning': ['shushing_face', 'face', 'quiet', 'shhh']}}, {'_index': 'emo31', '_type': 'emojis', '_id': '2r2sFYUBDqVhmJIZoIO7', '_score': 1.0, '_source': {'index': {'_index': 'emo31'}}}, {'_index': 'emo31', '_type': 'emojis', '_id': '272sFYUBDqVhmJIZoIO7', '_score': 1.0, '_source': {'id': 30, 'emoji': '🤔', 'meaning': ['thinking_face', 'face', 'hmmm', 'think', 'consider']}}, {'_index': 'emo31', '_type': 'emojis', '_id': '3L2sFYUBDqVhmJIZoIO7', '_score': 1.0, '_source': {'index': {'_index': 'emo31'}}}, {'_index': 'emo31', '_type': 'emojis', '_id': '3b2sFYUBDqVhmJIZoIO7', '_score': 1.0, '_source': {'id': 31, 'emoji': '🤐', 'meaning': ['zipper_mouth_face', 'face', 'sealed', 'zipper', 'secret']}}, {'_index': 'emo31', '_type': 'emojis', '_id': '3r2sFYUBDqVhmJIZoIO7', '_score': 1.0, '_source': {'index': {'_index': 'emo31'}}}, {'_index': 'emo31', '_type': 'emojis', '_id': '372sFYUBDqVhmJIZoIO7', '_score': 1.0, '_source': {'id': 32, 'emoji': '🤨', 'meaning': ['face_with_raised_eyebrow', 'face', 'distrust', 'scepticism', 'disapproval', 'disbelief', 'surprise']}}, {'_index': 'emo31', '_type': 'emojis', '_id': '4L2sFYUBDqVhmJIZoIO7', '_score': 1.0, '_source': {'index': {'_index': 'emo31'}}}, {'_index': 'emo31', '_type': 'emojis', '_id': '4b2sFYUBDqVhmJIZoIO7', '_score': 1.0, '_source': {'id': 33, 'emoji': '😐', 'meaning': ['neutral_face', 'indifference', 'meh', ':|', 'neutral']}}, {'_index': 'emo31', '_type': 'emojis', '_id': '4r2sFYUBDqVhmJIZoIO7', '_score': 1.0, '_source': {'index': {'_index': 'emo31'}}}, {'_index': 'emo31', '_type': 'emojis', '_id': '472sFYUBDqVhmJIZoIO7', '_score': 1.0, '_source': {'id': 34, 'emoji': '😑', 'meaning': ['expressionless_face', 'face', 'indifferent', '-_-', 'meh', 'deadpan']}}, {'_index': 'emo31', '_type': 'emojis', '_id': '5L2sFYUBDqVhmJIZoIO7', '_score': 1.0, '_source': {'index': {'_index': 'emo31'}}}, {'_index': 'emo31', '_type': 'emojis', '_id': '5b2sFYUBDqVhmJIZoIO7', '_score': 1.0, '_source': {'id': 35, 'emoji': '😶', 'meaning': ['face_without_mouth', 'face', 'hellokitty']}}, {'_index': 'emo31', '_type': 'emojis', '_id': '5r2sFYUBDqVhmJIZoIO7', '_score': 1.0, '_source': {'index': {'_index': 'emo31'}}}, {'_index': 'emo31', '_type': 'emojis', '_id': '572sFYUBDqVhmJIZoIO7', '_score': 1.0, '_source': {'id': 36, 'emoji': '😏', 'meaning': ['smirking_face', 'face', 'smile', 'mean', 'prank', 'smug', 'sarcasm']}}, {'_index': 'emo31', '_type': 'emojis', '_id': '6L2sFYUBDqVhmJIZoIO7', '_score': 1.0, '_source': {'index': {'_index': 'emo31'}}}, {'_index': 'emo31', '_type': 'emojis', '_id': '6b2sFYUBDqVhmJIZoIO7', '_score': 1.0, '_source': {'id': 37, 'emoji': '😒', 'meaning': ['unamused_face', 'indifference', 'bored', 'straight face', 'serious', 'sarcasm', 'unimpressed', 'skeptical', 'dubious', 'side_eye']}}, {'_index': 'emo31', '_type': 'emojis', '_id': '6r2sFYUBDqVhmJIZoIO7', '_score': 1.0, '_source': {'index': {'_index': 'emo31'}}}, {'_index': 'emo31', '_type': 'emojis', '_id': '672sFYUBDqVhmJIZoIO7', '_score': 1.0, '_source': {'id': 38, 'emoji': '🙄', 'meaning': ['face_with_rolling_eyes', 'face', 'eyeroll', 'frustrated']}}, {'_index': 'emo31', '_type': 'emojis', '_id': '7L2sFYUBDqVhmJIZoIO7', '_score': 1.0, '_source': {'index': {'_index': 'emo31'}}}, {'_index': 'emo31', '_type': 'emojis', '_id': '7b2sFYUBDqVhmJIZoIO7', '_score': 1.0, '_source': {'id': 39, 'emoji': '😬', 'meaning': ['grimacing_face', 'face', 'grimace', 'teeth']}}, {'_index': 'emo31', '_type': 'emojis', '_id': '7r2sFYUBDqVhmJIZoIO7', '_score': 1.0, '_source': {'index': {'_index': 'emo31'}}}, {'_index': 'emo31', '_type': 'emojis', '_id': '772sFYUBDqVhmJIZoIO7', '_score': 1.0, '_source': {'id': 40, 'emoji': '🤥', 'meaning': ['lying_face', 'face', 'lie', 'pinocchio']}}, {'_index': 'emo31', '_type': 'emojis', '_id': '8L2sFYUBDqVhmJIZoIO7', '_score': 1.0, '_source': {'index': {'_index': 'emo31'}}}, {'_index': 'emo31', '_type': 'emojis', '_id': '8b2sFYUBDqVhmJIZoIO7', '_score': 1.0, '_source': {'id': 41, 'emoji': '😌', 'meaning': ['relieved_face', 'face', 'relaxed', 'phew', 'massage', 'happiness']}}, {'_index': 'emo31', '_type': 'emojis', '_id': '8r2sFYUBDqVhmJIZoIO7', '_score': 1.0, '_source': {'index': {'_index': 'emo31'}}}, {'_index': 'emo31', '_type': 'emojis', '_id': '872sFYUBDqVhmJIZoIO7', '_score': 1.0, '_source': {'id': 42, 'emoji': '😔', 'meaning': ['pensive_face', 'face', 'sad', 'depressed', 'upset']}}, {'_index': 'emo31', '_type': 'emojis', '_id': '9L2sFYUBDqVhmJIZoIO7', '_score': 1.0, '_source': {'index': {'_index': 'emo31'}}}, {'_index': 'emo31', '_type': 'emojis', '_id': '9b2sFYUBDqVhmJIZoIO7', '_score': 1.0, '_source': {'id': 43, 'emoji': '😪', 'meaning': ['sleepy_face', 'face', 'tired', 'rest', 'nap']}}, {'_index': 'emo31', '_type': 'emojis', '_id': '9r2sFYUBDqVhmJIZoIO7', '_score': 1.0, '_source': {'index': {'_index': 'emo31'}}}, {'_index': 'emo31', '_type': 'emojis', '_id': '972sFYUBDqVhmJIZoIO7', '_score': 1.0, '_source': {'id': 44, 'emoji': '🤤', 'meaning': ['drooling_face', 'face']}}, {'_index': 'emo31', '_type': 'emojis', '_id': '-L2sFYUBDqVhmJIZoIO7', '_score': 1.0, '_source': {'index': {'_index': 'emo31'}}}, {'_index': 'emo31', '_type': 'emojis', '_id': '-b2sFYUBDqVhmJIZoIO7', '_score': 1.0, '_source': {'id': 45, 'emoji': '😴', 'meaning': ['sleeping_face', 'face', 'tired', 'sleepy', 'night', 'zzz']}}, {'_index': 'emo31', '_type': 'emojis', '_id': '-r2sFYUBDqVhmJIZoIO7', '_score': 1.0, '_source': {'index': {'_index': 'emo31'}}}, {'_index': 'emo31', '_type': 'emojis', '_id': '-72sFYUBDqVhmJIZoIO7', '_score': 1.0, '_source': {'id': 46, 'emoji': '😷', 'meaning': ['face_with_medical_mask', 'face', 'sick', 'ill', 'disease', 'covid']}}, {'_index': 'emo31', '_type': 'emojis', '_id': '_L2sFYUBDqVhmJIZoIO7', '_score': 1.0, '_source': {'index': {'_index': 'emo31'}}}, {'_index': 'emo31', '_type': 'emojis', '_id': '_b2sFYUBDqVhmJIZoIO7', '_score': 1.0, '_source': {'id': 47, 'emoji': '🤒', 'meaning': ['face_with_thermometer', 'sick', 'temperature', 'thermometer', 'cold', 'fever', 'covid']}}, {'_index': 'emo31', '_type': 'emojis', '_id': '_r2sFYUBDqVhmJIZoIO7', '_score': 1.0, '_source': {'index': {'_index': 'emo31'}}}, {'_index': 'emo31', '_type': 'emojis', '_id': '_72sFYUBDqVhmJIZoIO7', '_score': 1.0, '_source': {'id': 48, 'emoji': '🤕', 'meaning': ['face_with_head_bandage', 'injured', 'clumsy', 'bandage', 'hurt']}}, {'_index': 'emo31', '_type': 'emojis', '_id': 'AL2sFYUBDqVhmJIZoIS7', '_score': 1.0, '_source': {'index': {'_index': 'emo31'}}}, {'_index': 'emo31', '_type': 'emojis', '_id': 'Ab2sFYUBDqVhmJIZoIS7', '_score': 1.0, '_source': {'id': 49, 'emoji': '🤢', 'meaning': ['nauseated_face', 'face', 'vomit', 'gross', 'green', 'sick', 'throw up', 'ill']}}]\n"
     ]
    },
    {
     "name": "stderr",
     "output_type": "stream",
     "text": [
      "/Users/anureddy/Library/Python/3.7/lib/python/site-packages/ipykernel_launcher.py:3: DeprecationWarning: The 'body' parameter is deprecated for the 'search' API and will be removed in a future version. Instead use API parameters directly. See https://github.com/elastic/elasticsearch-py/issues/1698 for more information\n",
      "  This is separate from the ipykernel package so we can avoid doing imports until\n"
     ]
    }
   ],
   "source": [
    "  \n",
    "index_name = \"emo31\"\n",
    "request = '''{\"query\": {\"match_all\": {}}}'''\n",
    "results = client.search(index=index_name, body=request,size = 100)['hits']['hits']\n",
    "print(results)"
   ]
  },
  {
   "cell_type": "code",
   "execution_count": 5,
   "id": "99c48580",
   "metadata": {},
   "outputs": [
    {
     "name": "stdout",
     "output_type": "stream",
     "text": [
      "[{'_index': 'emo31', '_type': 'emojis', '_id': 'J72sFYUBDqVhmJIZoIW7', '_score': 6.634506, '_source': {'id': 196, 'emoji': '👄', 'meaning': ['mouth', 'mouth', 'kiss']}}, {'_index': 'emo31', '_type': 'emojis', '_id': 'R4anrIUBOSZGbDlKy07z', '_score': 6.634506, '_source': {'id': 196, 'emoji': '👄', 'meaning': ['mouth', 'mouth', 'kiss']}}, {'_index': 'emo31', '_type': 'emojis', '_id': 'db2sFYUBDqVhmJIZoIS7', '_score': 6.0449953, '_source': {'id': 107, 'emoji': '😽', 'meaning': ['kissing_cat', 'animal', 'cats', 'kiss']}}, {'_index': 'emo31', '_type': 'emojis', '_id': 'lYanrIUBOSZGbDlKy03z', '_score': 6.0449953, '_source': {'id': 107, 'emoji': '😽', 'meaning': ['kissing_cat', 'animal', 'cats', 'kiss']}}, {'_index': 'emo31', '_type': 'emojis', '_id': 'x72sFYUBDqVhmJIZoIO7', '_score': 5.132836, '_source': {'id': 20, 'emoji': '😙', 'meaning': ['kissing_face_with_smiling_eyes', 'face', 'affection', 'valentines', 'infatuation', 'kiss']}}, {'_index': 'emo31', '_type': 'emojis', '_id': '54anrIUBOSZGbDlKy0zy', '_score': 5.132836, '_source': {'id': 20, 'emoji': '😙', 'meaning': ['kissing_face_with_smiling_eyes', 'face', 'affection', 'valentines', 'infatuation', 'kiss']}}, {'_index': 'emo31', '_type': 'emojis', '_id': 'Gb2sFYUBDqVhmJIZoYcN', '_score': 4.772744, '_source': {'id': 445, 'emoji': '💏', 'meaning': ['kiss', 'pair', 'valentines', 'love', 'like', 'dating', 'marriage']}}, {'_index': 'emo31', '_type': 'emojis', '_id': 'OYanrIUBOSZGbDlKzFA1', '_score': 4.772744, '_source': {'id': 445, 'emoji': '💏', 'meaning': ['kiss', 'pair', 'valentines', 'love', 'like', 'dating', 'marriage']}}, {'_index': 'emo31', '_type': 'emojis', '_id': 'v72sFYUBDqVhmJIZoIO7', '_score': 4.4598646, '_source': {'id': 16, 'emoji': '😘', 'meaning': ['face_blowing_a_kiss', 'face', 'love', 'like', 'affection', 'valentines', 'infatuation', 'kiss']}}, {'_index': 'emo31', '_type': 'emojis', '_id': 'wb2sFYUBDqVhmJIZoIO7', '_score': 4.4598646, '_source': {'id': 17, 'emoji': '😗', 'meaning': ['kissing_face', 'love', 'like', 'face', '3', 'valentines', 'infatuation', 'kiss']}}, {'_index': 'emo31', '_type': 'emojis', '_id': 'xb2sFYUBDqVhmJIZoIO7', '_score': 4.4598646, '_source': {'id': 19, 'emoji': '😚', 'meaning': ['kissing_face_with_closed_eyes', 'face', 'love', 'like', 'affection', 'valentines', 'infatuation', 'kiss']}}, {'_index': 'emo31', '_type': 'emojis', '_id': '34anrIUBOSZGbDlKy0zy', '_score': 4.4598646, '_source': {'id': 16, 'emoji': '😘', 'meaning': ['face_blowing_a_kiss', 'face', 'love', 'like', 'affection', 'valentines', 'infatuation', 'kiss']}}, {'_index': 'emo31', '_type': 'emojis', '_id': '4YanrIUBOSZGbDlKy0zy', '_score': 4.4598646, '_source': {'id': 17, 'emoji': '😗', 'meaning': ['kissing_face', 'love', 'like', 'face', '3', 'valentines', 'infatuation', 'kiss']}}, {'_index': 'emo31', '_type': 'emojis', '_id': '5YanrIUBOSZGbDlKy0zy', '_score': 4.4598646, '_source': {'id': 19, 'emoji': '😚', 'meaning': ['kissing_face_with_closed_eyes', 'face', 'love', 'like', 'affection', 'valentines', 'infatuation', 'kiss']}}]\n"
     ]
    },
    {
     "name": "stderr",
     "output_type": "stream",
     "text": [
      "/Users/anureddy/Library/Python/3.7/lib/python/site-packages/ipykernel_launcher.py:3: DeprecationWarning: The 'body' parameter is deprecated for the 'search' API and will be removed in a future version. Instead use API parameters directly. See https://github.com/elastic/elasticsearch-py/issues/1698 for more information\n",
      "  This is separate from the ipykernel package so we can avoid doing imports until\n"
     ]
    }
   ],
   "source": [
    "#ES search query for a specific word (testcase)\n",
    "request = '''{\"query\": {\"match\": { \"meaning\":\"kiss\"}}}'''\n",
    "results = client.search(index=index_name, body=request,size = 100)['hits']['hits']\n",
    "print(results)"
   ]
  },
  {
   "cell_type": "code",
   "execution_count": 6,
   "id": "e626c635",
   "metadata": {},
   "outputs": [
    {
     "data": {
      "text/plain": [
       "[['mouth', 'mouth', 'kiss'],\n",
       " ['mouth', 'mouth', 'kiss'],\n",
       " ['kissing_cat', 'animal', 'cats', 'kiss'],\n",
       " ['kissing_cat', 'animal', 'cats', 'kiss'],\n",
       " ['kissing_face_with_smiling_eyes',\n",
       "  'face',\n",
       "  'affection',\n",
       "  'valentines',\n",
       "  'infatuation',\n",
       "  'kiss'],\n",
       " ['kissing_face_with_smiling_eyes',\n",
       "  'face',\n",
       "  'affection',\n",
       "  'valentines',\n",
       "  'infatuation',\n",
       "  'kiss'],\n",
       " ['kiss', 'pair', 'valentines', 'love', 'like', 'dating', 'marriage'],\n",
       " ['kiss', 'pair', 'valentines', 'love', 'like', 'dating', 'marriage'],\n",
       " ['face_blowing_a_kiss',\n",
       "  'face',\n",
       "  'love',\n",
       "  'like',\n",
       "  'affection',\n",
       "  'valentines',\n",
       "  'infatuation',\n",
       "  'kiss'],\n",
       " ['kissing_face',\n",
       "  'love',\n",
       "  'like',\n",
       "  'face',\n",
       "  '3',\n",
       "  'valentines',\n",
       "  'infatuation',\n",
       "  'kiss'],\n",
       " ['kissing_face_with_closed_eyes',\n",
       "  'face',\n",
       "  'love',\n",
       "  'like',\n",
       "  'affection',\n",
       "  'valentines',\n",
       "  'infatuation',\n",
       "  'kiss'],\n",
       " ['face_blowing_a_kiss',\n",
       "  'face',\n",
       "  'love',\n",
       "  'like',\n",
       "  'affection',\n",
       "  'valentines',\n",
       "  'infatuation',\n",
       "  'kiss'],\n",
       " ['kissing_face',\n",
       "  'love',\n",
       "  'like',\n",
       "  'face',\n",
       "  '3',\n",
       "  'valentines',\n",
       "  'infatuation',\n",
       "  'kiss'],\n",
       " ['kissing_face_with_closed_eyes',\n",
       "  'face',\n",
       "  'love',\n",
       "  'like',\n",
       "  'affection',\n",
       "  'valentines',\n",
       "  'infatuation',\n",
       "  'kiss']]"
      ]
     },
     "execution_count": 6,
     "metadata": {},
     "output_type": "execute_result"
    }
   ],
   "source": [
    "[d['_source']['meaning'] for d in results]"
   ]
  },
  {
   "cell_type": "code",
   "execution_count": null,
   "id": "8f5da7cb",
   "metadata": {},
   "outputs": [],
   "source": [
    "# TODO: ES search in emoji database and return \n",
    "# list of corresponding emojis\n",
    "def emoji_search_es(word):\n",
    "    return emoji_list->list\n",
    "    # return a list of emoji searched\n",
    "    # can be UTF-8 encoded or numbered according to order in dataset"
   ]
  },
  {
   "cell_type": "code",
   "execution_count": 34,
   "id": "214dc388",
   "metadata": {},
   "outputs": [],
   "source": [
    "\"\"\"remove stop words,\n",
    "perform a word association based on twitter corpus.\n",
    "perform ES query based on associated words.\n",
    "return: corresponding word and associated emoji as list of tuple.\"\"\"\n",
    "\n",
    "\n",
    "def emoji_search(input_str):\n",
    "    emoji_search_results = []\n",
    "    en_stops = nltk.corpus.stopwords.words(\"english\")\n",
    "    word_list = [x.strip() for x in input_str.split(\" \")]\n",
    "    model = Word2Vec.load('model.bin')\n",
    "    for word in word_list:\n",
    "        emoji_search_temp = []\n",
    "        if word not in en_stops:\n",
    "            # perform association\n",
    "            # perform emoji search\n",
    "            list_of_emoji_original = emoji_search_es([word])\n",
    "            emoji_search_temp = emoji_search_temp + list_of_emoji_original\n",
    "            if not len(list_of_emoji_original):\n",
    "                # if the origial word cannot be found\n",
    "                association_list = model.wv.most_similar(word)\n",
    "                for word_associated in association_list:\n",
    "                # store in list_of_emoji\n",
    "                    list_of_emoji = emoji_search_es(word_associated)\n",
    "                    emoji_search_temp = emoji_search_temp + list_of_emoji\n",
    "        emoji_search_results.append((word, emoji_search_temp))\n",
    "    return emoji_search_results\n",
    "    # TODO: can also based on api to reversedictionary.com\n",
    "    # which gives associated words to noun phrases: \n",
    "    # 1. extract noun phrases with nlp().noun_chunks,2.search\n",
    "    # the phrase up in reversedictionary.com, and\n",
    "    # 3.perform query with ES in emoji dataset with obtained \n",
    "    # set of words."
   ]
  },
  {
   "cell_type": "code",
   "execution_count": null,
   "id": "35d100d5",
   "metadata": {},
   "outputs": [],
   "source": [
    "def emoji_search_alternative(word_lst):\n",
    "    emoji_search_results = []\n",
    "    for word in word_lst:\n",
    "        emoji_search_temp = []\n",
    "            # perform association\n",
    "        association_list = model.wv.most_similar(word)\n",
    "            # perform emoji search\n",
    "        for word_associated in association_list:\n",
    "            # store in list_of_emoji\n",
    "            list_of_emoji = emoji_search_es(word_associated)\n",
    "        # TODO: return word_associated with associated emoji\n",
    "            emoji_search_temp = emoji_search_temp + list_of_emoji\n",
    "        emoji_search_results.append((word, emoji_search_temp))\n",
    "    return emoji_search_results"
   ]
  },
  {
   "cell_type": "code",
   "execution_count": null,
   "id": "c58b8640",
   "metadata": {},
   "outputs": [],
   "source": [
    "\"\"\"The general function that would \n",
    "translate input to sentence with slang&emoji.\n",
    "return&print translated sentence.\n",
    "To be continued.\n",
    "\"\"\"\n",
    "def translation_style(input_str):\n",
    "    # for each of the words perform emoji search first\n",
    "    # if we want the precise results of emoji association,\n",
    "    # it would be best to not perform association based on trivial words\n",
    "    # -> STOP WORD REMOVAL\n",
    "    emoji_list = emoji_search(input_str)\n",
    "    # completely word based so we might just \n",
    "    # append the emoji after words.\n",
    "    # another way is to only perform association \n",
    "    # when you encounter a certain grammartical structure\n",
    "    # for eg noun phrase&verb phrase. \n",
    "    str_doc = nlp(input_str)\n",
    "    word_list = []\n",
    "    for word in str_doc:\n",
    "        if word.pos_ == \"VERB\" or word.pos_ == \"NOUN\" or word.pos_ == \"ADJ\":\n",
    "            word_list.append(word)\n",
    "    emoji_list_alternative = emoji_search_alternative(word_list)\n",
    "    # need to note the order of the words since same word\n",
    "    # can appear multiple times as multiple POS\n",
    "    phrase_list = phrase_extraction(str_doc)\n",
    "    \n",
    "    shingle_lst = multiple_shingle(input_str)\n",
    "    # the problem here is that after translating input\n",
    "    # to slangs the word formulation would differ.\n",
    "    # ->should make sure which part translates to which\n",
    "    abbrev_list = abbreviation_search(shingle_lst)\n",
    "    # search for further slangs with the original sentence\n",
    "    # and if the slang results overlap with the abbreviations\n",
    "    # for eg got 2 slangs for same word\n",
    "    # then use any one with equal probability\n",
    "    slang_list = slang_search(phrase_list)\n",
    "    # TODO: get the results together:\n",
    "    # append the emojis->\n",
    "    # see if the abbrev list clashes with the UD one->\n",
    "    # decide the final list->\n",
    "    # substitute words with slangs\n",
    "    return slang_sentence\n",
    "\n",
    "\n",
    "    \n",
    "    \n",
    "    "
   ]
  },
  {
   "cell_type": "code",
   "execution_count": null,
   "id": "3c690dce",
   "metadata": {},
   "outputs": [],
   "source": []
  }
 ],
 "metadata": {
  "kernelspec": {
   "display_name": "Python 3",
   "language": "python",
   "name": "python3"
  },
  "language_info": {
   "codemirror_mode": {
    "name": "ipython",
    "version": 3
   },
   "file_extension": ".py",
   "mimetype": "text/x-python",
   "name": "python",
   "nbconvert_exporter": "python",
   "pygments_lexer": "ipython3",
   "version": "3.7.7rc1 (v3.7.7rc1:93b7677f9c, Mar  4 2020, 02:47:27) \n[Clang 6.0 (clang-600.0.57)]"
  },
  "vscode": {
   "interpreter": {
    "hash": "aee8b7b246df8f9039afb4144a1f6fd8d2ca17a180786b69acc140d282b71a49"
   }
  }
 },
 "nbformat": 4,
 "nbformat_minor": 5
}
