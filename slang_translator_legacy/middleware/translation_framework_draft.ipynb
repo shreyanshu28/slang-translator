{
 "cells": [
  {
   "cell_type": "code",
   "execution_count": null,
   "id": "a6c388e7",
   "metadata": {},
   "outputs": [],
   "source": [
    "\"\"\"Please keep in mind that this whole document is only\n",
    "to give a general idea of what to implement. \n",
    "These are not functioning codes.\"\"\""
   ]
  },
  {
   "cell_type": "code",
   "execution_count": 1,
   "id": "18d4354c",
   "metadata": {},
   "outputs": [
    {
     "name": "stdout",
     "output_type": "stream",
     "text": [
      "Requirement already satisfied: requests==2.28.1 in /Library/Frameworks/Python.framework/Versions/3.7/lib/python3.7/site-packages (2.28.1)\n",
      "Requirement already satisfied: charset-normalizer<3,>=2 in /Library/Frameworks/Python.framework/Versions/3.7/lib/python3.7/site-packages (from requests==2.28.1) (2.1.1)\n",
      "Requirement already satisfied: idna<4,>=2.5 in /Library/Frameworks/Python.framework/Versions/3.7/lib/python3.7/site-packages (from requests==2.28.1) (3.4)\n",
      "Requirement already satisfied: certifi>=2017.4.17 in /Library/Frameworks/Python.framework/Versions/3.7/lib/python3.7/site-packages (from requests==2.28.1) (2022.9.24)\n",
      "Requirement already satisfied: urllib3<1.27,>=1.21.1 in /Library/Frameworks/Python.framework/Versions/3.7/lib/python3.7/site-packages (from requests==2.28.1) (1.26.13)\n",
      "\u001b[33mWARNING: You are using pip version 19.2.3, however version 22.3.1 is available.\n",
      "You should consider upgrading via the 'pip install --upgrade pip' command.\u001b[0m\n",
      "Note: you may need to restart the kernel to use updated packages.\n"
     ]
    }
   ],
   "source": [
    "%pip install \"requests==2.28.1\""
   ]
  },
  {
   "cell_type": "code",
   "execution_count": null,
   "id": "3d30e923",
   "metadata": {},
   "outputs": [],
   "source": [
    "import sys\n",
    "from urllib.parse import urljoin\n",
    "import requests\n",
    "sys.path.insert(1, '/Users/anureddy/Desktop/Sem01/DataScience_for_text_analytics/Project1/slang-translator/Connection')\n",
    "\n",
    "from elastic_con import client \n",
    "import nltk\n"
   ]
  },
  {
   "cell_type": "code",
   "execution_count": 3,
   "id": "cce41787",
   "metadata": {},
   "outputs": [],
   "source": [
    "import spacy"
   ]
  },
  {
   "cell_type": "code",
   "execution_count": null,
   "id": "f61d564b",
   "metadata": {},
   "outputs": [],
   "source": [
    "from gensim.parsing.preprocessing import remove_stopwords"
   ]
  },
  {
   "cell_type": "code",
   "execution_count": 31,
   "id": "e1acc6e3",
   "metadata": {},
   "outputs": [],
   "source": [
    "#from elasticsearch import Elasticsearch"
   ]
  },
  {
   "cell_type": "code",
   "execution_count": null,
   "id": "f17772a8",
   "metadata": {},
   "outputs": [],
   "source": [
    "#Not required as the connection has been taken care of \n",
    "# # test code for formality. Does not work on my laptop.\n",
    "es_host = \"http://localhost:9200\"\n",
    "es_user = \"elastic\"\n",
    "es_password = \"1234\"\n",
    "\n",
    "es = Elasticsearch(\n",
    "    hosts=es_host,  # \"http://localhost:9200\"\n",
    "    http_auth=(es_user, es_password)   # credentials for basic authentication\n",
    ")"
   ]
  },
  {
   "cell_type": "code",
   "execution_count": 4,
   "id": "438e3dcd",
   "metadata": {},
   "outputs": [],
   "source": [
    "# draft : implementation step\n",
    "######################################\n",
    "# translate regular sentence to slang#\n",
    "######################################\n",
    "\n",
    "input_str = \"I have something to say\""
   ]
  },
  {
   "cell_type": "code",
   "execution_count": 5,
   "id": "4c3f9b18",
   "metadata": {},
   "outputs": [],
   "source": [
    "nlp = spacy.load(\"en_core_web_lg\")"
   ]
  },
  {
   "cell_type": "code",
   "execution_count": 6,
   "id": "af7b81bc",
   "metadata": {},
   "outputs": [],
   "source": [
    "str_doc = nlp(input_str)"
   ]
  },
  {
   "cell_type": "code",
   "execution_count": 9,
   "id": "8d412e76",
   "metadata": {},
   "outputs": [
    {
     "data": {
      "text/plain": [
       "5"
      ]
     },
     "execution_count": 9,
     "metadata": {},
     "output_type": "execute_result"
    }
   ],
   "source": [
    "len(str_doc)"
   ]
  },
  {
   "cell_type": "code",
   "execution_count": 30,
   "id": "3e631bc7",
   "metadata": {},
   "outputs": [
    {
     "name": "stdout",
     "output_type": "stream",
     "text": [
      "I\n",
      "something\n"
     ]
    }
   ],
   "source": [
    "for np in str_doc.noun_chunks:\n",
    "    print(np)\n",
    "# print noun phrases."
   ]
  },
  {
   "cell_type": "code",
   "execution_count": 32,
   "id": "3ea59a7b",
   "metadata": {},
   "outputs": [],
   "source": [
    "\"\"\"To find and return subject of a preprocessed sentence.\"\"\"\n",
    "# I wrote the function based on which one may\n",
    "# omit the subject of a sentence with a possibility. \n",
    "# This is not used now, as I still don't\n",
    "# know how to calculate the weight of such omission.\n",
    "def subject_find(doc):\n",
    "    for token in doc:\n",
    "        if \"subj\" in token.dep_:\n",
    "            subtree = list(token.subtree)\n",
    "            start = subtree[0].i\n",
    "            end = subtree[-1].i + 1\n",
    "            return doc[start:end]"
   ]
  },
  {
   "cell_type": "code",
   "execution_count": 23,
   "id": "42ed3720",
   "metadata": {},
   "outputs": [],
   "source": [
    "# do slang dictionary query with part of the input sentence\n",
    "\"\"\"returns all possible k-word-shingle for the input sentence.\n",
    "form: list, [[1-shingle][2-shingle]...[k-shingle]]\"\"\" \n",
    "def multiple_shingle(doc_str):\n",
    "    doc = doc_str.split(\" \")\n",
    "    shingle_lst=[]\n",
    "    for k in range(0,len(doc)):\n",
    "        shingle_lst_temp = []\n",
    "        for i in range(len(doc)-k):\n",
    "            shingle_lst_temp.append(doc[i:k+i+1])\n",
    "        shingle_lst.append(shingle_lst_temp)\n",
    "    return shingle_lst"
   ]
  },
  {
   "cell_type": "code",
   "execution_count": 24,
   "id": "da4259fb",
   "metadata": {},
   "outputs": [
    {
     "data": {
      "text/plain": [
       "[[['I'], ['have'], ['something'], ['to'], ['say']],\n",
       " [['I', 'have'], ['have', 'something'], ['something', 'to'], ['to', 'say']],\n",
       " [['I', 'have', 'something'],\n",
       "  ['have', 'something', 'to'],\n",
       "  ['something', 'to', 'say']],\n",
       " [['I', 'have', 'something', 'to'], ['have', 'something', 'to', 'say']],\n",
       " [['I', 'have', 'something', 'to', 'say']]]"
      ]
     },
     "execution_count": 24,
     "metadata": {},
     "output_type": "execute_result"
    }
   ],
   "source": [
    "multiple_shingle(input_str)"
   ]
  },
  {
   "cell_type": "code",
   "execution_count": 3,
   "id": "ff39bf51",
   "metadata": {},
   "outputs": [
    {
     "name": "stdout",
     "output_type": "stream",
     "text": [
      "[{'_index': 'slang-demo-json', '_type': '_doc', '_id': '0', '_score': 1.0, '_source': {'id': 0, 'acronym': '2day', 'meaning': 'today'}}, {'_index': 'slang-demo-json', '_type': '_doc', '_id': '1', '_score': 1.0, '_source': {'id': 1, 'acronym': '2m2h', 'meaning': 'too much too handle'}}, {'_index': 'slang-demo-json', '_type': '_doc', '_id': '2', '_score': 1.0, '_source': {'id': 2, 'acronym': '2moro', 'meaning': 'tomorrow'}}, {'_index': 'slang-demo-json', '_type': '_doc', '_id': '3', '_score': 1.0, '_source': {'id': 3, 'acronym': '2nite', 'meaning': 'tonight'}}, {'_index': 'slang-demo-json', '_type': '_doc', '_id': '4', '_score': 1.0, '_source': {'id': 4, 'acronym': '4eae', 'meaning': 'for ever and ever'}}, {'_index': 'slang-demo-json', '_type': '_doc', '_id': '5', '_score': 1.0, '_source': {'id': 5, 'acronym': 'aaf', 'meaning': 'always and forever'}}, {'_index': 'slang-demo-json', '_type': '_doc', '_id': '6', '_score': 1.0, '_source': {'id': 6, 'acronym': 'aar', 'meaning': 'at any rate'}}, {'_index': 'slang-demo-json', '_type': '_doc', '_id': '7', '_score': 1.0, '_source': {'id': 7, 'acronym': 'aayf', 'meaning': 'as always your friend'}}, {'_index': 'slang-demo-json', '_type': '_doc', '_id': '8', '_score': 1.0, '_source': {'id': 8, 'acronym': 'abd', 'meaning': 'already been done'}}, {'_index': 'slang-demo-json', '_type': '_doc', '_id': '9', '_score': 1.0, '_source': {'id': 9, 'acronym': 'ack', 'meaning': 'acknowledge'}}, {'_index': 'slang-demo-json', '_type': '_doc', '_id': '10', '_score': 1.0, '_source': {'id': 10, 'acronym': 'adih', 'meaning': 'another day in hell'}}, {'_index': 'slang-demo-json', '_type': '_doc', '_id': '11', '_score': 1.0, '_source': {'id': 11, 'acronym': 'adn', 'meaning': 'any day now'}}, {'_index': 'slang-demo-json', '_type': '_doc', '_id': '12', '_score': 1.0, '_source': {'id': 12, 'acronym': 'adr', 'meaning': 'all due respect'}}, {'_index': 'slang-demo-json', '_type': '_doc', '_id': '13', '_score': 1.0, '_source': {'id': 13, 'acronym': 'aeap', 'meaning': 'as early as possible'}}, {'_index': 'slang-demo-json', '_type': '_doc', '_id': '14', '_score': 1.0, '_source': {'id': 14, 'acronym': 'afaic', 'meaning': 'as far as i am concerned'}}, {'_index': 'slang-demo-json', '_type': '_doc', '_id': '15', '_score': 1.0, '_source': {'id': 15, 'acronym': 'afaik', 'meaning': 'as far as i know'}}, {'_index': 'slang-demo-json', '_type': '_doc', '_id': '16', '_score': 1.0, '_source': {'id': 16, 'acronym': 'aka', 'meaning': 'also known as'}}, {'_index': 'slang-demo-json', '_type': '_doc', '_id': '17', '_score': 1.0, '_source': {'id': 17, 'acronym': 'ama', 'meaning': 'ask me anything against medical advice'}}, {'_index': 'slang-demo-json', '_type': '_doc', '_id': '18', '_score': 1.0, '_source': {'id': 18, 'acronym': 'ambw', 'meaning': 'all my best wishes'}}, {'_index': 'slang-demo-json', '_type': '_doc', '_id': '19', '_score': 1.0, '_source': {'id': 19, 'acronym': 'aml', 'meaning': 'all my love'}}, {'_index': 'slang-demo-json', '_type': '_doc', '_id': '20', '_score': 1.0, '_source': {'id': 20, 'acronym': 'aota', 'meaning': 'all of the above'}}, {'_index': 'slang-demo-json', '_type': '_doc', '_id': '21', '_score': 1.0, '_source': {'id': 21, 'acronym': 'asap', 'meaning': 'as soon as possible'}}, {'_index': 'slang-demo-json', '_type': '_doc', '_id': '22', '_score': 1.0, '_source': {'id': 22, 'acronym': 'atb', 'meaning': 'all the best'}}, {'_index': 'slang-demo-json', '_type': '_doc', '_id': '23', '_score': 1.0, '_source': {'id': 23, 'acronym': 'ateotd', 'meaning': 'at the end of the day'}}, {'_index': 'slang-demo-json', '_type': '_doc', '_id': '24', '_score': 1.0, '_source': {'id': 24, 'acronym': 'atm', 'meaning': 'at the moment automated teller machine '}}, {'_index': 'slang-demo-json', '_type': '_doc', '_id': '25', '_score': 1.0, '_source': {'id': 25, 'acronym': 'awol', 'meaning': 'absent without leave'}}, {'_index': 'slang-demo-json', '_type': '_doc', '_id': '26', '_score': 1.0, '_source': {'id': 26, 'acronym': 'aydy', 'meaning': 'are you done yet'}}, {'_index': 'slang-demo-json', '_type': '_doc', '_id': '27', '_score': 1.0, '_source': {'id': 27, 'acronym': 'ayec', 'meaning': 'at your earliest convenience'}}, {'_index': 'slang-demo-json', '_type': '_doc', '_id': '28', '_score': 1.0, '_source': {'id': 28, 'acronym': 'ayor', 'meaning': 'at your own risk'}}, {'_index': 'slang-demo-json', '_type': '_doc', '_id': '29', '_score': 1.0, '_source': {'id': 29, 'acronym': 'ays', 'meaning': 'are you serious'}}, {'_index': 'slang-demo-json', '_type': '_doc', '_id': '30', '_score': 1.0, '_source': {'id': 30, 'acronym': 'aysos', 'meaning': 'are you stupid or something'}}, {'_index': 'slang-demo-json', '_type': '_doc', '_id': '31', '_score': 1.0, '_source': {'id': 31, 'acronym': 'ayt', 'meaning': 'are you there'}}, {'_index': 'slang-demo-json', '_type': '_doc', '_id': '32', '_score': 1.0, '_source': {'id': 32, 'acronym': 'b/c', 'meaning': 'because'}}, {'_index': 'slang-demo-json', '_type': '_doc', '_id': '33', '_score': 1.0, '_source': {'id': 33, 'acronym': 'b4', 'meaning': 'before'}}, {'_index': 'slang-demo-json', '_type': '_doc', '_id': '34', '_score': 1.0, '_source': {'id': 34, 'acronym': 'b4n', 'meaning': 'bye for now'}}, {'_index': 'slang-demo-json', '_type': '_doc', '_id': '35', '_score': 1.0, '_source': {'id': 35, 'acronym': 'bau', 'meaning': 'business as usual'}}, {'_index': 'slang-demo-json', '_type': '_doc', '_id': '36', '_score': 1.0, '_source': {'id': 36, 'acronym': 'bbiaf', 'meaning': 'be back in a few'}}, {'_index': 'slang-demo-json', '_type': '_doc', '_id': '37', '_score': 1.0, '_source': {'id': 37, 'acronym': 'bbiam', 'meaning': 'be back in a minute'}}, {'_index': 'slang-demo-json', '_type': '_doc', '_id': '38', '_score': 1.0, '_source': {'id': 38, 'acronym': 'bbias', 'meaning': 'be back in a sec'}}, {'_index': 'slang-demo-json', '_type': '_doc', '_id': '39', '_score': 1.0, '_source': {'id': 39, 'acronym': 'bbs', 'meaning': 'be back soon bulletin board system'}}, {'_index': 'slang-demo-json', '_type': '_doc', '_id': '40', '_score': 1.0, '_source': {'id': 40, 'acronym': 'bbt', 'meaning': 'be back tomorrow'}}, {'_index': 'slang-demo-json', '_type': '_doc', '_id': '41', '_score': 1.0, '_source': {'id': 41, 'acronym': 'bcnu', 'meaning': 'be seeing you'}}, {'_index': 'slang-demo-json', '_type': '_doc', '_id': '42', '_score': 1.0, '_source': {'id': 42, 'acronym': 'bcoy', 'meaning': 'big crush on you'}}, {'_index': 'slang-demo-json', '_type': '_doc', '_id': '43', '_score': 1.0, '_source': {'id': 43, 'acronym': 'bd', 'meaning': 'big deal'}}, {'_index': 'slang-demo-json', '_type': '_doc', '_id': '44', '_score': 1.0, '_source': {'id': 44, 'acronym': 'bf', 'meaning': 'boy friend'}}, {'_index': 'slang-demo-json', '_type': '_doc', '_id': '45', '_score': 1.0, '_source': {'id': 45, 'acronym': 'bfaw', 'meaning': 'best friend at work'}}, {'_index': 'slang-demo-json', '_type': '_doc', '_id': '46', '_score': 1.0, '_source': {'id': 46, 'acronym': 'bfd', 'meaning': 'big freaking deal'}}, {'_index': 'slang-demo-json', '_type': '_doc', '_id': '47', '_score': 1.0, '_source': {'id': 47, 'acronym': 'bff', 'meaning': 'best friends forever'}}, {'_index': 'slang-demo-json', '_type': '_doc', '_id': '48', '_score': 1.0, '_source': {'id': 48, 'acronym': 'bffn', 'meaning': 'best friend for now'}}, {'_index': 'slang-demo-json', '_type': '_doc', '_id': '49', '_score': 1.0, '_source': {'id': 49, 'acronym': 'bfn', 'meaning': 'bye for now'}}, {'_index': 'slang-demo-json', '_type': '_doc', '_id': '50', '_score': 1.0, '_source': {'id': 50, 'acronym': 'bg', 'meaning': 'bad game baby gangster'}}, {'_index': 'slang-demo-json', '_type': '_doc', '_id': '51', '_score': 1.0, '_source': {'id': 51, 'acronym': 'bgwm', 'meaning': 'be gentle with me'}}, {'_index': 'slang-demo-json', '_type': '_doc', '_id': '52', '_score': 1.0, '_source': {'id': 52, 'acronym': 'bhl8', 'meaning': 'be home late'}}, {'_index': 'slang-demo-json', '_type': '_doc', '_id': '53', '_score': 1.0, '_source': {'id': 53, 'acronym': 'bib', 'meaning': 'boss is back'}}, {'_index': 'slang-demo-json', '_type': '_doc', '_id': '54', '_score': 1.0, '_source': {'id': 54, 'acronym': 'bn', 'meaning': 'bad news'}}, {'_index': 'slang-demo-json', '_type': '_doc', '_id': '55', '_score': 1.0, '_source': {'id': 55, 'acronym': 'bol', 'meaning': 'be on later'}}, {'_index': 'slang-demo-json', '_type': '_doc', '_id': '56', '_score': 1.0, '_source': {'id': 56, 'acronym': 'bot', 'meaning': 'back on topic'}}, {'_index': 'slang-demo-json', '_type': '_doc', '_id': '57', '_score': 1.0, '_source': {'id': 57, 'acronym': 'boyf', 'meaning': 'boyfriend'}}, {'_index': 'slang-demo-json', '_type': '_doc', '_id': '58', '_score': 1.0, '_source': {'id': 58, 'acronym': 'brb', 'meaning': 'be right back'}}, {'_index': 'slang-demo-json', '_type': '_doc', '_id': '59', '_score': 1.0, '_source': {'id': 59, 'acronym': 'brh', 'meaning': 'be right here'}}, {'_index': 'slang-demo-json', '_type': '_doc', '_id': '60', '_score': 1.0, '_source': {'id': 60, 'acronym': 'bro', 'meaning': 'brother'}}, {'_index': 'slang-demo-json', '_type': '_doc', '_id': '61', '_score': 1.0, '_source': {'id': 61, 'acronym': 'brt', 'meaning': 'be right there'}}, {'_index': 'slang-demo-json', '_type': '_doc', '_id': '62', '_score': 1.0, '_source': {'id': 62, 'acronym': 'bt', 'meaning': 'but'}}, {'_index': 'slang-demo-json', '_type': '_doc', '_id': '63', '_score': 1.0, '_source': {'id': 63, 'acronym': 'btw', 'meaning': 'by the way'}}, {'_index': 'slang-demo-json', '_type': '_doc', '_id': '64', '_score': 1.0, '_source': {'id': 64, 'acronym': 'byoc', 'meaning': 'bring your own computer'}}, {'_index': 'slang-demo-json', '_type': '_doc', '_id': '65', '_score': 1.0, '_source': {'id': 65, 'acronym': 'cmb', 'meaning': 'call me back'}}, {'_index': 'slang-demo-json', '_type': '_doc', '_id': '66', '_score': 1.0, '_source': {'id': 66, 'acronym': 'cmiiw', 'meaning': 'correct me if i am wrong'}}, {'_index': 'slang-demo-json', '_type': '_doc', '_id': '67', '_score': 1.0, '_source': {'id': 67, 'acronym': 'cob', 'meaning': 'close of business'}}, {'_index': 'slang-demo-json', '_type': '_doc', '_id': '68', '_score': 1.0, '_source': {'id': 68, 'acronym': 'csl', 'meaning': 'cannot stop laughing'}}, {'_index': 'slang-demo-json', '_type': '_doc', '_id': '69', '_score': 1.0, '_source': {'id': 69, 'acronym': 'cu', 'meaning': 'see you'}}, {'_index': 'slang-demo-json', '_type': '_doc', '_id': '70', '_score': 1.0, '_source': {'id': 70, 'acronym': 'cua', 'meaning': 'see you around'}}, {'_index': 'slang-demo-json', '_type': '_doc', '_id': '71', '_score': 1.0, '_source': {'id': 71, 'acronym': 'cul', 'meaning': 'see you later'}}, {'_index': 'slang-demo-json', '_type': '_doc', '_id': '72', '_score': 1.0, '_source': {'id': 72, 'acronym': 'cwyl', 'meaning': 'chat with you later'}}, {'_index': 'slang-demo-json', '_type': '_doc', '_id': '73', '_score': 1.0, '_source': {'id': 73, 'acronym': 'cya', 'meaning': 'cover your ass'}}, {'_index': 'slang-demo-json', '_type': '_doc', '_id': '74', '_score': 1.0, '_source': {'id': 74, 'acronym': 'cye', 'meaning': 'check your email'}}, {'_index': 'slang-demo-json', '_type': '_doc', '_id': '75', '_score': 1.0, '_source': {'id': 75, 'acronym': 'cyo', 'meaning': 'see you online'}}, {'_index': 'slang-demo-json', '_type': '_doc', '_id': '76', '_score': 1.0, '_source': {'id': 76, 'acronym': 'dkdc', 'meaning': 'do not know do not care'}}, {'_index': 'slang-demo-json', '_type': '_doc', '_id': '77', '_score': 1.0, '_source': {'id': 77, 'acronym': 'dm', 'meaning': 'do not mind does not matter direct message'}}, {'_index': 'slang-demo-json', '_type': '_doc', '_id': '78', '_score': 1.0, '_source': {'id': 78, 'acronym': 'dts', 'meaning': 'down the shore down to snuggle'}}, {'_index': 'slang-demo-json', '_type': '_doc', '_id': '79', '_score': 1.0, '_source': {'id': 79, 'acronym': 'dur', 'meaning': 'do you remember'}}, {'_index': 'slang-demo-json', '_type': '_doc', '_id': '80', '_score': 1.0, '_source': {'id': 80, 'acronym': 'dwbh', 'meaning': 'do not worry be happy'}}, {'_index': 'slang-demo-json', '_type': '_doc', '_id': '81', '_score': 1.0, '_source': {'id': 81, 'acronym': 'e1', 'meaning': 'everyone'}}, {'_index': 'slang-demo-json', '_type': '_doc', '_id': '82', '_score': 1.0, '_source': {'id': 82, 'acronym': 'ef4t', 'meaning': 'effort'}}, {'_index': 'slang-demo-json', '_type': '_doc', '_id': '83', '_score': 1.0, '_source': {'id': 83, 'acronym': 'eod', 'meaning': 'end of discussion'}}, {'_index': 'slang-demo-json', '_type': '_doc', '_id': '84', '_score': 1.0, '_source': {'id': 84, 'acronym': 'f2f', 'meaning': 'face to face'}}, {'_index': 'slang-demo-json', '_type': '_doc', '_id': '85', '_score': 1.0, '_source': {'id': 85, 'acronym': 'ftf', 'meaning': 'face to face'}}, {'_index': 'slang-demo-json', '_type': '_doc', '_id': '86', '_score': 1.0, '_source': {'id': 86, 'acronym': 'faq', 'meaning': 'frequently asked questions'}}, {'_index': 'slang-demo-json', '_type': '_doc', '_id': '87', '_score': 1.0, '_source': {'id': 87, 'acronym': 'fb', 'meaning': 'facebook'}}, {'_index': 'slang-demo-json', '_type': '_doc', '_id': '88', '_score': 1.0, '_source': {'id': 88, 'acronym': 'ff', 'meaning': 'follow friday'}}, {'_index': 'slang-demo-json', '_type': '_doc', '_id': '89', '_score': 1.0, '_source': {'id': 89, 'acronym': 'fish', 'meaning': 'first in still here'}}, {'_index': 'slang-demo-json', '_type': '_doc', '_id': '90', '_score': 1.0, '_source': {'id': 90, 'acronym': 'fitb', 'meaning': 'fill in the blank'}}, {'_index': 'slang-demo-json', '_type': '_doc', '_id': '91', '_score': 1.0, '_source': {'id': 91, 'acronym': 'ftbomh', 'meaning': 'from the bottom of my heart'}}, {'_index': 'slang-demo-json', '_type': '_doc', '_id': '92', '_score': 1.0, '_source': {'id': 92, 'acronym': 'ftl', 'meaning': 'for the loss'}}, {'_index': 'slang-demo-json', '_type': '_doc', '_id': '93', '_score': 1.0, '_source': {'id': 93, 'acronym': 'ftw', 'meaning': 'for the win'}}, {'_index': 'slang-demo-json', '_type': '_doc', '_id': '94', '_score': 1.0, '_source': {'id': 94, 'acronym': 'fwb', 'meaning': 'friend with benefits'}}, {'_index': 'slang-demo-json', '_type': '_doc', '_id': '95', '_score': 1.0, '_source': {'id': 95, 'acronym': 'fwiw', 'meaning': 'for what it is worth'}}, {'_index': 'slang-demo-json', '_type': '_doc', '_id': '96', '_score': 1.0, '_source': {'id': 96, 'acronym': 'fyeo', 'meaning': 'for your eyes only'}}, {'_index': 'slang-demo-json', '_type': '_doc', '_id': '97', '_score': 1.0, '_source': {'id': 97, 'acronym': 'fyi', 'meaning': 'for your information'}}, {'_index': 'slang-demo-json', '_type': '_doc', '_id': '98', '_score': 1.0, '_source': {'id': 98, 'acronym': 'g4c', 'meaning': 'going for coffee'}}, {'_index': 'slang-demo-json', '_type': '_doc', '_id': '99', '_score': 1.0, '_source': {'id': 99, 'acronym': 'ga', 'meaning': 'go ahead'}}]\n"
     ]
    },
    {
     "name": "stderr",
     "output_type": "stream",
     "text": [
      "/Users/anureddy/Library/Python/3.7/lib/python/site-packages/ipykernel_launcher.py:3: DeprecationWarning: The 'body' parameter is deprecated for the 'search' API and will be removed in a future version. Instead use API parameters directly. See https://github.com/elastic/elasticsearch-py/issues/1698 for more information\n",
      "  This is separate from the ipykernel package so we can avoid doing imports until\n",
      "/Library/Frameworks/Python.framework/Versions/3.7/lib/python3.7/site-packages/elasticsearch/connection/base.py:200: ElasticsearchWarning: Elasticsearch built-in security features are not enabled. Without authentication, your cluster could be accessible to anyone. See https://www.elastic.co/guide/en/elasticsearch/reference/7.17/security-minimal-setup.html to enable security.\n",
      "  warnings.warn(message, category=ElasticsearchWarning)\n"
     ]
    }
   ],
   "source": [
    "# ES search query to fetch all the data \n",
    "index_name = \"slang-demo-json\"\n",
    "request = '''{\"query\": {\"match_all\": {}}}'''\n",
    "results = client.search(index=index_name, body=request,size = 100)['hits']['hits']\n",
    "print(results)"
   ]
  },
  {
   "cell_type": "code",
   "execution_count": 5,
   "id": "b01860e0",
   "metadata": {},
   "outputs": [
    {
     "name": "stdout",
     "output_type": "stream",
     "text": [
      "[{'_index': 'slang-demo-json', '_type': '_doc', '_id': '0', '_score': 7.682827, '_source': {'id': 0, 'acronym': '2day', 'meaning': 'today'}}]\n"
     ]
    },
    {
     "name": "stderr",
     "output_type": "stream",
     "text": [
      "/Users/anureddy/Library/Python/3.7/lib/python/site-packages/ipykernel_launcher.py:2: DeprecationWarning: The 'body' parameter is deprecated for the 'search' API and will be removed in a future version. Instead use API parameters directly. See https://github.com/elastic/elasticsearch-py/issues/1698 for more information\n",
      "  \n"
     ]
    }
   ],
   "source": [
    "request = '''{\"query\": {\"match\": { \"acronym\":\"2day\"}}}'''\n",
    "results = client.search(index=index_name, body=request,size = 100)['hits']['hits']\n",
    "print(results)"
   ]
  },
  {
   "cell_type": "code",
   "execution_count": null,
   "id": "9a9b5f08",
   "metadata": {},
   "outputs": [],
   "source": [
    "\"\"\"search in slang database based on shingles,\n",
    "return slang and the corresponding shingle.\n",
    "NOTE: not finished. \"\"\"\n",
    "def slang_search(shingle_lst):\n",
    "    lst_search_result = []\n",
    "    for i in range(len(shingle_lst)):\n",
    "        list_temp = shingle_lst[i]\n",
    "        for j in range(len(list_temp)):\n",
    "            search_result = client.search(index=index_name,query={\"match\": {\n",
    "                              \"expansion\": list_temp[j]}})\n",
    "            # TODO: make it a fuzzy search\n",
    "            if search_result[\"hits\"][\"hits\"]:\n",
    "                for hit in search_result[\"hits\"][\"hits\"]:\n",
    "                    lst_search_result.append((list_temp[j],hit[\"abbreviation\"]))\n",
    "    return lst_search_result"
   ]
  },
  {
   "cell_type": "code",
   "execution_count": 4,
   "id": "376ef408",
   "metadata": {},
   "outputs": [
    {
     "name": "stdout",
     "output_type": "stream",
     "text": [
      "[{'_index': 'emo31', '_type': 'emojis', '_id': 'nr2sFYUBDqVhmJIZoIO7', '_score': 1.0, '_source': {'index': {'_index': 'emo31'}}}, {'_index': 'emo31', '_type': 'emojis', '_id': 'n72sFYUBDqVhmJIZoIO7', '_score': 1.0, '_source': {'id': 0, 'emoji': '😀', 'meaning': ['grinning_face', 'face', 'smile', 'happy', 'joy', ':D', 'grin']}}, {'_index': 'emo31', '_type': 'emojis', '_id': 'oL2sFYUBDqVhmJIZoIO7', '_score': 1.0, '_source': {'index': {'_index': 'emo31'}}}, {'_index': 'emo31', '_type': 'emojis', '_id': 'ob2sFYUBDqVhmJIZoIO7', '_score': 1.0, '_source': {'id': 1, 'emoji': '😃', 'meaning': ['grinning_face_with_big_eyes', 'face', 'happy', 'joy', 'haha', ':D', ':)', 'smile', 'funny']}}, {'_index': 'emo31', '_type': 'emojis', '_id': 'or2sFYUBDqVhmJIZoIO7', '_score': 1.0, '_source': {'index': {'_index': 'emo31'}}}, {'_index': 'emo31', '_type': 'emojis', '_id': 'o72sFYUBDqVhmJIZoIO7', '_score': 1.0, '_source': {'id': 2, 'emoji': '😄', 'meaning': ['grinning_face_with_smiling_eyes', 'face', 'happy', 'joy', 'funny', 'haha', 'laugh', 'like', ':D', ':)', 'smile']}}, {'_index': 'emo31', '_type': 'emojis', '_id': 'pL2sFYUBDqVhmJIZoIO7', '_score': 1.0, '_source': {'index': {'_index': 'emo31'}}}, {'_index': 'emo31', '_type': 'emojis', '_id': 'pb2sFYUBDqVhmJIZoIO7', '_score': 1.0, '_source': {'id': 3, 'emoji': '😁', 'meaning': ['beaming_face_with_smiling_eyes', 'face', 'happy', 'smile', 'joy', 'kawaii']}}, {'_index': 'emo31', '_type': 'emojis', '_id': 'pr2sFYUBDqVhmJIZoIO7', '_score': 1.0, '_source': {'index': {'_index': 'emo31'}}}, {'_index': 'emo31', '_type': 'emojis', '_id': 'p72sFYUBDqVhmJIZoIO7', '_score': 1.0, '_source': {'id': 4, 'emoji': '😆', 'meaning': ['grinning_squinting_face', 'happy', 'joy', 'lol', 'satisfied', 'haha', 'face', 'glad', 'XD', 'laugh']}}, {'_index': 'emo31', '_type': 'emojis', '_id': 'qL2sFYUBDqVhmJIZoIO7', '_score': 1.0, '_source': {'index': {'_index': 'emo31'}}}, {'_index': 'emo31', '_type': 'emojis', '_id': 'qb2sFYUBDqVhmJIZoIO7', '_score': 1.0, '_source': {'id': 5, 'emoji': '😅', 'meaning': ['grinning_face_with_sweat', 'face', 'hot', 'happy', 'laugh', 'sweat', 'smile', 'relief']}}, {'_index': 'emo31', '_type': 'emojis', '_id': 'qr2sFYUBDqVhmJIZoIO7', '_score': 1.0, '_source': {'index': {'_index': 'emo31'}}}, {'_index': 'emo31', '_type': 'emojis', '_id': 'q72sFYUBDqVhmJIZoIO7', '_score': 1.0, '_source': {'id': 6, 'emoji': '🤣', 'meaning': ['rolling_on_the_floor_laughing', 'face', 'rolling', 'floor', 'laughing', 'lol', 'haha', 'rofl']}}, {'_index': 'emo31', '_type': 'emojis', '_id': 'rL2sFYUBDqVhmJIZoIO7', '_score': 1.0, '_source': {'index': {'_index': 'emo31'}}}, {'_index': 'emo31', '_type': 'emojis', '_id': 'rb2sFYUBDqVhmJIZoIO7', '_score': 1.0, '_source': {'id': 7, 'emoji': '😂', 'meaning': ['face_with_tears_of_joy', 'face', 'cry', 'tears', 'weep', 'happy', 'happytears', 'haha']}}, {'_index': 'emo31', '_type': 'emojis', '_id': 'rr2sFYUBDqVhmJIZoIO7', '_score': 1.0, '_source': {'index': {'_index': 'emo31'}}}, {'_index': 'emo31', '_type': 'emojis', '_id': 'r72sFYUBDqVhmJIZoIO7', '_score': 1.0, '_source': {'id': 8, 'emoji': '🙂', 'meaning': ['slightly_smiling_face', 'face', 'smile']}}, {'_index': 'emo31', '_type': 'emojis', '_id': 'sL2sFYUBDqVhmJIZoIO7', '_score': 1.0, '_source': {'index': {'_index': 'emo31'}}}, {'_index': 'emo31', '_type': 'emojis', '_id': 'sb2sFYUBDqVhmJIZoIO7', '_score': 1.0, '_source': {'id': 9, 'emoji': '🙃', 'meaning': ['upside_down_face', 'face', 'flipped', 'silly', 'smile']}}, {'_index': 'emo31', '_type': 'emojis', '_id': 'sr2sFYUBDqVhmJIZoIO7', '_score': 1.0, '_source': {'index': {'_index': 'emo31'}}}, {'_index': 'emo31', '_type': 'emojis', '_id': 's72sFYUBDqVhmJIZoIO7', '_score': 1.0, '_source': {'id': 10, 'emoji': '😉', 'meaning': ['winking_face', 'face', 'happy', 'mischievous', 'secret', ';)', 'smile', 'eye']}}, {'_index': 'emo31', '_type': 'emojis', '_id': 'tL2sFYUBDqVhmJIZoIO7', '_score': 1.0, '_source': {'index': {'_index': 'emo31'}}}, {'_index': 'emo31', '_type': 'emojis', '_id': 'tb2sFYUBDqVhmJIZoIO7', '_score': 1.0, '_source': {'id': 11, 'emoji': '😊', 'meaning': ['smiling_face_with_smiling_eyes', 'face', 'smile', 'happy', 'flushed', 'crush', 'embarrassed', 'shy', 'joy']}}, {'_index': 'emo31', '_type': 'emojis', '_id': 'tr2sFYUBDqVhmJIZoIO7', '_score': 1.0, '_source': {'index': {'_index': 'emo31'}}}, {'_index': 'emo31', '_type': 'emojis', '_id': 't72sFYUBDqVhmJIZoIO7', '_score': 1.0, '_source': {'id': 12, 'emoji': '😇', 'meaning': ['smiling_face_with_halo', 'face', 'angel', 'heaven', 'halo', 'innocent']}}, {'_index': 'emo31', '_type': 'emojis', '_id': 'uL2sFYUBDqVhmJIZoIO7', '_score': 1.0, '_source': {'index': {'_index': 'emo31'}}}, {'_index': 'emo31', '_type': 'emojis', '_id': 'ub2sFYUBDqVhmJIZoIO7', '_score': 1.0, '_source': {'id': 13, 'emoji': '🥰', 'meaning': ['smiling_face_with_hearts', 'face', 'love', 'like', 'affection', 'valentines', 'infatuation', 'crush', 'hearts', 'adore']}}, {'_index': 'emo31', '_type': 'emojis', '_id': 'ur2sFYUBDqVhmJIZoIO7', '_score': 1.0, '_source': {'index': {'_index': 'emo31'}}}, {'_index': 'emo31', '_type': 'emojis', '_id': 'u72sFYUBDqVhmJIZoIO7', '_score': 1.0, '_source': {'id': 14, 'emoji': '😍', 'meaning': ['smiling_face_with_heart_eyes', 'face', 'love', 'like', 'affection', 'valentines', 'infatuation', 'crush', 'heart']}}, {'_index': 'emo31', '_type': 'emojis', '_id': 'vL2sFYUBDqVhmJIZoIO7', '_score': 1.0, '_source': {'index': {'_index': 'emo31'}}}, {'_index': 'emo31', '_type': 'emojis', '_id': 'vb2sFYUBDqVhmJIZoIO7', '_score': 1.0, '_source': {'id': 15, 'emoji': '🤩', 'meaning': ['star_struck', 'face', 'smile', 'starry', 'eyes', 'grinning']}}, {'_index': 'emo31', '_type': 'emojis', '_id': 'vr2sFYUBDqVhmJIZoIO7', '_score': 1.0, '_source': {'index': {'_index': 'emo31'}}}, {'_index': 'emo31', '_type': 'emojis', '_id': 'v72sFYUBDqVhmJIZoIO7', '_score': 1.0, '_source': {'id': 16, 'emoji': '😘', 'meaning': ['face_blowing_a_kiss', 'face', 'love', 'like', 'affection', 'valentines', 'infatuation', 'kiss']}}, {'_index': 'emo31', '_type': 'emojis', '_id': 'wL2sFYUBDqVhmJIZoIO7', '_score': 1.0, '_source': {'index': {'_index': 'emo31'}}}, {'_index': 'emo31', '_type': 'emojis', '_id': 'wb2sFYUBDqVhmJIZoIO7', '_score': 1.0, '_source': {'id': 17, 'emoji': '😗', 'meaning': ['kissing_face', 'love', 'like', 'face', '3', 'valentines', 'infatuation', 'kiss']}}, {'_index': 'emo31', '_type': 'emojis', '_id': 'wr2sFYUBDqVhmJIZoIO7', '_score': 1.0, '_source': {'index': {'_index': 'emo31'}}}, {'_index': 'emo31', '_type': 'emojis', '_id': 'w72sFYUBDqVhmJIZoIO7', '_score': 1.0, '_source': {'id': 18, 'emoji': '☺️', 'meaning': ['smiling_face', 'face', 'blush', 'massage', 'happiness']}}, {'_index': 'emo31', '_type': 'emojis', '_id': 'xL2sFYUBDqVhmJIZoIO7', '_score': 1.0, '_source': {'index': {'_index': 'emo31'}}}, {'_index': 'emo31', '_type': 'emojis', '_id': 'xb2sFYUBDqVhmJIZoIO7', '_score': 1.0, '_source': {'id': 19, 'emoji': '😚', 'meaning': ['kissing_face_with_closed_eyes', 'face', 'love', 'like', 'affection', 'valentines', 'infatuation', 'kiss']}}, {'_index': 'emo31', '_type': 'emojis', '_id': 'xr2sFYUBDqVhmJIZoIO7', '_score': 1.0, '_source': {'index': {'_index': 'emo31'}}}, {'_index': 'emo31', '_type': 'emojis', '_id': 'x72sFYUBDqVhmJIZoIO7', '_score': 1.0, '_source': {'id': 20, 'emoji': '😙', 'meaning': ['kissing_face_with_smiling_eyes', 'face', 'affection', 'valentines', 'infatuation', 'kiss']}}, {'_index': 'emo31', '_type': 'emojis', '_id': 'yL2sFYUBDqVhmJIZoIO7', '_score': 1.0, '_source': {'index': {'_index': 'emo31'}}}, {'_index': 'emo31', '_type': 'emojis', '_id': 'yb2sFYUBDqVhmJIZoIO7', '_score': 1.0, '_source': {'id': 21, 'emoji': '😋', 'meaning': ['face_savoring_food', 'happy', 'joy', 'tongue', 'smile', 'face', 'silly', 'yummy', 'nom', 'delicious', 'savouring']}}, {'_index': 'emo31', '_type': 'emojis', '_id': 'yr2sFYUBDqVhmJIZoIO7', '_score': 1.0, '_source': {'index': {'_index': 'emo31'}}}, {'_index': 'emo31', '_type': 'emojis', '_id': 'y72sFYUBDqVhmJIZoIO7', '_score': 1.0, '_source': {'id': 22, 'emoji': '😛', 'meaning': ['face_with_tongue', 'face', 'prank', 'childish', 'playful', 'mischievous', 'smile', 'tongue']}}, {'_index': 'emo31', '_type': 'emojis', '_id': 'zL2sFYUBDqVhmJIZoIO7', '_score': 1.0, '_source': {'index': {'_index': 'emo31'}}}, {'_index': 'emo31', '_type': 'emojis', '_id': 'zb2sFYUBDqVhmJIZoIO7', '_score': 1.0, '_source': {'id': 23, 'emoji': '😜', 'meaning': ['winking_face_with_tongue', 'face', 'prank', 'childish', 'playful', 'mischievous', 'smile', 'wink', 'tongue']}}, {'_index': 'emo31', '_type': 'emojis', '_id': 'zr2sFYUBDqVhmJIZoIO7', '_score': 1.0, '_source': {'index': {'_index': 'emo31'}}}, {'_index': 'emo31', '_type': 'emojis', '_id': 'z72sFYUBDqVhmJIZoIO7', '_score': 1.0, '_source': {'id': 24, 'emoji': '🤪', 'meaning': ['zany_face', 'face', 'goofy', 'crazy']}}, {'_index': 'emo31', '_type': 'emojis', '_id': '0L2sFYUBDqVhmJIZoIO7', '_score': 1.0, '_source': {'index': {'_index': 'emo31'}}}, {'_index': 'emo31', '_type': 'emojis', '_id': '0b2sFYUBDqVhmJIZoIO7', '_score': 1.0, '_source': {'id': 25, 'emoji': '😝', 'meaning': ['squinting_face_with_tongue', 'face', 'prank', 'playful', 'mischievous', 'smile', 'tongue']}}, {'_index': 'emo31', '_type': 'emojis', '_id': '0r2sFYUBDqVhmJIZoIO7', '_score': 1.0, '_source': {'index': {'_index': 'emo31'}}}, {'_index': 'emo31', '_type': 'emojis', '_id': '072sFYUBDqVhmJIZoIO7', '_score': 1.0, '_source': {'id': 26, 'emoji': '🤑', 'meaning': ['money_mouth_face', 'face', 'rich', 'dollar', 'money']}}, {'_index': 'emo31', '_type': 'emojis', '_id': '1L2sFYUBDqVhmJIZoIO7', '_score': 1.0, '_source': {'index': {'_index': 'emo31'}}}, {'_index': 'emo31', '_type': 'emojis', '_id': '1b2sFYUBDqVhmJIZoIO7', '_score': 1.0, '_source': {'id': 27, 'emoji': '🤗', 'meaning': ['hugging_face', 'face', 'smile', 'hug']}}, {'_index': 'emo31', '_type': 'emojis', '_id': '1r2sFYUBDqVhmJIZoIO7', '_score': 1.0, '_source': {'index': {'_index': 'emo31'}}}, {'_index': 'emo31', '_type': 'emojis', '_id': '172sFYUBDqVhmJIZoIO7', '_score': 1.0, '_source': {'id': 28, 'emoji': '🤭', 'meaning': ['face_with_hand_over_mouth', 'face', 'whoops', 'shock', 'surprise']}}, {'_index': 'emo31', '_type': 'emojis', '_id': '2L2sFYUBDqVhmJIZoIO7', '_score': 1.0, '_source': {'index': {'_index': 'emo31'}}}, {'_index': 'emo31', '_type': 'emojis', '_id': '2b2sFYUBDqVhmJIZoIO7', '_score': 1.0, '_source': {'id': 29, 'emoji': '🤫', 'meaning': ['shushing_face', 'face', 'quiet', 'shhh']}}, {'_index': 'emo31', '_type': 'emojis', '_id': '2r2sFYUBDqVhmJIZoIO7', '_score': 1.0, '_source': {'index': {'_index': 'emo31'}}}, {'_index': 'emo31', '_type': 'emojis', '_id': '272sFYUBDqVhmJIZoIO7', '_score': 1.0, '_source': {'id': 30, 'emoji': '🤔', 'meaning': ['thinking_face', 'face', 'hmmm', 'think', 'consider']}}, {'_index': 'emo31', '_type': 'emojis', '_id': '3L2sFYUBDqVhmJIZoIO7', '_score': 1.0, '_source': {'index': {'_index': 'emo31'}}}, {'_index': 'emo31', '_type': 'emojis', '_id': '3b2sFYUBDqVhmJIZoIO7', '_score': 1.0, '_source': {'id': 31, 'emoji': '🤐', 'meaning': ['zipper_mouth_face', 'face', 'sealed', 'zipper', 'secret']}}, {'_index': 'emo31', '_type': 'emojis', '_id': '3r2sFYUBDqVhmJIZoIO7', '_score': 1.0, '_source': {'index': {'_index': 'emo31'}}}, {'_index': 'emo31', '_type': 'emojis', '_id': '372sFYUBDqVhmJIZoIO7', '_score': 1.0, '_source': {'id': 32, 'emoji': '🤨', 'meaning': ['face_with_raised_eyebrow', 'face', 'distrust', 'scepticism', 'disapproval', 'disbelief', 'surprise']}}, {'_index': 'emo31', '_type': 'emojis', '_id': '4L2sFYUBDqVhmJIZoIO7', '_score': 1.0, '_source': {'index': {'_index': 'emo31'}}}, {'_index': 'emo31', '_type': 'emojis', '_id': '4b2sFYUBDqVhmJIZoIO7', '_score': 1.0, '_source': {'id': 33, 'emoji': '😐', 'meaning': ['neutral_face', 'indifference', 'meh', ':|', 'neutral']}}, {'_index': 'emo31', '_type': 'emojis', '_id': '4r2sFYUBDqVhmJIZoIO7', '_score': 1.0, '_source': {'index': {'_index': 'emo31'}}}, {'_index': 'emo31', '_type': 'emojis', '_id': '472sFYUBDqVhmJIZoIO7', '_score': 1.0, '_source': {'id': 34, 'emoji': '😑', 'meaning': ['expressionless_face', 'face', 'indifferent', '-_-', 'meh', 'deadpan']}}, {'_index': 'emo31', '_type': 'emojis', '_id': '5L2sFYUBDqVhmJIZoIO7', '_score': 1.0, '_source': {'index': {'_index': 'emo31'}}}, {'_index': 'emo31', '_type': 'emojis', '_id': '5b2sFYUBDqVhmJIZoIO7', '_score': 1.0, '_source': {'id': 35, 'emoji': '😶', 'meaning': ['face_without_mouth', 'face', 'hellokitty']}}, {'_index': 'emo31', '_type': 'emojis', '_id': '5r2sFYUBDqVhmJIZoIO7', '_score': 1.0, '_source': {'index': {'_index': 'emo31'}}}, {'_index': 'emo31', '_type': 'emojis', '_id': '572sFYUBDqVhmJIZoIO7', '_score': 1.0, '_source': {'id': 36, 'emoji': '😏', 'meaning': ['smirking_face', 'face', 'smile', 'mean', 'prank', 'smug', 'sarcasm']}}, {'_index': 'emo31', '_type': 'emojis', '_id': '6L2sFYUBDqVhmJIZoIO7', '_score': 1.0, '_source': {'index': {'_index': 'emo31'}}}, {'_index': 'emo31', '_type': 'emojis', '_id': '6b2sFYUBDqVhmJIZoIO7', '_score': 1.0, '_source': {'id': 37, 'emoji': '😒', 'meaning': ['unamused_face', 'indifference', 'bored', 'straight face', 'serious', 'sarcasm', 'unimpressed', 'skeptical', 'dubious', 'side_eye']}}, {'_index': 'emo31', '_type': 'emojis', '_id': '6r2sFYUBDqVhmJIZoIO7', '_score': 1.0, '_source': {'index': {'_index': 'emo31'}}}, {'_index': 'emo31', '_type': 'emojis', '_id': '672sFYUBDqVhmJIZoIO7', '_score': 1.0, '_source': {'id': 38, 'emoji': '🙄', 'meaning': ['face_with_rolling_eyes', 'face', 'eyeroll', 'frustrated']}}, {'_index': 'emo31', '_type': 'emojis', '_id': '7L2sFYUBDqVhmJIZoIO7', '_score': 1.0, '_source': {'index': {'_index': 'emo31'}}}, {'_index': 'emo31', '_type': 'emojis', '_id': '7b2sFYUBDqVhmJIZoIO7', '_score': 1.0, '_source': {'id': 39, 'emoji': '😬', 'meaning': ['grimacing_face', 'face', 'grimace', 'teeth']}}, {'_index': 'emo31', '_type': 'emojis', '_id': '7r2sFYUBDqVhmJIZoIO7', '_score': 1.0, '_source': {'index': {'_index': 'emo31'}}}, {'_index': 'emo31', '_type': 'emojis', '_id': '772sFYUBDqVhmJIZoIO7', '_score': 1.0, '_source': {'id': 40, 'emoji': '🤥', 'meaning': ['lying_face', 'face', 'lie', 'pinocchio']}}, {'_index': 'emo31', '_type': 'emojis', '_id': '8L2sFYUBDqVhmJIZoIO7', '_score': 1.0, '_source': {'index': {'_index': 'emo31'}}}, {'_index': 'emo31', '_type': 'emojis', '_id': '8b2sFYUBDqVhmJIZoIO7', '_score': 1.0, '_source': {'id': 41, 'emoji': '😌', 'meaning': ['relieved_face', 'face', 'relaxed', 'phew', 'massage', 'happiness']}}, {'_index': 'emo31', '_type': 'emojis', '_id': '8r2sFYUBDqVhmJIZoIO7', '_score': 1.0, '_source': {'index': {'_index': 'emo31'}}}, {'_index': 'emo31', '_type': 'emojis', '_id': '872sFYUBDqVhmJIZoIO7', '_score': 1.0, '_source': {'id': 42, 'emoji': '😔', 'meaning': ['pensive_face', 'face', 'sad', 'depressed', 'upset']}}, {'_index': 'emo31', '_type': 'emojis', '_id': '9L2sFYUBDqVhmJIZoIO7', '_score': 1.0, '_source': {'index': {'_index': 'emo31'}}}, {'_index': 'emo31', '_type': 'emojis', '_id': '9b2sFYUBDqVhmJIZoIO7', '_score': 1.0, '_source': {'id': 43, 'emoji': '😪', 'meaning': ['sleepy_face', 'face', 'tired', 'rest', 'nap']}}, {'_index': 'emo31', '_type': 'emojis', '_id': '9r2sFYUBDqVhmJIZoIO7', '_score': 1.0, '_source': {'index': {'_index': 'emo31'}}}, {'_index': 'emo31', '_type': 'emojis', '_id': '972sFYUBDqVhmJIZoIO7', '_score': 1.0, '_source': {'id': 44, 'emoji': '🤤', 'meaning': ['drooling_face', 'face']}}, {'_index': 'emo31', '_type': 'emojis', '_id': '-L2sFYUBDqVhmJIZoIO7', '_score': 1.0, '_source': {'index': {'_index': 'emo31'}}}, {'_index': 'emo31', '_type': 'emojis', '_id': '-b2sFYUBDqVhmJIZoIO7', '_score': 1.0, '_source': {'id': 45, 'emoji': '😴', 'meaning': ['sleeping_face', 'face', 'tired', 'sleepy', 'night', 'zzz']}}, {'_index': 'emo31', '_type': 'emojis', '_id': '-r2sFYUBDqVhmJIZoIO7', '_score': 1.0, '_source': {'index': {'_index': 'emo31'}}}, {'_index': 'emo31', '_type': 'emojis', '_id': '-72sFYUBDqVhmJIZoIO7', '_score': 1.0, '_source': {'id': 46, 'emoji': '😷', 'meaning': ['face_with_medical_mask', 'face', 'sick', 'ill', 'disease', 'covid']}}, {'_index': 'emo31', '_type': 'emojis', '_id': '_L2sFYUBDqVhmJIZoIO7', '_score': 1.0, '_source': {'index': {'_index': 'emo31'}}}, {'_index': 'emo31', '_type': 'emojis', '_id': '_b2sFYUBDqVhmJIZoIO7', '_score': 1.0, '_source': {'id': 47, 'emoji': '🤒', 'meaning': ['face_with_thermometer', 'sick', 'temperature', 'thermometer', 'cold', 'fever', 'covid']}}, {'_index': 'emo31', '_type': 'emojis', '_id': '_r2sFYUBDqVhmJIZoIO7', '_score': 1.0, '_source': {'index': {'_index': 'emo31'}}}, {'_index': 'emo31', '_type': 'emojis', '_id': '_72sFYUBDqVhmJIZoIO7', '_score': 1.0, '_source': {'id': 48, 'emoji': '🤕', 'meaning': ['face_with_head_bandage', 'injured', 'clumsy', 'bandage', 'hurt']}}, {'_index': 'emo31', '_type': 'emojis', '_id': 'AL2sFYUBDqVhmJIZoIS7', '_score': 1.0, '_source': {'index': {'_index': 'emo31'}}}, {'_index': 'emo31', '_type': 'emojis', '_id': 'Ab2sFYUBDqVhmJIZoIS7', '_score': 1.0, '_source': {'id': 49, 'emoji': '🤢', 'meaning': ['nauseated_face', 'face', 'vomit', 'gross', 'green', 'sick', 'throw up', 'ill']}}]\n"
     ]
    },
    {
     "name": "stderr",
     "output_type": "stream",
     "text": [
      "/Users/anureddy/Library/Python/3.7/lib/python/site-packages/ipykernel_launcher.py:3: DeprecationWarning: The 'body' parameter is deprecated for the 'search' API and will be removed in a future version. Instead use API parameters directly. See https://github.com/elastic/elasticsearch-py/issues/1698 for more information\n",
      "  This is separate from the ipykernel package so we can avoid doing imports until\n",
      "/Library/Frameworks/Python.framework/Versions/3.7/lib/python3.7/site-packages/elasticsearch/connection/base.py:200: ElasticsearchWarning: Elasticsearch built-in security features are not enabled. Without authentication, your cluster could be accessible to anyone. See https://www.elastic.co/guide/en/elasticsearch/reference/7.17/security-minimal-setup.html to enable security.\n",
      "  warnings.warn(message, category=ElasticsearchWarning)\n"
     ]
    }
   ],
   "source": [
    "  \n",
    "index_name = \"emo31\"\n",
    "request = '''{\"query\": {\"match_all\": {}}}'''\n",
    "results = client.search(index=index_name, body=request,size = 100)['hits']['hits']\n",
    "print(results)"
   ]
  },
  {
   "cell_type": "code",
   "execution_count": 14,
   "id": "c1928217",
   "metadata": {},
   "outputs": [
    {
     "name": "stdout",
     "output_type": "stream",
     "text": [
      "[{'_index': 'emo31', '_type': 'emojis', '_id': 'J72sFYUBDqVhmJIZoIW7', '_score': 6.634506, '_source': {'id': 196, 'emoji': '👄', 'meaning': ['mouth', 'mouth', 'kiss']}}, {'_index': 'emo31', '_type': 'emojis', '_id': 'R4anrIUBOSZGbDlKy07z', '_score': 6.634506, '_source': {'id': 196, 'emoji': '👄', 'meaning': ['mouth', 'mouth', 'kiss']}}, {'_index': 'emo31', '_type': 'emojis', '_id': 'db2sFYUBDqVhmJIZoIS7', '_score': 6.0449953, '_source': {'id': 107, 'emoji': '😽', 'meaning': ['kissing_cat', 'animal', 'cats', 'kiss']}}, {'_index': 'emo31', '_type': 'emojis', '_id': 'lYanrIUBOSZGbDlKy03z', '_score': 6.0449953, '_source': {'id': 107, 'emoji': '😽', 'meaning': ['kissing_cat', 'animal', 'cats', 'kiss']}}, {'_index': 'emo31', '_type': 'emojis', '_id': 'x72sFYUBDqVhmJIZoIO7', '_score': 5.132836, '_source': {'id': 20, 'emoji': '😙', 'meaning': ['kissing_face_with_smiling_eyes', 'face', 'affection', 'valentines', 'infatuation', 'kiss']}}, {'_index': 'emo31', '_type': 'emojis', '_id': '54anrIUBOSZGbDlKy0zy', '_score': 5.132836, '_source': {'id': 20, 'emoji': '😙', 'meaning': ['kissing_face_with_smiling_eyes', 'face', 'affection', 'valentines', 'infatuation', 'kiss']}}, {'_index': 'emo31', '_type': 'emojis', '_id': 'Gb2sFYUBDqVhmJIZoYcN', '_score': 4.772744, '_source': {'id': 445, 'emoji': '💏', 'meaning': ['kiss', 'pair', 'valentines', 'love', 'like', 'dating', 'marriage']}}, {'_index': 'emo31', '_type': 'emojis', '_id': 'OYanrIUBOSZGbDlKzFA1', '_score': 4.772744, '_source': {'id': 445, 'emoji': '💏', 'meaning': ['kiss', 'pair', 'valentines', 'love', 'like', 'dating', 'marriage']}}, {'_index': 'emo31', '_type': 'emojis', '_id': 'v72sFYUBDqVhmJIZoIO7', '_score': 4.4598646, '_source': {'id': 16, 'emoji': '😘', 'meaning': ['face_blowing_a_kiss', 'face', 'love', 'like', 'affection', 'valentines', 'infatuation', 'kiss']}}, {'_index': 'emo31', '_type': 'emojis', '_id': 'wb2sFYUBDqVhmJIZoIO7', '_score': 4.4598646, '_source': {'id': 17, 'emoji': '😗', 'meaning': ['kissing_face', 'love', 'like', 'face', '3', 'valentines', 'infatuation', 'kiss']}}, {'_index': 'emo31', '_type': 'emojis', '_id': 'xb2sFYUBDqVhmJIZoIO7', '_score': 4.4598646, '_source': {'id': 19, 'emoji': '😚', 'meaning': ['kissing_face_with_closed_eyes', 'face', 'love', 'like', 'affection', 'valentines', 'infatuation', 'kiss']}}, {'_index': 'emo31', '_type': 'emojis', '_id': '34anrIUBOSZGbDlKy0zy', '_score': 4.4598646, '_source': {'id': 16, 'emoji': '😘', 'meaning': ['face_blowing_a_kiss', 'face', 'love', 'like', 'affection', 'valentines', 'infatuation', 'kiss']}}, {'_index': 'emo31', '_type': 'emojis', '_id': '4YanrIUBOSZGbDlKy0zy', '_score': 4.4598646, '_source': {'id': 17, 'emoji': '😗', 'meaning': ['kissing_face', 'love', 'like', 'face', '3', 'valentines', 'infatuation', 'kiss']}}, {'_index': 'emo31', '_type': 'emojis', '_id': '5YanrIUBOSZGbDlKy0zy', '_score': 4.4598646, '_source': {'id': 19, 'emoji': '😚', 'meaning': ['kissing_face_with_closed_eyes', 'face', 'love', 'like', 'affection', 'valentines', 'infatuation', 'kiss']}}]\n"
     ]
    },
    {
     "name": "stderr",
     "output_type": "stream",
     "text": [
      "/Users/anureddy/Library/Python/3.7/lib/python/site-packages/ipykernel_launcher.py:2: DeprecationWarning: The 'body' parameter is deprecated for the 'search' API and will be removed in a future version. Instead use API parameters directly. See https://github.com/elastic/elasticsearch-py/issues/1698 for more information\n",
      "  \n"
     ]
    }
   ],
   "source": [
    "#ES search query for a specific word (testcase)\n",
    "request = '''{\"query\": {\"match\": { \"meaning\":\"kiss\"}}}'''\n",
    "results = client.search(index=index_name, body=request,size = 100)['hits']['hits']\n",
    "print(results)"
   ]
  },
  {
   "cell_type": "code",
   "execution_count": 30,
   "id": "17601bdf",
   "metadata": {},
   "outputs": [
    {
     "data": {
      "text/plain": [
       "[['mouth', 'mouth', 'kiss'],\n",
       " ['mouth', 'mouth', 'kiss'],\n",
       " ['kissing_cat', 'animal', 'cats', 'kiss'],\n",
       " ['kissing_cat', 'animal', 'cats', 'kiss'],\n",
       " ['kissing_face_with_smiling_eyes',\n",
       "  'face',\n",
       "  'affection',\n",
       "  'valentines',\n",
       "  'infatuation',\n",
       "  'kiss'],\n",
       " ['kissing_face_with_smiling_eyes',\n",
       "  'face',\n",
       "  'affection',\n",
       "  'valentines',\n",
       "  'infatuation',\n",
       "  'kiss'],\n",
       " ['kiss', 'pair', 'valentines', 'love', 'like', 'dating', 'marriage'],\n",
       " ['kiss', 'pair', 'valentines', 'love', 'like', 'dating', 'marriage'],\n",
       " ['face_blowing_a_kiss',\n",
       "  'face',\n",
       "  'love',\n",
       "  'like',\n",
       "  'affection',\n",
       "  'valentines',\n",
       "  'infatuation',\n",
       "  'kiss'],\n",
       " ['kissing_face',\n",
       "  'love',\n",
       "  'like',\n",
       "  'face',\n",
       "  '3',\n",
       "  'valentines',\n",
       "  'infatuation',\n",
       "  'kiss'],\n",
       " ['kissing_face_with_closed_eyes',\n",
       "  'face',\n",
       "  'love',\n",
       "  'like',\n",
       "  'affection',\n",
       "  'valentines',\n",
       "  'infatuation',\n",
       "  'kiss'],\n",
       " ['face_blowing_a_kiss',\n",
       "  'face',\n",
       "  'love',\n",
       "  'like',\n",
       "  'affection',\n",
       "  'valentines',\n",
       "  'infatuation',\n",
       "  'kiss'],\n",
       " ['kissing_face',\n",
       "  'love',\n",
       "  'like',\n",
       "  'face',\n",
       "  '3',\n",
       "  'valentines',\n",
       "  'infatuation',\n",
       "  'kiss'],\n",
       " ['kissing_face_with_closed_eyes',\n",
       "  'face',\n",
       "  'love',\n",
       "  'like',\n",
       "  'affection',\n",
       "  'valentines',\n",
       "  'infatuation',\n",
       "  'kiss']]"
      ]
     },
     "execution_count": 30,
     "metadata": {},
     "output_type": "execute_result"
    }
   ],
   "source": [
    "[d['_source']['meaning'] for d in results]"
   ]
  },
  {
   "cell_type": "code",
   "execution_count": 34,
   "id": "214dc388",
   "metadata": {},
   "outputs": [],
   "source": [
    "\"\"\"remove stop words,\n",
    "perform a word association based on twitter corpus.\n",
    "perform ES query based on associated words.\n",
    "return: corresponding word and associated emoji as list of tuple.\n",
    "NOTE: not finished. \"\"\"\n",
    "\n",
    "def emoji_search(input_str):\n",
    "    emoji_search_results = []\n",
    "    en_stops = set(nltk.corpus.stopwords.words('english'))\n",
    "    word_list = [x.strip() for x in input_str.split(\" \")]\n",
    "    model = Word2Vec.load('model.bin')\n",
    "    for word in word_list:\n",
    "        if word not in en_stops:\n",
    "            # perform association\n",
    "            association_list = model.wv.most_similar(word)\n",
    "            # perform emoji search\n",
    "            for word_associated in association_list:\n",
    "            # TODO: search for emoji with keywords related\n",
    "            # store in list_of_emoji\n",
    "            # TODO: return word_associated with associated emoji\n",
    "                emoji_search_results.append(word,list_of_emoji)\n",
    "    return emoji_search_results\n",
    "    # TODO: can also based on api to reversedictionary.com\n",
    "    # which gives associated words to noun phrases: \n",
    "    # 1. extract noun phrases with nlp().noun_chunks,2.search\n",
    "    # the phrase up in reversedictionary.com, and\n",
    "    # 3.perform query with ES in emoji dataset with obtained \n",
    "    # set of words."
   ]
  },
  {
   "cell_type": "code",
   "execution_count": null,
   "id": "c58b8640",
   "metadata": {},
   "outputs": [],
   "source": [
    "\"\"\"The general function that would \n",
    "translate input to sentence with slang&emoji.\n",
    "return&print translated sentence.\n",
    "To be continued.\n",
    "\"\"\"\n",
    "def translation_style(input_str):\n",
    "    "
   ]
  }
 ],
 "metadata": {
  "kernelspec": {
   "display_name": "Python 3",
   "language": "python",
   "name": "python3"
  },
  "language_info": {
   "codemirror_mode": {
    "name": "ipython",
    "version": 3
   },
   "file_extension": ".py",
   "mimetype": "text/x-python",
   "name": "python",
   "nbconvert_exporter": "python",
   "pygments_lexer": "ipython3",
   "version": "3.7.7rc1"
  },
  "vscode": {
   "interpreter": {
    "hash": "aee8b7b246df8f9039afb4144a1f6fd8d2ca17a180786b69acc140d282b71a49"
   }
  }
 },
 "nbformat": 4,
 "nbformat_minor": 5
}
