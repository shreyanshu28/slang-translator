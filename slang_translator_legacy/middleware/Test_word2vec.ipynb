{
 "cells": [
  {
   "cell_type": "code",
   "execution_count": 1,
   "id": "5e02de9f",
   "metadata": {},
   "outputs": [],
   "source": [
    "from nltk.tokenize import sent_tokenize, word_tokenize\n",
    "import gensim\n",
    "from gensim.models import Word2Vec\n",
    "import pandas as pd\n",
    "import nltk\n",
    "import emoji\n",
    "import spacy"
   ]
  },
  {
   "cell_type": "code",
   "execution_count": 11,
   "id": "6f3e58eb",
   "metadata": {},
   "outputs": [],
   "source": [
    "model = Word2Vec.load('model.bin')\n",
    "nlp = spacy.load('en_core_web_lg')"
   ]
  },
  {
   "cell_type": "code",
   "execution_count": 17,
   "id": "b23e4cee",
   "metadata": {},
   "outputs": [],
   "source": [
    "word_test = \"lord\""
   ]
  },
  {
   "cell_type": "code",
   "execution_count": 18,
   "id": "a67e7925",
   "metadata": {},
   "outputs": [
    {
     "name": "stdout",
     "output_type": "stream",
     "text": [
      "[('christ', 0.9391962289810181), ('jesus', 0.9371309876441956), ('sisnrt', 0.926536500453949)]\n"
     ]
    }
   ],
   "source": [
    "# relevant but th dataset is too small\n",
    "# so it displays obvious bias\n",
    "word_list = model.wv.most_similar(positive=[word_test]) #association\n",
    "print(word_list[:3])"
   ]
  },
  {
   "cell_type": "code",
   "execution_count": 20,
   "id": "675f7cf3",
   "metadata": {},
   "outputs": [],
   "source": [
    "def word_similarity(word1,word2):\n",
    "    words = (\" \").join([word1,word2])\n",
    "    tokens = nlp(words)\n",
    "\n",
    "    for token in tokens:\n",
    "        print(token.text, token.has_vector, token.vector_norm, token.is_oov)\n",
    "\n",
    "    token1, token2 = tokens[0], tokens[1]\n",
    "\n",
    "    print(\"Similarity:\", token1.similarity(token2))"
   ]
  },
  {
   "cell_type": "code",
   "execution_count": 21,
   "id": "0c0cf8c8",
   "metadata": {},
   "outputs": [
    {
     "name": "stdout",
     "output_type": "stream",
     "text": [
      "christ True 30.803366 False\n",
      "lord True 47.71571 False\n",
      "Similarity: 0.30853256583213806\n",
      "jesus True 28.200232 False\n",
      "lord True 47.71571 False\n",
      "Similarity: 0.34373974800109863\n",
      "sisnrt False 0.0 True\n",
      "lord True 47.71571 False\n",
      "Similarity: 0.0\n"
     ]
    },
    {
     "name": "stderr",
     "output_type": "stream",
     "text": [
      "C:\\Users\\HP\\AppData\\Local\\Temp\\ipykernel_15784\\2282367946.py:10: UserWarning: [W008] Evaluating Token.similarity based on empty vectors.\n",
      "  print(\"Similarity:\", token1.similarity(token2))\n"
     ]
    }
   ],
   "source": [
    "words = word_list[:3]\n",
    "for word_tuple in words:\n",
    "    word = word_tuple[0]\n",
    "    word_similarity(word,word_test)"
   ]
  }
 ],
 "metadata": {
  "kernelspec": {
   "display_name": "Python 3 (ipykernel)",
   "language": "python",
   "name": "python3"
  },
  "language_info": {
   "codemirror_mode": {
    "name": "ipython",
    "version": 3
   },
   "file_extension": ".py",
   "mimetype": "text/x-python",
   "name": "python",
   "nbconvert_exporter": "python",
   "pygments_lexer": "ipython3",
   "version": "3.9.13"
  }
 },
 "nbformat": 4,
 "nbformat_minor": 5
}
